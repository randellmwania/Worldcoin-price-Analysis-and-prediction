{
 "cells": [
  {
   "cell_type": "markdown",
   "metadata": {},
   "source": [
    "# WorldCoin Price Analysis and Prediction"
   ]
  },
  {
   "cell_type": "markdown",
   "metadata": {},
   "source": [
    "### Import Necessary Libraries"
   ]
  },
  {
   "cell_type": "code",
   "execution_count": 1,
   "metadata": {},
   "outputs": [],
   "source": [
    "import pandas as pd\n",
    "import matplotlib.pyplot as plt\n",
    "import seaborn as sns\n",
    "\n",
    "from sklearn.model_selection import train_test_split\n",
    "from sklearn.ensemble import  RandomForestRegressor\n",
    "from sklearn.metrics import mean_squared_error\n",
    "from sklearn.linear_model import LinearRegression\n",
    "from sklearn.ensemble import GradientBoostingRegressor\n",
    "from sklearn.svm import SVR\n"
   ]
  },
  {
   "cell_type": "markdown",
   "metadata": {},
   "source": [
    "### Data Exploration"
   ]
  },
  {
   "cell_type": "code",
   "execution_count": 2,
   "metadata": {},
   "outputs": [
    {
     "data": {
      "text/html": [
       "<div>\n",
       "<style scoped>\n",
       "    .dataframe tbody tr th:only-of-type {\n",
       "        vertical-align: middle;\n",
       "    }\n",
       "\n",
       "    .dataframe tbody tr th {\n",
       "        vertical-align: top;\n",
       "    }\n",
       "\n",
       "    .dataframe thead th {\n",
       "        text-align: right;\n",
       "    }\n",
       "</style>\n",
       "<table border=\"1\" class=\"dataframe\">\n",
       "  <thead>\n",
       "    <tr style=\"text-align: right;\">\n",
       "      <th></th>\n",
       "      <th>Start</th>\n",
       "      <th>End</th>\n",
       "      <th>Open</th>\n",
       "      <th>High</th>\n",
       "      <th>Low</th>\n",
       "      <th>Close</th>\n",
       "      <th>Volume</th>\n",
       "      <th>Market Cap</th>\n",
       "    </tr>\n",
       "  </thead>\n",
       "  <tbody>\n",
       "    <tr>\n",
       "      <th>0</th>\n",
       "      <td>2024-05-12</td>\n",
       "      <td>2024-05-13</td>\n",
       "      <td>765.162215</td>\n",
       "      <td>794.738781</td>\n",
       "      <td>758.432278</td>\n",
       "      <td>786.253298</td>\n",
       "      <td>9.331902e+10</td>\n",
       "      <td>1.635644e+11</td>\n",
       "    </tr>\n",
       "    <tr>\n",
       "      <th>1</th>\n",
       "      <td>2024-05-11</td>\n",
       "      <td>2024-05-12</td>\n",
       "      <td>724.398667</td>\n",
       "      <td>795.178822</td>\n",
       "      <td>721.563159</td>\n",
       "      <td>760.759065</td>\n",
       "      <td>1.361883e+11</td>\n",
       "      <td>1.596975e+11</td>\n",
       "    </tr>\n",
       "    <tr>\n",
       "      <th>2</th>\n",
       "      <td>2024-05-10</td>\n",
       "      <td>2024-05-11</td>\n",
       "      <td>739.417949</td>\n",
       "      <td>800.692547</td>\n",
       "      <td>707.797596</td>\n",
       "      <td>719.319684</td>\n",
       "      <td>1.277384e+11</td>\n",
       "      <td>1.561841e+11</td>\n",
       "    </tr>\n",
       "    <tr>\n",
       "      <th>3</th>\n",
       "      <td>2024-05-09</td>\n",
       "      <td>2024-05-10</td>\n",
       "      <td>708.778239</td>\n",
       "      <td>757.156844</td>\n",
       "      <td>708.446038</td>\n",
       "      <td>744.046408</td>\n",
       "      <td>1.157283e+11</td>\n",
       "      <td>1.499111e+11</td>\n",
       "    </tr>\n",
       "    <tr>\n",
       "      <th>4</th>\n",
       "      <td>2024-05-08</td>\n",
       "      <td>2024-05-09</td>\n",
       "      <td>783.298361</td>\n",
       "      <td>784.752847</td>\n",
       "      <td>690.718804</td>\n",
       "      <td>708.496971</td>\n",
       "      <td>1.322596e+11</td>\n",
       "      <td>1.544619e+11</td>\n",
       "    </tr>\n",
       "  </tbody>\n",
       "</table>\n",
       "</div>"
      ],
      "text/plain": [
       "        Start         End        Open        High         Low       Close  \\\n",
       "0  2024-05-12  2024-05-13  765.162215  794.738781  758.432278  786.253298   \n",
       "1  2024-05-11  2024-05-12  724.398667  795.178822  721.563159  760.759065   \n",
       "2  2024-05-10  2024-05-11  739.417949  800.692547  707.797596  719.319684   \n",
       "3  2024-05-09  2024-05-10  708.778239  757.156844  708.446038  744.046408   \n",
       "4  2024-05-08  2024-05-09  783.298361  784.752847  690.718804  708.496971   \n",
       "\n",
       "         Volume    Market Cap  \n",
       "0  9.331902e+10  1.635644e+11  \n",
       "1  1.361883e+11  1.596975e+11  \n",
       "2  1.277384e+11  1.561841e+11  \n",
       "3  1.157283e+11  1.499111e+11  \n",
       "4  1.322596e+11  1.544619e+11  "
      ]
     },
     "execution_count": 2,
     "metadata": {},
     "output_type": "execute_result"
    }
   ],
   "source": [
    "df = pd.read_csv(\"worldcoin-org_2023-07-24_2024-05-13.csv\")\n",
    "df.head()"
   ]
  },
  {
   "cell_type": "markdown",
   "metadata": {},
   "source": [
    "### Data cleaning"
   ]
  },
  {
   "cell_type": "code",
   "execution_count": 3,
   "metadata": {},
   "outputs": [],
   "source": [
    "df['Start'] = pd.to_datetime(df['Start'])\n",
    "df['End'] = pd.to_datetime(df['End'])"
   ]
  },
  {
   "cell_type": "code",
   "execution_count": 4,
   "metadata": {},
   "outputs": [
    {
     "data": {
      "text/html": [
       "<div>\n",
       "<style scoped>\n",
       "    .dataframe tbody tr th:only-of-type {\n",
       "        vertical-align: middle;\n",
       "    }\n",
       "\n",
       "    .dataframe tbody tr th {\n",
       "        vertical-align: top;\n",
       "    }\n",
       "\n",
       "    .dataframe thead th {\n",
       "        text-align: right;\n",
       "    }\n",
       "</style>\n",
       "<table border=\"1\" class=\"dataframe\">\n",
       "  <thead>\n",
       "    <tr style=\"text-align: right;\">\n",
       "      <th></th>\n",
       "      <th>Start</th>\n",
       "      <th>End</th>\n",
       "      <th>Open</th>\n",
       "      <th>High</th>\n",
       "      <th>Low</th>\n",
       "      <th>Close</th>\n",
       "      <th>Volume</th>\n",
       "      <th>Market Cap</th>\n",
       "    </tr>\n",
       "  </thead>\n",
       "  <tbody>\n",
       "    <tr>\n",
       "      <th>0</th>\n",
       "      <td>2024-05-12</td>\n",
       "      <td>2024-05-13</td>\n",
       "      <td>765.162215</td>\n",
       "      <td>794.738781</td>\n",
       "      <td>758.432278</td>\n",
       "      <td>786.253298</td>\n",
       "      <td>9.331902e+10</td>\n",
       "      <td>1.635644e+11</td>\n",
       "    </tr>\n",
       "    <tr>\n",
       "      <th>1</th>\n",
       "      <td>2024-05-11</td>\n",
       "      <td>2024-05-12</td>\n",
       "      <td>724.398667</td>\n",
       "      <td>795.178822</td>\n",
       "      <td>721.563159</td>\n",
       "      <td>760.759065</td>\n",
       "      <td>1.361883e+11</td>\n",
       "      <td>1.596975e+11</td>\n",
       "    </tr>\n",
       "    <tr>\n",
       "      <th>2</th>\n",
       "      <td>2024-05-10</td>\n",
       "      <td>2024-05-11</td>\n",
       "      <td>739.417949</td>\n",
       "      <td>800.692547</td>\n",
       "      <td>707.797596</td>\n",
       "      <td>719.319684</td>\n",
       "      <td>1.277384e+11</td>\n",
       "      <td>1.561841e+11</td>\n",
       "    </tr>\n",
       "    <tr>\n",
       "      <th>3</th>\n",
       "      <td>2024-05-09</td>\n",
       "      <td>2024-05-10</td>\n",
       "      <td>708.778239</td>\n",
       "      <td>757.156844</td>\n",
       "      <td>708.446038</td>\n",
       "      <td>744.046408</td>\n",
       "      <td>1.157283e+11</td>\n",
       "      <td>1.499111e+11</td>\n",
       "    </tr>\n",
       "    <tr>\n",
       "      <th>4</th>\n",
       "      <td>2024-05-08</td>\n",
       "      <td>2024-05-09</td>\n",
       "      <td>783.298361</td>\n",
       "      <td>784.752847</td>\n",
       "      <td>690.718804</td>\n",
       "      <td>708.496971</td>\n",
       "      <td>1.322596e+11</td>\n",
       "      <td>1.544619e+11</td>\n",
       "    </tr>\n",
       "    <tr>\n",
       "      <th>...</th>\n",
       "      <td>...</td>\n",
       "      <td>...</td>\n",
       "      <td>...</td>\n",
       "      <td>...</td>\n",
       "      <td>...</td>\n",
       "      <td>...</td>\n",
       "      <td>...</td>\n",
       "      <td>...</td>\n",
       "    </tr>\n",
       "    <tr>\n",
       "      <th>289</th>\n",
       "      <td>2023-07-28</td>\n",
       "      <td>2023-07-29</td>\n",
       "      <td>272.412629</td>\n",
       "      <td>293.106284</td>\n",
       "      <td>270.623024</td>\n",
       "      <td>292.196668</td>\n",
       "      <td>6.144979e+10</td>\n",
       "      <td>2.986835e+10</td>\n",
       "    </tr>\n",
       "    <tr>\n",
       "      <th>290</th>\n",
       "      <td>2023-07-27</td>\n",
       "      <td>2023-07-28</td>\n",
       "      <td>294.276033</td>\n",
       "      <td>302.620373</td>\n",
       "      <td>274.856671</td>\n",
       "      <td>276.183124</td>\n",
       "      <td>9.694813e+10</td>\n",
       "      <td>3.038774e+10</td>\n",
       "    </tr>\n",
       "    <tr>\n",
       "      <th>291</th>\n",
       "      <td>2023-07-26</td>\n",
       "      <td>2023-07-27</td>\n",
       "      <td>300.593491</td>\n",
       "      <td>328.818293</td>\n",
       "      <td>288.924853</td>\n",
       "      <td>295.806895</td>\n",
       "      <td>1.937506e+11</td>\n",
       "      <td>3.235939e+10</td>\n",
       "    </tr>\n",
       "    <tr>\n",
       "      <th>292</th>\n",
       "      <td>2023-07-25</td>\n",
       "      <td>2023-07-26</td>\n",
       "      <td>285.010733</td>\n",
       "      <td>316.747323</td>\n",
       "      <td>251.598869</td>\n",
       "      <td>299.798447</td>\n",
       "      <td>1.777222e+11</td>\n",
       "      <td>2.956506e+10</td>\n",
       "    </tr>\n",
       "    <tr>\n",
       "      <th>293</th>\n",
       "      <td>2023-07-24</td>\n",
       "      <td>2023-07-25</td>\n",
       "      <td>238.270553</td>\n",
       "      <td>423.602408</td>\n",
       "      <td>232.498746</td>\n",
       "      <td>289.824755</td>\n",
       "      <td>6.153638e+10</td>\n",
       "      <td>2.970510e+10</td>\n",
       "    </tr>\n",
       "  </tbody>\n",
       "</table>\n",
       "<p>294 rows × 8 columns</p>\n",
       "</div>"
      ],
      "text/plain": [
       "         Start        End        Open        High         Low       Close  \\\n",
       "0   2024-05-12 2024-05-13  765.162215  794.738781  758.432278  786.253298   \n",
       "1   2024-05-11 2024-05-12  724.398667  795.178822  721.563159  760.759065   \n",
       "2   2024-05-10 2024-05-11  739.417949  800.692547  707.797596  719.319684   \n",
       "3   2024-05-09 2024-05-10  708.778239  757.156844  708.446038  744.046408   \n",
       "4   2024-05-08 2024-05-09  783.298361  784.752847  690.718804  708.496971   \n",
       "..         ...        ...         ...         ...         ...         ...   \n",
       "289 2023-07-28 2023-07-29  272.412629  293.106284  270.623024  292.196668   \n",
       "290 2023-07-27 2023-07-28  294.276033  302.620373  274.856671  276.183124   \n",
       "291 2023-07-26 2023-07-27  300.593491  328.818293  288.924853  295.806895   \n",
       "292 2023-07-25 2023-07-26  285.010733  316.747323  251.598869  299.798447   \n",
       "293 2023-07-24 2023-07-25  238.270553  423.602408  232.498746  289.824755   \n",
       "\n",
       "           Volume    Market Cap  \n",
       "0    9.331902e+10  1.635644e+11  \n",
       "1    1.361883e+11  1.596975e+11  \n",
       "2    1.277384e+11  1.561841e+11  \n",
       "3    1.157283e+11  1.499111e+11  \n",
       "4    1.322596e+11  1.544619e+11  \n",
       "..            ...           ...  \n",
       "289  6.144979e+10  2.986835e+10  \n",
       "290  9.694813e+10  3.038774e+10  \n",
       "291  1.937506e+11  3.235939e+10  \n",
       "292  1.777222e+11  2.956506e+10  \n",
       "293  6.153638e+10  2.970510e+10  \n",
       "\n",
       "[294 rows x 8 columns]"
      ]
     },
     "execution_count": 4,
     "metadata": {},
     "output_type": "execute_result"
    }
   ],
   "source": [
    "df"
   ]
  },
  {
   "cell_type": "code",
   "execution_count": 5,
   "metadata": {},
   "outputs": [
    {
     "data": {
      "text/html": [
       "<div>\n",
       "<style scoped>\n",
       "    .dataframe tbody tr th:only-of-type {\n",
       "        vertical-align: middle;\n",
       "    }\n",
       "\n",
       "    .dataframe tbody tr th {\n",
       "        vertical-align: top;\n",
       "    }\n",
       "\n",
       "    .dataframe thead th {\n",
       "        text-align: right;\n",
       "    }\n",
       "</style>\n",
       "<table border=\"1\" class=\"dataframe\">\n",
       "  <thead>\n",
       "    <tr style=\"text-align: right;\">\n",
       "      <th></th>\n",
       "      <th>Start</th>\n",
       "      <th>End</th>\n",
       "      <th>Open</th>\n",
       "      <th>High</th>\n",
       "      <th>Low</th>\n",
       "      <th>Close</th>\n",
       "      <th>Volume</th>\n",
       "      <th>Market Cap</th>\n",
       "    </tr>\n",
       "  </thead>\n",
       "  <tbody>\n",
       "    <tr>\n",
       "      <th>count</th>\n",
       "      <td>294</td>\n",
       "      <td>294</td>\n",
       "      <td>294.000000</td>\n",
       "      <td>294.000000</td>\n",
       "      <td>294.000000</td>\n",
       "      <td>294.000000</td>\n",
       "      <td>2.940000e+02</td>\n",
       "      <td>2.940000e+02</td>\n",
       "    </tr>\n",
       "    <tr>\n",
       "      <th>mean</th>\n",
       "      <td>2023-12-17 12:00:00</td>\n",
       "      <td>2023-12-18 12:00:00</td>\n",
       "      <td>465.668889</td>\n",
       "      <td>495.312674</td>\n",
       "      <td>441.766242</td>\n",
       "      <td>467.501196</td>\n",
       "      <td>9.082237e+10</td>\n",
       "      <td>6.761172e+10</td>\n",
       "    </tr>\n",
       "    <tr>\n",
       "      <th>min</th>\n",
       "      <td>2023-07-24 00:00:00</td>\n",
       "      <td>2023-07-25 00:00:00</td>\n",
       "      <td>132.592704</td>\n",
       "      <td>136.389706</td>\n",
       "      <td>128.023607</td>\n",
       "      <td>132.383912</td>\n",
       "      <td>1.148893e+10</td>\n",
       "      <td>1.731861e+10</td>\n",
       "    </tr>\n",
       "    <tr>\n",
       "      <th>25%</th>\n",
       "      <td>2023-10-05 06:00:00</td>\n",
       "      <td>2023-10-06 06:00:00</td>\n",
       "      <td>232.883231</td>\n",
       "      <td>240.944178</td>\n",
       "      <td>222.084983</td>\n",
       "      <td>233.005449</td>\n",
       "      <td>2.984828e+10</td>\n",
       "      <td>2.769024e+10</td>\n",
       "    </tr>\n",
       "    <tr>\n",
       "      <th>50%</th>\n",
       "      <td>2023-12-17 12:00:00</td>\n",
       "      <td>2023-12-18 12:00:00</td>\n",
       "      <td>322.133279</td>\n",
       "      <td>336.482916</td>\n",
       "      <td>310.028880</td>\n",
       "      <td>323.379428</td>\n",
       "      <td>5.327106e+10</td>\n",
       "      <td>3.837921e+10</td>\n",
       "    </tr>\n",
       "    <tr>\n",
       "      <th>75%</th>\n",
       "      <td>2024-02-28 18:00:00</td>\n",
       "      <td>2024-02-29 18:00:00</td>\n",
       "      <td>646.346266</td>\n",
       "      <td>677.116750</td>\n",
       "      <td>607.161784</td>\n",
       "      <td>648.061252</td>\n",
       "      <td>1.030183e+11</td>\n",
       "      <td>1.220112e+11</td>\n",
       "    </tr>\n",
       "    <tr>\n",
       "      <th>max</th>\n",
       "      <td>2024-05-12 00:00:00</td>\n",
       "      <td>2024-05-13 00:00:00</td>\n",
       "      <td>1532.731309</td>\n",
       "      <td>1547.556307</td>\n",
       "      <td>1237.298791</td>\n",
       "      <td>1521.231421</td>\n",
       "      <td>5.841196e+11</td>\n",
       "      <td>1.972445e+11</td>\n",
       "    </tr>\n",
       "    <tr>\n",
       "      <th>std</th>\n",
       "      <td>NaN</td>\n",
       "      <td>NaN</td>\n",
       "      <td>321.355976</td>\n",
       "      <td>344.145396</td>\n",
       "      <td>299.641779</td>\n",
       "      <td>321.490257</td>\n",
       "      <td>1.026437e+11</td>\n",
       "      <td>5.598762e+10</td>\n",
       "    </tr>\n",
       "  </tbody>\n",
       "</table>\n",
       "</div>"
      ],
      "text/plain": [
       "                     Start                  End         Open         High  \\\n",
       "count                  294                  294   294.000000   294.000000   \n",
       "mean   2023-12-17 12:00:00  2023-12-18 12:00:00   465.668889   495.312674   \n",
       "min    2023-07-24 00:00:00  2023-07-25 00:00:00   132.592704   136.389706   \n",
       "25%    2023-10-05 06:00:00  2023-10-06 06:00:00   232.883231   240.944178   \n",
       "50%    2023-12-17 12:00:00  2023-12-18 12:00:00   322.133279   336.482916   \n",
       "75%    2024-02-28 18:00:00  2024-02-29 18:00:00   646.346266   677.116750   \n",
       "max    2024-05-12 00:00:00  2024-05-13 00:00:00  1532.731309  1547.556307   \n",
       "std                    NaN                  NaN   321.355976   344.145396   \n",
       "\n",
       "               Low        Close        Volume    Market Cap  \n",
       "count   294.000000   294.000000  2.940000e+02  2.940000e+02  \n",
       "mean    441.766242   467.501196  9.082237e+10  6.761172e+10  \n",
       "min     128.023607   132.383912  1.148893e+10  1.731861e+10  \n",
       "25%     222.084983   233.005449  2.984828e+10  2.769024e+10  \n",
       "50%     310.028880   323.379428  5.327106e+10  3.837921e+10  \n",
       "75%     607.161784   648.061252  1.030183e+11  1.220112e+11  \n",
       "max    1237.298791  1521.231421  5.841196e+11  1.972445e+11  \n",
       "std     299.641779   321.490257  1.026437e+11  5.598762e+10  "
      ]
     },
     "execution_count": 5,
     "metadata": {},
     "output_type": "execute_result"
    }
   ],
   "source": [
    "df.describe()"
   ]
  },
  {
   "cell_type": "code",
   "execution_count": 6,
   "metadata": {},
   "outputs": [
    {
     "name": "stdout",
     "output_type": "stream",
     "text": [
      "<class 'pandas.core.frame.DataFrame'>\n",
      "RangeIndex: 294 entries, 0 to 293\n",
      "Data columns (total 8 columns):\n",
      " #   Column      Non-Null Count  Dtype         \n",
      "---  ------      --------------  -----         \n",
      " 0   Start       294 non-null    datetime64[ns]\n",
      " 1   End         294 non-null    datetime64[ns]\n",
      " 2   Open        294 non-null    float64       \n",
      " 3   High        294 non-null    float64       \n",
      " 4   Low         294 non-null    float64       \n",
      " 5   Close       294 non-null    float64       \n",
      " 6   Volume      294 non-null    float64       \n",
      " 7   Market Cap  294 non-null    float64       \n",
      "dtypes: datetime64[ns](2), float64(6)\n",
      "memory usage: 18.5 KB\n"
     ]
    }
   ],
   "source": [
    "df.info()"
   ]
  },
  {
   "cell_type": "markdown",
   "metadata": {},
   "source": [
    "### EDA"
   ]
  },
  {
   "cell_type": "code",
   "execution_count": 7,
   "metadata": {},
   "outputs": [
    {
     "name": "stderr",
     "output_type": "stream",
     "text": [
      "c:\\Users\\Randell\\anaconda3\\envs\\learn-env\\lib\\site-packages\\seaborn\\_oldcore.py:1119: FutureWarning: use_inf_as_na option is deprecated and will be removed in a future version. Convert inf values to NaN before operating instead.\n",
      "  with pd.option_context('mode.use_inf_as_na', True):\n"
     ]
    },
    {
     "data": {
      "image/png": "[encoded data removed]",
      "text/plain": [
       "<Figure size 1000x600 with 1 Axes>"
      ]
     },
     "metadata": {},
     "output_type": "display_data"
    }
   ],
   "source": [
    "# Plot the distribution of the target variable 'Close'\n",
    "plt.figure(figsize=(10, 6))\n",
    "sns.histplot(df['Close'], bins=20, kde=True)\n",
    "plt.title('Distribution of Close Price')\n",
    "plt.xlabel('Close Price')\n",
    "plt.ylabel('Frequency')\n",
    "plt.show()"
   ]
  },
  {
   "cell_type": "code",
   "execution_count": 8,
   "metadata": {},
   "outputs": [
    {
     "data": {
      "image/png": "[encoded data removed]",
      "text/plain": [
       "<Figure size 1200x600 with 1 Axes>"
      ]
     },
     "metadata": {},
     "output_type": "display_data"
    }
   ],
   "source": [
    "# Plot time series of 'Close' price\n",
    "plt.figure(figsize=(12, 6))\n",
    "plt.plot(df['End'], df['Close'], linestyle='-')\n",
    "plt.title('Time Series of Close Price')\n",
    "plt.xlabel('Date')\n",
    "plt.ylabel('Close Price')\n",
    "plt.xticks(rotation=45)\n",
    "plt.grid(True)\n",
    "plt.show()"
   ]
  },
  {
   "cell_type": "markdown",
   "metadata": {},
   "source": [
    "### Model Development"
   ]
  },
  {
   "cell_type": "code",
   "execution_count": 9,
   "metadata": {},
   "outputs": [],
   "source": [
    "X = df[[\"Open\", \"High\", \"Low\", \"Volume\", \"Market Cap\"]]\n",
    "y = df[\"Close\"]\n",
    "\n",
    "X_train, X_test, y_train, y_test = train_test_split(X, y, test_size=0.2, random_state=42)"
   ]
  },
  {
   "cell_type": "code",
   "execution_count": 10,
   "metadata": {},
   "outputs": [
    {
     "data": {
      "text/html": [
       "<style>#sk-container-id-1 {color: black;}#sk-container-id-1 pre{padding: 0;}#sk-container-id-1 div.sk-toggleable {background-color: white;}#sk-container-id-1 label.sk-toggleable__label {cursor: pointer;display: block;width: 100%;margin-bottom: 0;padding: 0.3em;box-sizing: border-box;text-align: center;}#sk-container-id-1 label.sk-toggleable__label-arrow:before {content: \"▸\";float: left;margin-right: 0.25em;color: #696969;}#sk-container-id-1 label.sk-toggleable__label-arrow:hover:before {color: black;}#sk-container-id-1 div.sk-estimator:hover label.sk-toggleable__label-arrow:before {color: black;}#sk-container-id-1 div.sk-toggleable__content {max-height: 0;max-width: 0;overflow: hidden;text-align: left;background-color: #f0f8ff;}#sk-container-id-1 div.sk-toggleable__content pre {margin: 0.2em;color: black;border-radius: 0.25em;background-color: #f0f8ff;}#sk-container-id-1 input.sk-toggleable__control:checked~div.sk-toggleable__content {max-height: 200px;max-width: 100%;overflow: auto;}#sk-container-id-1 input.sk-toggleable__control:checked~label.sk-toggleable__label-arrow:before {content: \"▾\";}#sk-container-id-1 div.sk-estimator input.sk-toggleable__control:checked~label.sk-toggleable__label {background-color: #d4ebff;}#sk-container-id-1 div.sk-label input.sk-toggleable__control:checked~label.sk-toggleable__label {background-color: #d4ebff;}#sk-container-id-1 input.sk-hidden--visually {border: 0;clip: rect(1px 1px 1px 1px);clip: rect(1px, 1px, 1px, 1px);height: 1px;margin: -1px;overflow: hidden;padding: 0;position: absolute;width: 1px;}#sk-container-id-1 div.sk-estimator {font-family: monospace;background-color: #f0f8ff;border: 1px dotted black;border-radius: 0.25em;box-sizing: border-box;margin-bottom: 0.5em;}#sk-container-id-1 div.sk-estimator:hover {background-color: #d4ebff;}#sk-container-id-1 div.sk-parallel-item::after {content: \"\";width: 100%;border-bottom: 1px solid gray;flex-grow: 1;}#sk-container-id-1 div.sk-label:hover label.sk-toggleable__label {background-color: #d4ebff;}#sk-container-id-1 div.sk-serial::before {content: \"\";position: absolute;border-left: 1px solid gray;box-sizing: border-box;top: 0;bottom: 0;left: 50%;z-index: 0;}#sk-container-id-1 div.sk-serial {display: flex;flex-direction: column;align-items: center;background-color: white;padding-right: 0.2em;padding-left: 0.2em;position: relative;}#sk-container-id-1 div.sk-item {position: relative;z-index: 1;}#sk-container-id-1 div.sk-parallel {display: flex;align-items: stretch;justify-content: center;background-color: white;position: relative;}#sk-container-id-1 div.sk-item::before, #sk-container-id-1 div.sk-parallel-item::before {content: \"\";position: absolute;border-left: 1px solid gray;box-sizing: border-box;top: 0;bottom: 0;left: 50%;z-index: -1;}#sk-container-id-1 div.sk-parallel-item {display: flex;flex-direction: column;z-index: 1;position: relative;background-color: white;}#sk-container-id-1 div.sk-parallel-item:first-child::after {align-self: flex-end;width: 50%;}#sk-container-id-1 div.sk-parallel-item:last-child::after {align-self: flex-start;width: 50%;}#sk-container-id-1 div.sk-parallel-item:only-child::after {width: 0;}#sk-container-id-1 div.sk-dashed-wrapped {border: 1px dashed gray;margin: 0 0.4em 0.5em 0.4em;box-sizing: border-box;padding-bottom: 0.4em;background-color: white;}#sk-container-id-1 div.sk-label label {font-family: monospace;font-weight: bold;display: inline-block;line-height: 1.2em;}#sk-container-id-1 div.sk-label-container {text-align: center;}#sk-container-id-1 div.sk-container {/* jupyter's `normalize.less` sets `[hidden] { display: none; }` but bootstrap.min.css set `[hidden] { display: none !important; }` so we also need the `!important` here to be able to override the default hidden behavior on the sphinx rendered scikit-learn.org. See: https://github.com/scikit-learn/scikit-learn/issues/21755 */display: inline-block !important;position: relative;}#sk-container-id-1 div.sk-text-repr-fallback {display: none;}</style><div id=\"sk-container-id-1\" class=\"sk-top-container\"><div class=\"sk-text-repr-fallback\"><pre>RandomForestRegressor(random_state=42)</pre><b>In a Jupyter environment, please rerun this cell to show the HTML representation or trust the notebook. <br />On GitHub, the HTML representation is unable to render, please try loading this page with nbviewer.org.</b></div><div class=\"sk-container\" hidden><div class=\"sk-item\"><div class=\"sk-estimator sk-toggleable\"><input class=\"sk-toggleable__control sk-hidden--visually\" id=\"sk-estimator-id-1\" type=\"checkbox\" checked><label for=\"sk-estimator-id-1\" class=\"sk-toggleable__label sk-toggleable__label-arrow\">RandomForestRegressor</label><div class=\"sk-toggleable__content\"><pre>RandomForestRegressor(random_state=42)</pre></div></div></div></div></div>"
      ],
      "text/plain": [
       "RandomForestRegressor(random_state=42)"
      ]
     },
     "execution_count": 10,
     "metadata": {},
     "output_type": "execute_result"
    }
   ],
   "source": [
    "\n",
    "model = RandomForestRegressor(random_state=42)\n",
    "\n",
    "model.fit(X_train, y_train)"
   ]
  },
  {
   "cell_type": "code",
   "execution_count": 11,
   "metadata": {},
   "outputs": [
    {
     "name": "stdout",
     "output_type": "stream",
     "text": [
      "Mean Squared Error: 1164.0841842666464\n"
     ]
    }
   ],
   "source": [
    "\n",
    "y_pred = model.predict(X_test)\n",
    "\n",
    "mse = mean_squared_error(y_test, y_pred)\n",
    "\n",
    "print(\"Mean Squared Error:\",mse)"
   ]
  },
  {
   "cell_type": "code",
   "execution_count": 12,
   "metadata": {},
   "outputs": [
    {
     "name": "stdout",
     "output_type": "stream",
     "text": [
      "Linear Regression Mean Squared Error: 492.37469621517477\n",
      "Gradient Boosting Mean Squared Error: 1067.5454705802308\n",
      "Support Vector Regressor Mean Squared Error: 133072.2192991258\n"
     ]
    }
   ],
   "source": [
    "\n",
    "# Initialize the models\n",
    "linear_reg_model = LinearRegression()\n",
    "gradient_boosting_model = GradientBoostingRegressor(random_state=42)\n",
    "svr_model = SVR()\n",
    "\n",
    "# Train the models\n",
    "linear_reg_model.fit(X_train, y_train)\n",
    "gradient_boosting_model.fit(X_train, y_train)\n",
    "svr_model.fit(X_train, y_train)\n",
    "\n",
    "# Make predictions\n",
    "linear_reg_predictions = linear_reg_model.predict(X_test)\n",
    "gradient_boosting_predictions = gradient_boosting_model.predict(X_test)\n",
    "svr_predictions = svr_model.predict(X_test)\n",
    "\n",
    "# Evaluate the models\n",
    "linear_reg_mse = mean_squared_error(y_test, linear_reg_predictions)\n",
    "gradient_boosting_mse = mean_squared_error(y_test, gradient_boosting_predictions)\n",
    "svr_mse = mean_squared_error(y_test, svr_predictions)\n",
    "\n",
    "print(\"Linear Regression Mean Squared Error:\", linear_reg_mse)\n",
    "print(\"Gradient Boosting Mean Squared Error:\", gradient_boosting_mse)\n",
    "print(\"Support Vector Regressor Mean Squared Error:\", svr_mse)\n"
   ]
  },
  {
   "cell_type": "markdown",
   "metadata": {},
   "source": [
    "### Testing the models"
   ]
  },
  {
   "cell_type": "code",
   "execution_count": 13,
   "metadata": {},
   "outputs": [
    {
     "name": "stdout",
     "output_type": "stream",
     "text": [
      "Please provide input for the trained model:\n",
      "Predicted Close Price: [638.97477237]\n"
     ]
    }
   ],
   "source": [
    "# Request input for the trained model\n",
    "print(\"Please provide input for the trained model:\")\n",
    "open_price = float(input(\"Enter the opening price: \"))\n",
    "high_price = float(input(\"Enter the highest price: \"))\n",
    "low_price = float(input(\"Enter the lowest price: \"))\n",
    "volume = float(input(\"Enter the volume: \"))\n",
    "market_cap = float(input(\"Enter the market cap: \"))\n",
    "\n",
    "# Create a DataFrame with the input data\n",
    "input_data = {\n",
    "    \"Open\": [open_price],\n",
    "    \"High\": [high_price],\n",
    "    \"Low\": [low_price],\n",
    "    \"Volume\": [volume],\n",
    "    \"Market Cap\": [market_cap]\n",
    "}\n",
    "\n",
    "input_df = pd.DataFrame(input_data)\n",
    "\n",
    "# Make prediction using the trained model\n",
    "prediction = model.predict(input_df)\n",
    "print(\"Predicted Close Price:\", prediction)\n"
   ]
  },
  {
   "cell_type": "code",
   "execution_count": null,
   "metadata": {},
   "outputs": [
    {
     "name": "stdout",
     "output_type": "stream",
     "text": [
      "Please provide input for the trained model:\n",
      "Predicted Close Price: [1034.3342983]\n"
     ]
    }
   ],
   "source": [
    "# Request input for the trained model\n",
    "print(\"Please provide input for the trained model:\")\n",
    "open_price = float(input(\"Enter the opening price: \"))\n",
    "high_price = float(input(\"Enter the highest price: \"))\n",
    "low_price = float(input(\"Enter the lowest price: \"))\n",
    "volume = float(input(\"Enter the volume: \"))\n",
    "market_cap = float(input(\"Enter the market cap: \"))\n",
    "\n",
    "# Create a DataFrame with the input data\n",
    "input_data = {\n",
    "    \"Open\": [open_price],\n",
    "    \"High\": [high_price],\n",
    "    \"Low\": [low_price],\n",
    "    \"Volume\": [volume],\n",
    "    \"Market Cap\": [market_cap]\n",
    "}\n",
    "\n",
    "input_df = pd.DataFrame(input_data)\n",
    "\n",
    "# Make prediction using the trained model\n",
    "prediction = linear_reg_model.predict(input_df)\n",
    "print(\"Predicted Close Price:\", prediction)\n"
   ]
  }
 ],
 "metadata": {
  "kernelspec": {
   "display_name": "learn_env",
   "language": "python",
   "name": "python3"
  },
  "language_info": {
   "codemirror_mode": {
    "name": "ipython",
    "version": 3
   },
   "file_extension": ".py",
   "mimetype": "text/x-python",
   "name": "python",
   "nbconvert_exporter": "python",
   "pygments_lexer": "ipython3",
   "version": "3.10.14"
  }
 },
 "nbformat": 4,
 "nbformat_minor": 2
}
