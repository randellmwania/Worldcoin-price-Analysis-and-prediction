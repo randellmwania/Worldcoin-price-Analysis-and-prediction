{
 "cells": [
  {
   "cell_type": "markdown",
   "metadata": {},
   "source": [
    "# WorldCoin Price Analysis and Prediction"
   ]
  },
  {
   "cell_type": "markdown",
   "metadata": {},
   "source": [
    "### Import Necessary Libraries"
   ]
  },
  {
   "cell_type": "code",
   "execution_count": 1,
   "metadata": {},
   "outputs": [],
   "source": [
    "import pandas as pd\n",
    "import matplotlib.pyplot as plt\n",
    "import seaborn as sns\n",
    "\n",
    "from sklearn.model_selection import train_test_split\n",
    "from sklearn.ensemble import  RandomForestRegressor\n",
    "from sklearn.metrics import mean_squared_error\n",
    "from sklearn.linear_model import LinearRegression\n",
    "from sklearn.ensemble import GradientBoostingRegressor\n",
    "from sklearn.svm import SVR\n"
   ]
  },
  {
   "cell_type": "markdown",
   "metadata": {},
   "source": [
    "### Data Exploration"
   ]
  },
  {
   "cell_type": "code",
   "execution_count": 2,
   "metadata": {},
   "outputs": [
    {
     "data": {
      "text/html": [
       "<div>\n",
       "<style scoped>\n",
       "    .dataframe tbody tr th:only-of-type {\n",
       "        vertical-align: middle;\n",
       "    }\n",
       "\n",
       "    .dataframe tbody tr th {\n",
       "        vertical-align: top;\n",
       "    }\n",
       "\n",
       "    .dataframe thead th {\n",
       "        text-align: right;\n",
       "    }\n",
       "</style>\n",
       "<table border=\"1\" class=\"dataframe\">\n",
       "  <thead>\n",
       "    <tr style=\"text-align: right;\">\n",
       "      <th></th>\n",
       "      <th>Start</th>\n",
       "      <th>End</th>\n",
       "      <th>Open</th>\n",
       "      <th>High</th>\n",
       "      <th>Low</th>\n",
       "      <th>Close</th>\n",
       "      <th>Volume</th>\n",
       "      <th>Market Cap</th>\n",
       "    </tr>\n",
       "  </thead>\n",
       "  <tbody>\n",
       "    <tr>\n",
       "      <th>0</th>\n",
       "      <td>2024-04-14</td>\n",
       "      <td>2024-04-15</td>\n",
       "      <td>570.171778</td>\n",
       "      <td>670.487110</td>\n",
       "      <td>556.812927</td>\n",
       "      <td>661.451697</td>\n",
       "      <td>1.857144e+11</td>\n",
       "      <td>1.148259e+11</td>\n",
       "    </tr>\n",
       "    <tr>\n",
       "      <th>1</th>\n",
       "      <td>2024-04-13</td>\n",
       "      <td>2024-04-14</td>\n",
       "      <td>704.601712</td>\n",
       "      <td>712.014992</td>\n",
       "      <td>498.394984</td>\n",
       "      <td>572.976069</td>\n",
       "      <td>1.666582e+11</td>\n",
       "      <td>1.230839e+11</td>\n",
       "    </tr>\n",
       "    <tr>\n",
       "      <th>2</th>\n",
       "      <td>2024-04-12</td>\n",
       "      <td>2024-04-13</td>\n",
       "      <td>835.801622</td>\n",
       "      <td>870.721399</td>\n",
       "      <td>654.919501</td>\n",
       "      <td>710.703011</td>\n",
       "      <td>8.572999e+10</td>\n",
       "      <td>1.482425e+11</td>\n",
       "    </tr>\n",
       "    <tr>\n",
       "      <th>3</th>\n",
       "      <td>2024-04-11</td>\n",
       "      <td>2024-04-12</td>\n",
       "      <td>856.083116</td>\n",
       "      <td>894.914461</td>\n",
       "      <td>829.457920</td>\n",
       "      <td>833.627164</td>\n",
       "      <td>7.119291e+10</td>\n",
       "      <td>1.551272e+11</td>\n",
       "    </tr>\n",
       "    <tr>\n",
       "      <th>4</th>\n",
       "      <td>2024-04-10</td>\n",
       "      <td>2024-04-11</td>\n",
       "      <td>867.276535</td>\n",
       "      <td>877.307242</td>\n",
       "      <td>826.585311</td>\n",
       "      <td>859.108166</td>\n",
       "      <td>6.967570e+10</td>\n",
       "      <td>1.549334e+11</td>\n",
       "    </tr>\n",
       "  </tbody>\n",
       "</table>\n",
       "</div>"
      ],
      "text/plain": [
       "        Start         End        Open        High         Low       Close  \\\n",
       "0  2024-04-14  2024-04-15  570.171778  670.487110  556.812927  661.451697   \n",
       "1  2024-04-13  2024-04-14  704.601712  712.014992  498.394984  572.976069   \n",
       "2  2024-04-12  2024-04-13  835.801622  870.721399  654.919501  710.703011   \n",
       "3  2024-04-11  2024-04-12  856.083116  894.914461  829.457920  833.627164   \n",
       "4  2024-04-10  2024-04-11  867.276535  877.307242  826.585311  859.108166   \n",
       "\n",
       "         Volume    Market Cap  \n",
       "0  1.857144e+11  1.148259e+11  \n",
       "1  1.666582e+11  1.230839e+11  \n",
       "2  8.572999e+10  1.482425e+11  \n",
       "3  7.119291e+10  1.551272e+11  \n",
       "4  6.967570e+10  1.549334e+11  "
      ]
     },
     "execution_count": 2,
     "metadata": {},
     "output_type": "execute_result"
    }
   ],
   "source": [
    "df = pd.read_csv(\"worldcoin-org_2023-07-24_2024-04-15.csv\")\n",
    "df.head()"
   ]
  },
  {
   "cell_type": "markdown",
   "metadata": {},
   "source": [
    "### Data cleaning"
   ]
  },
  {
   "cell_type": "code",
   "execution_count": 3,
   "metadata": {},
   "outputs": [],
   "source": [
    "df['Start'] = pd.to_datetime(df['Start'])\n",
    "df['End'] = pd.to_datetime(df['End'])"
   ]
  },
  {
   "cell_type": "code",
   "execution_count": 4,
   "metadata": {},
   "outputs": [
    {
     "data": {
      "text/html": [
       "<div>\n",
       "<style scoped>\n",
       "    .dataframe tbody tr th:only-of-type {\n",
       "        vertical-align: middle;\n",
       "    }\n",
       "\n",
       "    .dataframe tbody tr th {\n",
       "        vertical-align: top;\n",
       "    }\n",
       "\n",
       "    .dataframe thead th {\n",
       "        text-align: right;\n",
       "    }\n",
       "</style>\n",
       "<table border=\"1\" class=\"dataframe\">\n",
       "  <thead>\n",
       "    <tr style=\"text-align: right;\">\n",
       "      <th></th>\n",
       "      <th>Start</th>\n",
       "      <th>End</th>\n",
       "      <th>Open</th>\n",
       "      <th>High</th>\n",
       "      <th>Low</th>\n",
       "      <th>Close</th>\n",
       "      <th>Volume</th>\n",
       "      <th>Market Cap</th>\n",
       "    </tr>\n",
       "  </thead>\n",
       "  <tbody>\n",
       "    <tr>\n",
       "      <th>0</th>\n",
       "      <td>2024-04-14</td>\n",
       "      <td>2024-04-15</td>\n",
       "      <td>570.171778</td>\n",
       "      <td>670.487110</td>\n",
       "      <td>556.812927</td>\n",
       "      <td>661.451697</td>\n",
       "      <td>1.857144e+11</td>\n",
       "      <td>1.148259e+11</td>\n",
       "    </tr>\n",
       "    <tr>\n",
       "      <th>1</th>\n",
       "      <td>2024-04-13</td>\n",
       "      <td>2024-04-14</td>\n",
       "      <td>704.601712</td>\n",
       "      <td>712.014992</td>\n",
       "      <td>498.394984</td>\n",
       "      <td>572.976069</td>\n",
       "      <td>1.666582e+11</td>\n",
       "      <td>1.230839e+11</td>\n",
       "    </tr>\n",
       "    <tr>\n",
       "      <th>2</th>\n",
       "      <td>2024-04-12</td>\n",
       "      <td>2024-04-13</td>\n",
       "      <td>835.801622</td>\n",
       "      <td>870.721399</td>\n",
       "      <td>654.919501</td>\n",
       "      <td>710.703011</td>\n",
       "      <td>8.572999e+10</td>\n",
       "      <td>1.482425e+11</td>\n",
       "    </tr>\n",
       "    <tr>\n",
       "      <th>3</th>\n",
       "      <td>2024-04-11</td>\n",
       "      <td>2024-04-12</td>\n",
       "      <td>856.083116</td>\n",
       "      <td>894.914461</td>\n",
       "      <td>829.457920</td>\n",
       "      <td>833.627164</td>\n",
       "      <td>7.119291e+10</td>\n",
       "      <td>1.551272e+11</td>\n",
       "    </tr>\n",
       "    <tr>\n",
       "      <th>4</th>\n",
       "      <td>2024-04-10</td>\n",
       "      <td>2024-04-11</td>\n",
       "      <td>867.276535</td>\n",
       "      <td>877.307242</td>\n",
       "      <td>826.585311</td>\n",
       "      <td>859.108166</td>\n",
       "      <td>6.967570e+10</td>\n",
       "      <td>1.549334e+11</td>\n",
       "    </tr>\n",
       "    <tr>\n",
       "      <th>...</th>\n",
       "      <td>...</td>\n",
       "      <td>...</td>\n",
       "      <td>...</td>\n",
       "      <td>...</td>\n",
       "      <td>...</td>\n",
       "      <td>...</td>\n",
       "      <td>...</td>\n",
       "      <td>...</td>\n",
       "    </tr>\n",
       "    <tr>\n",
       "      <th>261</th>\n",
       "      <td>2023-07-28</td>\n",
       "      <td>2023-07-29</td>\n",
       "      <td>269.972548</td>\n",
       "      <td>290.480844</td>\n",
       "      <td>268.198973</td>\n",
       "      <td>289.579376</td>\n",
       "      <td>6.089936e+10</td>\n",
       "      <td>2.960081e+10</td>\n",
       "    </tr>\n",
       "    <tr>\n",
       "      <th>262</th>\n",
       "      <td>2023-07-27</td>\n",
       "      <td>2023-07-28</td>\n",
       "      <td>291.640115</td>\n",
       "      <td>299.909712</td>\n",
       "      <td>272.394698</td>\n",
       "      <td>273.709270</td>\n",
       "      <td>9.607973e+10</td>\n",
       "      <td>3.011555e+10</td>\n",
       "    </tr>\n",
       "    <tr>\n",
       "      <th>263</th>\n",
       "      <td>2023-07-26</td>\n",
       "      <td>2023-07-27</td>\n",
       "      <td>297.900986</td>\n",
       "      <td>325.872970</td>\n",
       "      <td>286.336867</td>\n",
       "      <td>293.157265</td>\n",
       "      <td>1.920151e+11</td>\n",
       "      <td>3.206954e+10</td>\n",
       "    </tr>\n",
       "    <tr>\n",
       "      <th>264</th>\n",
       "      <td>2023-07-25</td>\n",
       "      <td>2023-07-26</td>\n",
       "      <td>282.457808</td>\n",
       "      <td>313.910123</td>\n",
       "      <td>249.345224</td>\n",
       "      <td>297.113063</td>\n",
       "      <td>1.761303e+11</td>\n",
       "      <td>2.930024e+10</td>\n",
       "    </tr>\n",
       "    <tr>\n",
       "      <th>265</th>\n",
       "      <td>2023-07-24</td>\n",
       "      <td>2023-07-25</td>\n",
       "      <td>236.136293</td>\n",
       "      <td>419.808076</td>\n",
       "      <td>230.416186</td>\n",
       "      <td>287.228709</td>\n",
       "      <td>6.098518e+10</td>\n",
       "      <td>2.943902e+10</td>\n",
       "    </tr>\n",
       "  </tbody>\n",
       "</table>\n",
       "<p>266 rows × 8 columns</p>\n",
       "</div>"
      ],
      "text/plain": [
       "         Start        End        Open        High         Low       Close  \\\n",
       "0   2024-04-14 2024-04-15  570.171778  670.487110  556.812927  661.451697   \n",
       "1   2024-04-13 2024-04-14  704.601712  712.014992  498.394984  572.976069   \n",
       "2   2024-04-12 2024-04-13  835.801622  870.721399  654.919501  710.703011   \n",
       "3   2024-04-11 2024-04-12  856.083116  894.914461  829.457920  833.627164   \n",
       "4   2024-04-10 2024-04-11  867.276535  877.307242  826.585311  859.108166   \n",
       "..         ...        ...         ...         ...         ...         ...   \n",
       "261 2023-07-28 2023-07-29  269.972548  290.480844  268.198973  289.579376   \n",
       "262 2023-07-27 2023-07-28  291.640115  299.909712  272.394698  273.709270   \n",
       "263 2023-07-26 2023-07-27  297.900986  325.872970  286.336867  293.157265   \n",
       "264 2023-07-25 2023-07-26  282.457808  313.910123  249.345224  297.113063   \n",
       "265 2023-07-24 2023-07-25  236.136293  419.808076  230.416186  287.228709   \n",
       "\n",
       "           Volume    Market Cap  \n",
       "0    1.857144e+11  1.148259e+11  \n",
       "1    1.666582e+11  1.230839e+11  \n",
       "2    8.572999e+10  1.482425e+11  \n",
       "3    7.119291e+10  1.551272e+11  \n",
       "4    6.967570e+10  1.549334e+11  \n",
       "..            ...           ...  \n",
       "261  6.089936e+10  2.960081e+10  \n",
       "262  9.607973e+10  3.011555e+10  \n",
       "263  1.920151e+11  3.206954e+10  \n",
       "264  1.761303e+11  2.930024e+10  \n",
       "265  6.098518e+10  2.943902e+10  \n",
       "\n",
       "[266 rows x 8 columns]"
      ]
     },
     "execution_count": 4,
     "metadata": {},
     "output_type": "execute_result"
    }
   ],
   "source": [
    "df"
   ]
  },
  {
   "cell_type": "code",
   "execution_count": 5,
   "metadata": {},
   "outputs": [
    {
     "data": {
      "text/html": [
       "<div>\n",
       "<style scoped>\n",
       "    .dataframe tbody tr th:only-of-type {\n",
       "        vertical-align: middle;\n",
       "    }\n",
       "\n",
       "    .dataframe tbody tr th {\n",
       "        vertical-align: top;\n",
       "    }\n",
       "\n",
       "    .dataframe thead th {\n",
       "        text-align: right;\n",
       "    }\n",
       "</style>\n",
       "<table border=\"1\" class=\"dataframe\">\n",
       "  <thead>\n",
       "    <tr style=\"text-align: right;\">\n",
       "      <th></th>\n",
       "      <th>Start</th>\n",
       "      <th>End</th>\n",
       "      <th>Open</th>\n",
       "      <th>High</th>\n",
       "      <th>Low</th>\n",
       "      <th>Close</th>\n",
       "      <th>Volume</th>\n",
       "      <th>Market Cap</th>\n",
       "    </tr>\n",
       "  </thead>\n",
       "  <tbody>\n",
       "    <tr>\n",
       "      <th>count</th>\n",
       "      <td>266</td>\n",
       "      <td>266</td>\n",
       "      <td>266.000000</td>\n",
       "      <td>266.000000</td>\n",
       "      <td>266.000000</td>\n",
       "      <td>266.000000</td>\n",
       "      <td>2.660000e+02</td>\n",
       "      <td>2.660000e+02</td>\n",
       "    </tr>\n",
       "    <tr>\n",
       "      <th>mean</th>\n",
       "      <td>2023-12-03 12:00:00</td>\n",
       "      <td>2023-12-04 12:00:00</td>\n",
       "      <td>438.965872</td>\n",
       "      <td>467.683605</td>\n",
       "      <td>415.987486</td>\n",
       "      <td>440.631835</td>\n",
       "      <td>8.872370e+10</td>\n",
       "      <td>5.988738e+10</td>\n",
       "    </tr>\n",
       "    <tr>\n",
       "      <th>min</th>\n",
       "      <td>2023-07-24 00:00:00</td>\n",
       "      <td>2023-07-25 00:00:00</td>\n",
       "      <td>131.405032</td>\n",
       "      <td>135.168023</td>\n",
       "      <td>126.876862</td>\n",
       "      <td>131.198110</td>\n",
       "      <td>1.138602e+10</td>\n",
       "      <td>1.716348e+10</td>\n",
       "    </tr>\n",
       "    <tr>\n",
       "      <th>25%</th>\n",
       "      <td>2023-09-28 06:00:00</td>\n",
       "      <td>2023-09-29 06:00:00</td>\n",
       "      <td>221.981373</td>\n",
       "      <td>234.048731</td>\n",
       "      <td>216.275099</td>\n",
       "      <td>221.293551</td>\n",
       "      <td>2.789746e+10</td>\n",
       "      <td>2.684751e+10</td>\n",
       "    </tr>\n",
       "    <tr>\n",
       "      <th>50%</th>\n",
       "      <td>2023-12-03 12:00:00</td>\n",
       "      <td>2023-12-04 12:00:00</td>\n",
       "      <td>307.050253</td>\n",
       "      <td>325.750722</td>\n",
       "      <td>296.493340</td>\n",
       "      <td>307.858736</td>\n",
       "      <td>4.742174e+10</td>\n",
       "      <td>3.657972e+10</td>\n",
       "    </tr>\n",
       "    <tr>\n",
       "      <th>75%</th>\n",
       "      <td>2024-02-07 18:00:00</td>\n",
       "      <td>2024-02-08 18:00:00</td>\n",
       "      <td>476.044028</td>\n",
       "      <td>504.320037</td>\n",
       "      <td>450.304539</td>\n",
       "      <td>478.717401</td>\n",
       "      <td>9.747768e+10</td>\n",
       "      <td>5.016529e+10</td>\n",
       "    </tr>\n",
       "    <tr>\n",
       "      <th>max</th>\n",
       "      <td>2024-04-14 00:00:00</td>\n",
       "      <td>2024-04-15 00:00:00</td>\n",
       "      <td>1519.002180</td>\n",
       "      <td>1533.694386</td>\n",
       "      <td>1226.215940</td>\n",
       "      <td>1507.605301</td>\n",
       "      <td>5.788875e+11</td>\n",
       "      <td>1.954777e+11</td>\n",
       "    </tr>\n",
       "    <tr>\n",
       "      <th>std</th>\n",
       "      <td>NaN</td>\n",
       "      <td>NaN</td>\n",
       "      <td>326.291112</td>\n",
       "      <td>349.974838</td>\n",
       "      <td>303.465262</td>\n",
       "      <td>326.274342</td>\n",
       "      <td>1.063919e+11</td>\n",
       "      <td>5.334255e+10</td>\n",
       "    </tr>\n",
       "  </tbody>\n",
       "</table>\n",
       "</div>"
      ],
      "text/plain": [
       "                     Start                  End         Open         High  \\\n",
       "count                  266                  266   266.000000   266.000000   \n",
       "mean   2023-12-03 12:00:00  2023-12-04 12:00:00   438.965872   467.683605   \n",
       "min    2023-07-24 00:00:00  2023-07-25 00:00:00   131.405032   135.168023   \n",
       "25%    2023-09-28 06:00:00  2023-09-29 06:00:00   221.981373   234.048731   \n",
       "50%    2023-12-03 12:00:00  2023-12-04 12:00:00   307.050253   325.750722   \n",
       "75%    2024-02-07 18:00:00  2024-02-08 18:00:00   476.044028   504.320037   \n",
       "max    2024-04-14 00:00:00  2024-04-15 00:00:00  1519.002180  1533.694386   \n",
       "std                    NaN                  NaN   326.291112   349.974838   \n",
       "\n",
       "               Low        Close        Volume    Market Cap  \n",
       "count   266.000000   266.000000  2.660000e+02  2.660000e+02  \n",
       "mean    415.987486   440.631835  8.872370e+10  5.988738e+10  \n",
       "min     126.876862   131.198110  1.138602e+10  1.716348e+10  \n",
       "25%     216.275099   221.293551  2.789746e+10  2.684751e+10  \n",
       "50%     296.493340   307.858736  4.742174e+10  3.657972e+10  \n",
       "75%     450.304539   478.717401  9.747768e+10  5.016529e+10  \n",
       "max    1226.215940  1507.605301  5.788875e+11  1.954777e+11  \n",
       "std     303.465262   326.274342  1.063919e+11  5.334255e+10  "
      ]
     },
     "execution_count": 5,
     "metadata": {},
     "output_type": "execute_result"
    }
   ],
   "source": [
    "df.describe()"
   ]
  },
  {
   "cell_type": "code",
   "execution_count": 6,
   "metadata": {},
   "outputs": [
    {
     "name": "stdout",
     "output_type": "stream",
     "text": [
      "<class 'pandas.core.frame.DataFrame'>\n",
      "RangeIndex: 266 entries, 0 to 265\n",
      "Data columns (total 8 columns):\n",
      " #   Column      Non-Null Count  Dtype         \n",
      "---  ------      --------------  -----         \n",
      " 0   Start       266 non-null    datetime64[ns]\n",
      " 1   End         266 non-null    datetime64[ns]\n",
      " 2   Open        266 non-null    float64       \n",
      " 3   High        266 non-null    float64       \n",
      " 4   Low         266 non-null    float64       \n",
      " 5   Close       266 non-null    float64       \n",
      " 6   Volume      266 non-null    float64       \n",
      " 7   Market Cap  266 non-null    float64       \n",
      "dtypes: datetime64[ns](2), float64(6)\n",
      "memory usage: 16.8 KB\n"
     ]
    }
   ],
   "source": [
    "df.info()"
   ]
  },
  {
   "cell_type": "markdown",
   "metadata": {},
   "source": [
    "### EDA"
   ]
  },
  {
   "cell_type": "code",
   "execution_count": 7,
   "metadata": {},
   "outputs": [
    {
     "name": "stderr",
     "output_type": "stream",
     "text": [
      "c:\\Users\\Randell\\anaconda3\\envs\\learn-env\\lib\\site-packages\\seaborn\\_oldcore.py:1119: FutureWarning: use_inf_as_na option is deprecated and will be removed in a future version. Convert inf values to NaN before operating instead.\n",
      "  with pd.option_context('mode.use_inf_as_na', True):\n"
     ]
    },
    {
     "data": {
      "image/png": "[encoded data removed]",
      "text/plain": [
       "<Figure size 1000x600 with 1 Axes>"
      ]
     },
     "metadata": {},
     "output_type": "display_data"
    }
   ],
   "source": [
    "# Plot the distribution of the target variable 'Close'\n",
    "plt.figure(figsize=(10, 6))\n",
    "sns.histplot(df['Close'], bins=20, kde=True)\n",
    "plt.title('Distribution of Close Price')\n",
    "plt.xlabel('Close Price')\n",
    "plt.ylabel('Frequency')\n",
    "plt.show()"
   ]
  },
  {
   "cell_type": "code",
   "execution_count": 8,
   "metadata": {},
   "outputs": [
    {
     "data": {
      "image/png": "[encoded data removed]",
      "text/plain": [
       "<Figure size 1200x600 with 1 Axes>"
      ]
     },
     "metadata": {},
     "output_type": "display_data"
    }
   ],
   "source": [
    "# Plot time series of 'Close' price\n",
    "plt.figure(figsize=(12, 6))\n",
    "plt.plot(df['End'], df['Close'], linestyle='-')\n",
    "plt.title('Time Series of Close Price')\n",
    "plt.xlabel('Date')\n",
    "plt.ylabel('Close Price')\n",
    "plt.xticks(rotation=45)\n",
    "plt.grid(True)\n",
    "plt.show()"
   ]
  },
  {
   "cell_type": "markdown",
   "metadata": {},
   "source": [
    "### Model Development"
   ]
  },
  {
   "cell_type": "code",
   "execution_count": 9,
   "metadata": {},
   "outputs": [],
   "source": [
    "X = df[[\"Open\", \"High\", \"Low\", \"Volume\", \"Market Cap\"]]\n",
    "y = df[\"Close\"]\n",
    "\n",
    "X_train, X_test, y_train, y_test = train_test_split(X, y, test_size=0.2, random_state=42)"
   ]
  },
  {
   "cell_type": "code",
   "execution_count": 10,
   "metadata": {},
   "outputs": [
    {
     "data": {
      "text/html": [
       "<style>#sk-container-id-1 {color: black;}#sk-container-id-1 pre{padding: 0;}#sk-container-id-1 div.sk-toggleable {background-color: white;}#sk-container-id-1 label.sk-toggleable__label {cursor: pointer;display: block;width: 100%;margin-bottom: 0;padding: 0.3em;box-sizing: border-box;text-align: center;}#sk-container-id-1 label.sk-toggleable__label-arrow:before {content: \"▸\";float: left;margin-right: 0.25em;color: #696969;}#sk-container-id-1 label.sk-toggleable__label-arrow:hover:before {color: black;}#sk-container-id-1 div.sk-estimator:hover label.sk-toggleable__label-arrow:before {color: black;}#sk-container-id-1 div.sk-toggleable__content {max-height: 0;max-width: 0;overflow: hidden;text-align: left;background-color: #f0f8ff;}#sk-container-id-1 div.sk-toggleable__content pre {margin: 0.2em;color: black;border-radius: 0.25em;background-color: #f0f8ff;}#sk-container-id-1 input.sk-toggleable__control:checked~div.sk-toggleable__content {max-height: 200px;max-width: 100%;overflow: auto;}#sk-container-id-1 input.sk-toggleable__control:checked~label.sk-toggleable__label-arrow:before {content: \"▾\";}#sk-container-id-1 div.sk-estimator input.sk-toggleable__control:checked~label.sk-toggleable__label {background-color: #d4ebff;}#sk-container-id-1 div.sk-label input.sk-toggleable__control:checked~label.sk-toggleable__label {background-color: #d4ebff;}#sk-container-id-1 input.sk-hidden--visually {border: 0;clip: rect(1px 1px 1px 1px);clip: rect(1px, 1px, 1px, 1px);height: 1px;margin: -1px;overflow: hidden;padding: 0;position: absolute;width: 1px;}#sk-container-id-1 div.sk-estimator {font-family: monospace;background-color: #f0f8ff;border: 1px dotted black;border-radius: 0.25em;box-sizing: border-box;margin-bottom: 0.5em;}#sk-container-id-1 div.sk-estimator:hover {background-color: #d4ebff;}#sk-container-id-1 div.sk-parallel-item::after {content: \"\";width: 100%;border-bottom: 1px solid gray;flex-grow: 1;}#sk-container-id-1 div.sk-label:hover label.sk-toggleable__label {background-color: #d4ebff;}#sk-container-id-1 div.sk-serial::before {content: \"\";position: absolute;border-left: 1px solid gray;box-sizing: border-box;top: 0;bottom: 0;left: 50%;z-index: 0;}#sk-container-id-1 div.sk-serial {display: flex;flex-direction: column;align-items: center;background-color: white;padding-right: 0.2em;padding-left: 0.2em;position: relative;}#sk-container-id-1 div.sk-item {position: relative;z-index: 1;}#sk-container-id-1 div.sk-parallel {display: flex;align-items: stretch;justify-content: center;background-color: white;position: relative;}#sk-container-id-1 div.sk-item::before, #sk-container-id-1 div.sk-parallel-item::before {content: \"\";position: absolute;border-left: 1px solid gray;box-sizing: border-box;top: 0;bottom: 0;left: 50%;z-index: -1;}#sk-container-id-1 div.sk-parallel-item {display: flex;flex-direction: column;z-index: 1;position: relative;background-color: white;}#sk-container-id-1 div.sk-parallel-item:first-child::after {align-self: flex-end;width: 50%;}#sk-container-id-1 div.sk-parallel-item:last-child::after {align-self: flex-start;width: 50%;}#sk-container-id-1 div.sk-parallel-item:only-child::after {width: 0;}#sk-container-id-1 div.sk-dashed-wrapped {border: 1px dashed gray;margin: 0 0.4em 0.5em 0.4em;box-sizing: border-box;padding-bottom: 0.4em;background-color: white;}#sk-container-id-1 div.sk-label label {font-family: monospace;font-weight: bold;display: inline-block;line-height: 1.2em;}#sk-container-id-1 div.sk-label-container {text-align: center;}#sk-container-id-1 div.sk-container {/* jupyter's `normalize.less` sets `[hidden] { display: none; }` but bootstrap.min.css set `[hidden] { display: none !important; }` so we also need the `!important` here to be able to override the default hidden behavior on the sphinx rendered scikit-learn.org. See: https://github.com/scikit-learn/scikit-learn/issues/21755 */display: inline-block !important;position: relative;}#sk-container-id-1 div.sk-text-repr-fallback {display: none;}</style><div id=\"sk-container-id-1\" class=\"sk-top-container\"><div class=\"sk-text-repr-fallback\"><pre>RandomForestRegressor(random_state=42)</pre><b>In a Jupyter environment, please rerun this cell to show the HTML representation or trust the notebook. <br />On GitHub, the HTML representation is unable to render, please try loading this page with nbviewer.org.</b></div><div class=\"sk-container\" hidden><div class=\"sk-item\"><div class=\"sk-estimator sk-toggleable\"><input class=\"sk-toggleable__control sk-hidden--visually\" id=\"sk-estimator-id-1\" type=\"checkbox\" checked><label for=\"sk-estimator-id-1\" class=\"sk-toggleable__label sk-toggleable__label-arrow\">RandomForestRegressor</label><div class=\"sk-toggleable__content\"><pre>RandomForestRegressor(random_state=42)</pre></div></div></div></div></div>"
      ],
      "text/plain": [
       "RandomForestRegressor(random_state=42)"
      ]
     },
     "execution_count": 10,
     "metadata": {},
     "output_type": "execute_result"
    }
   ],
   "source": [
    "\n",
    "model = RandomForestRegressor(random_state=42)\n",
    "\n",
    "model.fit(X_train, y_train)"
   ]
  },
  {
   "cell_type": "code",
   "execution_count": 11,
   "metadata": {},
   "outputs": [
    {
     "name": "stdout",
     "output_type": "stream",
     "text": [
      "Mean Squared Error: 523.0008373971024\n"
     ]
    }
   ],
   "source": [
    "\n",
    "y_pred = model.predict(X_test)\n",
    "\n",
    "mse = mean_squared_error(y_test, y_pred)\n",
    "\n",
    "print(\"Mean Squared Error:\",mse)"
   ]
  },
  {
   "cell_type": "code",
   "execution_count": 12,
   "metadata": {},
   "outputs": [
    {
     "name": "stdout",
     "output_type": "stream",
     "text": [
      "Linear Regression Mean Squared Error: 435.0495373651789\n",
      "Gradient Boosting Mean Squared Error: 671.3929494893896\n",
      "Support Vector Regressor Mean Squared Error: 115237.12577145566\n"
     ]
    }
   ],
   "source": [
    "\n",
    "# Initialize the models\n",
    "linear_reg_model = LinearRegression()\n",
    "gradient_boosting_model = GradientBoostingRegressor(random_state=42)\n",
    "svr_model = SVR()\n",
    "\n",
    "# Train the models\n",
    "linear_reg_model.fit(X_train, y_train)\n",
    "gradient_boosting_model.fit(X_train, y_train)\n",
    "svr_model.fit(X_train, y_train)\n",
    "\n",
    "# Make predictions\n",
    "linear_reg_predictions = linear_reg_model.predict(X_test)\n",
    "gradient_boosting_predictions = gradient_boosting_model.predict(X_test)\n",
    "svr_predictions = svr_model.predict(X_test)\n",
    "\n",
    "# Evaluate the models\n",
    "linear_reg_mse = mean_squared_error(y_test, linear_reg_predictions)\n",
    "gradient_boosting_mse = mean_squared_error(y_test, gradient_boosting_predictions)\n",
    "svr_mse = mean_squared_error(y_test, svr_predictions)\n",
    "\n",
    "print(\"Linear Regression Mean Squared Error:\", linear_reg_mse)\n",
    "print(\"Gradient Boosting Mean Squared Error:\", gradient_boosting_mse)\n",
    "print(\"Support Vector Regressor Mean Squared Error:\", svr_mse)\n"
   ]
  },
  {
   "cell_type": "markdown",
   "metadata": {},
   "source": [
    "### Testing the models"
   ]
  },
  {
   "cell_type": "code",
   "execution_count": 13,
   "metadata": {},
   "outputs": [
    {
     "name": "stdout",
     "output_type": "stream",
     "text": [
      "Please provide input for the trained model:\n",
      "Predicted Close Price: [638.97477237]\n"
     ]
    }
   ],
   "source": [
    "# Request input for the trained model\n",
    "print(\"Please provide input for the trained model:\")\n",
    "open_price = float(input(\"Enter the opening price: \"))\n",
    "high_price = float(input(\"Enter the highest price: \"))\n",
    "low_price = float(input(\"Enter the lowest price: \"))\n",
    "volume = float(input(\"Enter the volume: \"))\n",
    "market_cap = float(input(\"Enter the market cap: \"))\n",
    "\n",
    "# Create a DataFrame with the input data\n",
    "input_data = {\n",
    "    \"Open\": [open_price],\n",
    "    \"High\": [high_price],\n",
    "    \"Low\": [low_price],\n",
    "    \"Volume\": [volume],\n",
    "    \"Market Cap\": [market_cap]\n",
    "}\n",
    "\n",
    "input_df = pd.DataFrame(input_data)\n",
    "\n",
    "# Make prediction using the trained model\n",
    "prediction = model.predict(input_df)\n",
    "print(\"Predicted Close Price:\", prediction)\n"
   ]
  },
  {
   "cell_type": "code",
   "execution_count": null,
   "metadata": {},
   "outputs": [
    {
     "name": "stdout",
     "output_type": "stream",
     "text": [
      "Please provide input for the trained model:\n",
      "Predicted Close Price: [1034.3342983]\n"
     ]
    }
   ],
   "source": [
    "# Request input for the trained model\n",
    "print(\"Please provide input for the trained model:\")\n",
    "open_price = float(input(\"Enter the opening price: \"))\n",
    "high_price = float(input(\"Enter the highest price: \"))\n",
    "low_price = float(input(\"Enter the lowest price: \"))\n",
    "volume = float(input(\"Enter the volume: \"))\n",
    "market_cap = float(input(\"Enter the market cap: \"))\n",
    "\n",
    "# Create a DataFrame with the input data\n",
    "input_data = {\n",
    "    \"Open\": [open_price],\n",
    "    \"High\": [high_price],\n",
    "    \"Low\": [low_price],\n",
    "    \"Volume\": [volume],\n",
    "    \"Market Cap\": [market_cap]\n",
    "}\n",
    "\n",
    "input_df = pd.DataFrame(input_data)\n",
    "\n",
    "# Make prediction using the trained model\n",
    "prediction = linear_reg_model.predict(input_df)\n",
    "print(\"Predicted Close Price:\", prediction)\n"
   ]
  }
 ],
 "metadata": {
  "kernelspec": {
   "display_name": "learn_env",
   "language": "python",
   "name": "python3"
  },
  "language_info": {
   "codemirror_mode": {
    "name": "ipython",
    "version": 3
   },
   "file_extension": ".py",
   "mimetype": "text/x-python",
   "name": "python",
   "nbconvert_exporter": "python",
   "pygments_lexer": "ipython3",
   "version": "3.10.14"
  }
 },
 "nbformat": 4,
 "nbformat_minor": 2
}
