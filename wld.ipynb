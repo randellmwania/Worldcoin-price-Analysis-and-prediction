{
 "cells": [
  {
   "cell_type": "markdown",
   "metadata": {},
   "source": [
    "# WorldCoin Price Analysis and Prediction"
   ]
  },
  {
   "cell_type": "markdown",
   "metadata": {},
   "source": [
    "### Import Necessary Libraries"
   ]
  },
  {
   "cell_type": "code",
   "execution_count": 1,
   "metadata": {},
   "outputs": [],
   "source": [
    "import pandas as pd\n",
    "import matplotlib.pyplot as plt\n",
    "import seaborn as sns\n",
    "\n",
    "from sklearn.model_selection import train_test_split\n",
    "from sklearn.ensemble import  RandomForestRegressor\n",
    "from sklearn.metrics import mean_squared_error\n",
    "from sklearn.linear_model import LinearRegression\n",
    "from sklearn.ensemble import GradientBoostingRegressor\n",
    "from sklearn.svm import SVR\n"
   ]
  },
  {
   "cell_type": "markdown",
   "metadata": {},
   "source": [
    "### Data Exploration"
   ]
  },
  {
   "cell_type": "code",
   "execution_count": 2,
   "metadata": {},
   "outputs": [
    {
     "data": {
      "text/html": [
       "<div>\n",
       "<style scoped>\n",
       "    .dataframe tbody tr th:only-of-type {\n",
       "        vertical-align: middle;\n",
       "    }\n",
       "\n",
       "    .dataframe tbody tr th {\n",
       "        vertical-align: top;\n",
       "    }\n",
       "\n",
       "    .dataframe thead th {\n",
       "        text-align: right;\n",
       "    }\n",
       "</style>\n",
       "<table border=\"1\" class=\"dataframe\">\n",
       "  <thead>\n",
       "    <tr style=\"text-align: right;\">\n",
       "      <th></th>\n",
       "      <th>Start</th>\n",
       "      <th>End</th>\n",
       "      <th>Open</th>\n",
       "      <th>High</th>\n",
       "      <th>Low</th>\n",
       "      <th>Close</th>\n",
       "      <th>Volume</th>\n",
       "      <th>Market Cap</th>\n",
       "    </tr>\n",
       "  </thead>\n",
       "  <tbody>\n",
       "    <tr>\n",
       "      <th>0</th>\n",
       "      <td>2024-06-16</td>\n",
       "      <td>2024-06-17</td>\n",
       "      <td>435.434564</td>\n",
       "      <td>450.283266</td>\n",
       "      <td>424.506973</td>\n",
       "      <td>444.698612</td>\n",
       "      <td>3.149406e+10</td>\n",
       "      <td>9.786989e+10</td>\n",
       "    </tr>\n",
       "    <tr>\n",
       "      <th>1</th>\n",
       "      <td>2024-06-15</td>\n",
       "      <td>2024-06-16</td>\n",
       "      <td>442.207514</td>\n",
       "      <td>450.754333</td>\n",
       "      <td>433.511423</td>\n",
       "      <td>435.805905</td>\n",
       "      <td>4.558511e+10</td>\n",
       "      <td>9.913209e+10</td>\n",
       "    </tr>\n",
       "    <tr>\n",
       "      <th>2</th>\n",
       "      <td>2024-06-14</td>\n",
       "      <td>2024-06-15</td>\n",
       "      <td>471.470823</td>\n",
       "      <td>479.991323</td>\n",
       "      <td>431.186058</td>\n",
       "      <td>442.021938</td>\n",
       "      <td>4.505473e+10</td>\n",
       "      <td>1.028360e+11</td>\n",
       "    </tr>\n",
       "    <tr>\n",
       "      <th>3</th>\n",
       "      <td>2024-06-13</td>\n",
       "      <td>2024-06-14</td>\n",
       "      <td>494.564923</td>\n",
       "      <td>500.807162</td>\n",
       "      <td>466.376275</td>\n",
       "      <td>468.211321</td>\n",
       "      <td>5.922474e+10</td>\n",
       "      <td>1.073532e+11</td>\n",
       "    </tr>\n",
       "    <tr>\n",
       "      <th>4</th>\n",
       "      <td>2024-06-12</td>\n",
       "      <td>2024-06-13</td>\n",
       "      <td>489.541653</td>\n",
       "      <td>526.686680</td>\n",
       "      <td>469.800441</td>\n",
       "      <td>497.223618</td>\n",
       "      <td>7.096327e+10</td>\n",
       "      <td>1.118204e+11</td>\n",
       "    </tr>\n",
       "  </tbody>\n",
       "</table>\n",
       "</div>"
      ],
      "text/plain": [
       "        Start         End        Open        High         Low       Close  \\\n",
       "0  2024-06-16  2024-06-17  435.434564  450.283266  424.506973  444.698612   \n",
       "1  2024-06-15  2024-06-16  442.207514  450.754333  433.511423  435.805905   \n",
       "2  2024-06-14  2024-06-15  471.470823  479.991323  431.186058  442.021938   \n",
       "3  2024-06-13  2024-06-14  494.564923  500.807162  466.376275  468.211321   \n",
       "4  2024-06-12  2024-06-13  489.541653  526.686680  469.800441  497.223618   \n",
       "\n",
       "         Volume    Market Cap  \n",
       "0  3.149406e+10  9.786989e+10  \n",
       "1  4.558511e+10  9.913209e+10  \n",
       "2  4.505473e+10  1.028360e+11  \n",
       "3  5.922474e+10  1.073532e+11  \n",
       "4  7.096327e+10  1.118204e+11  "
      ]
     },
     "execution_count": 2,
     "metadata": {},
     "output_type": "execute_result"
    }
   ],
   "source": [
    "df = pd.read_csv(\"worldcoin-org_2019-06-19_2024-06-17.csv\")\n",
    "df.head()"
   ]
  },
  {
   "cell_type": "markdown",
   "metadata": {},
   "source": [
    "### Data cleaning"
   ]
  },
  {
   "cell_type": "code",
   "execution_count": 3,
   "metadata": {},
   "outputs": [],
   "source": [
    "df['Start'] = pd.to_datetime(df['Start'])\n",
    "df['End'] = pd.to_datetime(df['End'])"
   ]
  },
  {
   "cell_type": "code",
   "execution_count": 4,
   "metadata": {},
   "outputs": [
    {
     "data": {
      "text/html": [
       "<div>\n",
       "<style scoped>\n",
       "    .dataframe tbody tr th:only-of-type {\n",
       "        vertical-align: middle;\n",
       "    }\n",
       "\n",
       "    .dataframe tbody tr th {\n",
       "        vertical-align: top;\n",
       "    }\n",
       "\n",
       "    .dataframe thead th {\n",
       "        text-align: right;\n",
       "    }\n",
       "</style>\n",
       "<table border=\"1\" class=\"dataframe\">\n",
       "  <thead>\n",
       "    <tr style=\"text-align: right;\">\n",
       "      <th></th>\n",
       "      <th>Start</th>\n",
       "      <th>End</th>\n",
       "      <th>Open</th>\n",
       "      <th>High</th>\n",
       "      <th>Low</th>\n",
       "      <th>Close</th>\n",
       "      <th>Volume</th>\n",
       "      <th>Market Cap</th>\n",
       "    </tr>\n",
       "  </thead>\n",
       "  <tbody>\n",
       "    <tr>\n",
       "      <th>0</th>\n",
       "      <td>2024-06-16</td>\n",
       "      <td>2024-06-17</td>\n",
       "      <td>435.434564</td>\n",
       "      <td>450.283266</td>\n",
       "      <td>424.506973</td>\n",
       "      <td>444.698612</td>\n",
       "      <td>3.149406e+10</td>\n",
       "      <td>9.786989e+10</td>\n",
       "    </tr>\n",
       "    <tr>\n",
       "      <th>1</th>\n",
       "      <td>2024-06-15</td>\n",
       "      <td>2024-06-16</td>\n",
       "      <td>442.207514</td>\n",
       "      <td>450.754333</td>\n",
       "      <td>433.511423</td>\n",
       "      <td>435.805905</td>\n",
       "      <td>4.558511e+10</td>\n",
       "      <td>9.913209e+10</td>\n",
       "    </tr>\n",
       "    <tr>\n",
       "      <th>2</th>\n",
       "      <td>2024-06-14</td>\n",
       "      <td>2024-06-15</td>\n",
       "      <td>471.470823</td>\n",
       "      <td>479.991323</td>\n",
       "      <td>431.186058</td>\n",
       "      <td>442.021938</td>\n",
       "      <td>4.505473e+10</td>\n",
       "      <td>1.028360e+11</td>\n",
       "    </tr>\n",
       "    <tr>\n",
       "      <th>3</th>\n",
       "      <td>2024-06-13</td>\n",
       "      <td>2024-06-14</td>\n",
       "      <td>494.564923</td>\n",
       "      <td>500.807162</td>\n",
       "      <td>466.376275</td>\n",
       "      <td>468.211321</td>\n",
       "      <td>5.922474e+10</td>\n",
       "      <td>1.073532e+11</td>\n",
       "    </tr>\n",
       "    <tr>\n",
       "      <th>4</th>\n",
       "      <td>2024-06-12</td>\n",
       "      <td>2024-06-13</td>\n",
       "      <td>489.541653</td>\n",
       "      <td>526.686680</td>\n",
       "      <td>469.800441</td>\n",
       "      <td>497.223618</td>\n",
       "      <td>7.096327e+10</td>\n",
       "      <td>1.118204e+11</td>\n",
       "    </tr>\n",
       "    <tr>\n",
       "      <th>...</th>\n",
       "      <td>...</td>\n",
       "      <td>...</td>\n",
       "      <td>...</td>\n",
       "      <td>...</td>\n",
       "      <td>...</td>\n",
       "      <td>...</td>\n",
       "      <td>...</td>\n",
       "      <td>...</td>\n",
       "    </tr>\n",
       "    <tr>\n",
       "      <th>324</th>\n",
       "      <td>2023-07-28</td>\n",
       "      <td>2023-07-29</td>\n",
       "      <td>266.303801</td>\n",
       "      <td>286.533403</td>\n",
       "      <td>264.554328</td>\n",
       "      <td>285.644185</td>\n",
       "      <td>6.007178e+10</td>\n",
       "      <td>2.919856e+10</td>\n",
       "    </tr>\n",
       "    <tr>\n",
       "      <th>325</th>\n",
       "      <td>2023-07-27</td>\n",
       "      <td>2023-07-28</td>\n",
       "      <td>287.676920</td>\n",
       "      <td>295.834139</td>\n",
       "      <td>268.693036</td>\n",
       "      <td>269.989743</td>\n",
       "      <td>9.477407e+10</td>\n",
       "      <td>2.970630e+10</td>\n",
       "    </tr>\n",
       "    <tr>\n",
       "      <th>326</th>\n",
       "      <td>2023-07-26</td>\n",
       "      <td>2023-07-27</td>\n",
       "      <td>293.852710</td>\n",
       "      <td>321.444574</td>\n",
       "      <td>282.445740</td>\n",
       "      <td>289.173453</td>\n",
       "      <td>1.894057e+11</td>\n",
       "      <td>3.163373e+10</td>\n",
       "    </tr>\n",
       "    <tr>\n",
       "      <th>327</th>\n",
       "      <td>2023-07-25</td>\n",
       "      <td>2023-07-26</td>\n",
       "      <td>278.619394</td>\n",
       "      <td>309.644293</td>\n",
       "      <td>245.956788</td>\n",
       "      <td>293.075495</td>\n",
       "      <td>1.737368e+11</td>\n",
       "      <td>2.890207e+10</td>\n",
       "    </tr>\n",
       "    <tr>\n",
       "      <th>328</th>\n",
       "      <td>2023-07-24</td>\n",
       "      <td>2023-07-25</td>\n",
       "      <td>232.927358</td>\n",
       "      <td>414.103163</td>\n",
       "      <td>227.284983</td>\n",
       "      <td>283.325462</td>\n",
       "      <td>6.015643e+10</td>\n",
       "      <td>2.903896e+10</td>\n",
       "    </tr>\n",
       "  </tbody>\n",
       "</table>\n",
       "<p>329 rows × 8 columns</p>\n",
       "</div>"
      ],
      "text/plain": [
       "         Start        End        Open        High         Low       Close  \\\n",
       "0   2024-06-16 2024-06-17  435.434564  450.283266  424.506973  444.698612   \n",
       "1   2024-06-15 2024-06-16  442.207514  450.754333  433.511423  435.805905   \n",
       "2   2024-06-14 2024-06-15  471.470823  479.991323  431.186058  442.021938   \n",
       "3   2024-06-13 2024-06-14  494.564923  500.807162  466.376275  468.211321   \n",
       "4   2024-06-12 2024-06-13  489.541653  526.686680  469.800441  497.223618   \n",
       "..         ...        ...         ...         ...         ...         ...   \n",
       "324 2023-07-28 2023-07-29  266.303801  286.533403  264.554328  285.644185   \n",
       "325 2023-07-27 2023-07-28  287.676920  295.834139  268.693036  269.989743   \n",
       "326 2023-07-26 2023-07-27  293.852710  321.444574  282.445740  289.173453   \n",
       "327 2023-07-25 2023-07-26  278.619394  309.644293  245.956788  293.075495   \n",
       "328 2023-07-24 2023-07-25  232.927358  414.103163  227.284983  283.325462   \n",
       "\n",
       "           Volume    Market Cap  \n",
       "0    3.149406e+10  9.786989e+10  \n",
       "1    4.558511e+10  9.913209e+10  \n",
       "2    4.505473e+10  1.028360e+11  \n",
       "3    5.922474e+10  1.073532e+11  \n",
       "4    7.096327e+10  1.118204e+11  \n",
       "..            ...           ...  \n",
       "324  6.007178e+10  2.919856e+10  \n",
       "325  9.477407e+10  2.970630e+10  \n",
       "326  1.894057e+11  3.163373e+10  \n",
       "327  1.737368e+11  2.890207e+10  \n",
       "328  6.015643e+10  2.903896e+10  \n",
       "\n",
       "[329 rows x 8 columns]"
      ]
     },
     "execution_count": 4,
     "metadata": {},
     "output_type": "execute_result"
    }
   ],
   "source": [
    "df"
   ]
  },
  {
   "cell_type": "code",
   "execution_count": 5,
   "metadata": {},
   "outputs": [
    {
     "data": {
      "text/html": [
       "<div>\n",
       "<style scoped>\n",
       "    .dataframe tbody tr th:only-of-type {\n",
       "        vertical-align: middle;\n",
       "    }\n",
       "\n",
       "    .dataframe tbody tr th {\n",
       "        vertical-align: top;\n",
       "    }\n",
       "\n",
       "    .dataframe thead th {\n",
       "        text-align: right;\n",
       "    }\n",
       "</style>\n",
       "<table border=\"1\" class=\"dataframe\">\n",
       "  <thead>\n",
       "    <tr style=\"text-align: right;\">\n",
       "      <th></th>\n",
       "      <th>Start</th>\n",
       "      <th>End</th>\n",
       "      <th>Open</th>\n",
       "      <th>High</th>\n",
       "      <th>Low</th>\n",
       "      <th>Close</th>\n",
       "      <th>Volume</th>\n",
       "      <th>Market Cap</th>\n",
       "    </tr>\n",
       "  </thead>\n",
       "  <tbody>\n",
       "    <tr>\n",
       "      <th>count</th>\n",
       "      <td>329</td>\n",
       "      <td>329</td>\n",
       "      <td>329.000000</td>\n",
       "      <td>329.000000</td>\n",
       "      <td>329.000000</td>\n",
       "      <td>329.000000</td>\n",
       "      <td>3.290000e+02</td>\n",
       "      <td>3.290000e+02</td>\n",
       "    </tr>\n",
       "    <tr>\n",
       "      <th>mean</th>\n",
       "      <td>2024-01-04 00:00:00</td>\n",
       "      <td>2024-01-05 00:00:00</td>\n",
       "      <td>470.463118</td>\n",
       "      <td>498.204874</td>\n",
       "      <td>446.715460</td>\n",
       "      <td>471.084717</td>\n",
       "      <td>8.741595e+10</td>\n",
       "      <td>7.296562e+10</td>\n",
       "    </tr>\n",
       "    <tr>\n",
       "      <th>min</th>\n",
       "      <td>2023-07-24 00:00:00</td>\n",
       "      <td>2023-07-25 00:00:00</td>\n",
       "      <td>129.619325</td>\n",
       "      <td>133.331179</td>\n",
       "      <td>125.152690</td>\n",
       "      <td>129.415215</td>\n",
       "      <td>1.123129e+10</td>\n",
       "      <td>1.693024e+10</td>\n",
       "    </tr>\n",
       "    <tr>\n",
       "      <th>25%</th>\n",
       "      <td>2023-10-14 00:00:00</td>\n",
       "      <td>2023-10-15 00:00:00</td>\n",
       "      <td>234.036908</td>\n",
       "      <td>243.056730</td>\n",
       "      <td>226.733347</td>\n",
       "      <td>235.536058</td>\n",
       "      <td>3.139120e+10</td>\n",
       "      <td>2.801104e+10</td>\n",
       "    </tr>\n",
       "    <tr>\n",
       "      <th>50%</th>\n",
       "      <td>2024-01-04 00:00:00</td>\n",
       "      <td>2024-01-05 00:00:00</td>\n",
       "      <td>323.497383</td>\n",
       "      <td>350.820082</td>\n",
       "      <td>314.468605</td>\n",
       "      <td>324.629437</td>\n",
       "      <td>5.479882e+10</td>\n",
       "      <td>3.890089e+10</td>\n",
       "    </tr>\n",
       "    <tr>\n",
       "      <th>75%</th>\n",
       "      <td>2024-03-26 00:00:00</td>\n",
       "      <td>2024-03-27 00:00:00</td>\n",
       "      <td>632.891120</td>\n",
       "      <td>659.483032</td>\n",
       "      <td>604.013512</td>\n",
       "      <td>633.935784</td>\n",
       "      <td>9.869635e+10</td>\n",
       "      <td>1.338980e+11</td>\n",
       "    </tr>\n",
       "    <tr>\n",
       "      <th>max</th>\n",
       "      <td>2024-06-16 00:00:00</td>\n",
       "      <td>2024-06-17 00:00:00</td>\n",
       "      <td>1498.359952</td>\n",
       "      <td>1512.852501</td>\n",
       "      <td>1209.552481</td>\n",
       "      <td>1487.117949</td>\n",
       "      <td>5.710208e+11</td>\n",
       "      <td>1.928213e+11</td>\n",
       "    </tr>\n",
       "    <tr>\n",
       "      <th>std</th>\n",
       "      <td>NaN</td>\n",
       "      <td>NaN</td>\n",
       "      <td>301.046221</td>\n",
       "      <td>321.413742</td>\n",
       "      <td>280.968519</td>\n",
       "      <td>300.654814</td>\n",
       "      <td>9.566820e+10</td>\n",
       "      <td>5.560866e+10</td>\n",
       "    </tr>\n",
       "  </tbody>\n",
       "</table>\n",
       "</div>"
      ],
      "text/plain": [
       "                     Start                  End         Open         High  \\\n",
       "count                  329                  329   329.000000   329.000000   \n",
       "mean   2024-01-04 00:00:00  2024-01-05 00:00:00   470.463118   498.204874   \n",
       "min    2023-07-24 00:00:00  2023-07-25 00:00:00   129.619325   133.331179   \n",
       "25%    2023-10-14 00:00:00  2023-10-15 00:00:00   234.036908   243.056730   \n",
       "50%    2024-01-04 00:00:00  2024-01-05 00:00:00   323.497383   350.820082   \n",
       "75%    2024-03-26 00:00:00  2024-03-27 00:00:00   632.891120   659.483032   \n",
       "max    2024-06-16 00:00:00  2024-06-17 00:00:00  1498.359952  1512.852501   \n",
       "std                    NaN                  NaN   301.046221   321.413742   \n",
       "\n",
       "               Low        Close        Volume    Market Cap  \n",
       "count   329.000000   329.000000  3.290000e+02  3.290000e+02  \n",
       "mean    446.715460   471.084717  8.741595e+10  7.296562e+10  \n",
       "min     125.152690   129.415215  1.123129e+10  1.693024e+10  \n",
       "25%     226.733347   235.536058  3.139120e+10  2.801104e+10  \n",
       "50%     314.468605   324.629437  5.479882e+10  3.890089e+10  \n",
       "75%     604.013512   633.935784  9.869635e+10  1.338980e+11  \n",
       "max    1209.552481  1487.117949  5.710208e+11  1.928213e+11  \n",
       "std     280.968519   300.654814  9.566820e+10  5.560866e+10  "
      ]
     },
     "execution_count": 5,
     "metadata": {},
     "output_type": "execute_result"
    }
   ],
   "source": [
    "df.describe()"
   ]
  },
  {
   "cell_type": "code",
   "execution_count": 6,
   "metadata": {},
   "outputs": [
    {
     "name": "stdout",
     "output_type": "stream",
     "text": [
      "<class 'pandas.core.frame.DataFrame'>\n",
      "RangeIndex: 329 entries, 0 to 328\n",
      "Data columns (total 8 columns):\n",
      " #   Column      Non-Null Count  Dtype         \n",
      "---  ------      --------------  -----         \n",
      " 0   Start       329 non-null    datetime64[ns]\n",
      " 1   End         329 non-null    datetime64[ns]\n",
      " 2   Open        329 non-null    float64       \n",
      " 3   High        329 non-null    float64       \n",
      " 4   Low         329 non-null    float64       \n",
      " 5   Close       329 non-null    float64       \n",
      " 6   Volume      329 non-null    float64       \n",
      " 7   Market Cap  329 non-null    float64       \n",
      "dtypes: datetime64[ns](2), float64(6)\n",
      "memory usage: 20.7 KB\n"
     ]
    }
   ],
   "source": [
    "df.info()"
   ]
  },
  {
   "cell_type": "markdown",
   "metadata": {},
   "source": [
    "### EDA"
   ]
  },
  {
   "cell_type": "code",
   "execution_count": 7,
   "metadata": {},
   "outputs": [
    {
     "name": "stderr",
     "output_type": "stream",
     "text": [
      "c:\\Users\\Randell\\anaconda3\\envs\\learn-env\\lib\\site-packages\\seaborn\\_oldcore.py:1119: FutureWarning: use_inf_as_na option is deprecated and will be removed in a future version. Convert inf values to NaN before operating instead.\n",
      "  with pd.option_context('mode.use_inf_as_na', True):\n"
     ]
    },
    {
     "data": {
      "image/png": "[encoded data removed]",
      "text/plain": [
       "<Figure size 1000x600 with 1 Axes>"
      ]
     },
     "metadata": {},
     "output_type": "display_data"
    }
   ],
   "source": [
    "# Plot the distribution of the target variable 'Close'\n",
    "plt.figure(figsize=(10, 6))\n",
    "sns.histplot(df['Close'], bins=20, kde=True)\n",
    "plt.title('Distribution of Close Price')\n",
    "plt.xlabel('Close Price')\n",
    "plt.ylabel('Frequency')\n",
    "plt.show()"
   ]
  },
  {
   "cell_type": "code",
   "execution_count": 8,
   "metadata": {},
   "outputs": [
    {
     "data": {
      "image/png": "[encoded data removed]",
      "text/plain": [
       "<Figure size 1200x600 with 1 Axes>"
      ]
     },
     "metadata": {},
     "output_type": "display_data"
    }
   ],
   "source": [
    "# Plot time series of 'Close' price\n",
    "plt.figure(figsize=(12, 6))\n",
    "plt.plot(df['End'], df['Close'], linestyle='-')\n",
    "plt.title('Time Series of Close Price')\n",
    "plt.xlabel('Date')\n",
    "plt.ylabel('Close Price')\n",
    "plt.xticks(rotation=45)\n",
    "plt.grid(True)\n",
    "plt.show()"
   ]
  },
  {
   "cell_type": "markdown",
   "metadata": {},
   "source": [
    "### Model Development"
   ]
  },
  {
   "cell_type": "code",
   "execution_count": 9,
   "metadata": {},
   "outputs": [],
   "source": [
    "X = df[[\"Open\", \"High\", \"Low\", \"Volume\", \"Market Cap\"]]\n",
    "y = df[\"Close\"]\n",
    "\n",
    "X_train, X_test, y_train, y_test = train_test_split(X, y, test_size=0.2, random_state=42)"
   ]
  },
  {
   "cell_type": "code",
   "execution_count": 10,
   "metadata": {},
   "outputs": [
    {
     "data": {
      "text/html": [
       "<style>#sk-container-id-1 {color: black;}#sk-container-id-1 pre{padding: 0;}#sk-container-id-1 div.sk-toggleable {background-color: white;}#sk-container-id-1 label.sk-toggleable__label {cursor: pointer;display: block;width: 100%;margin-bottom: 0;padding: 0.3em;box-sizing: border-box;text-align: center;}#sk-container-id-1 label.sk-toggleable__label-arrow:before {content: \"▸\";float: left;margin-right: 0.25em;color: #696969;}#sk-container-id-1 label.sk-toggleable__label-arrow:hover:before {color: black;}#sk-container-id-1 div.sk-estimator:hover label.sk-toggleable__label-arrow:before {color: black;}#sk-container-id-1 div.sk-toggleable__content {max-height: 0;max-width: 0;overflow: hidden;text-align: left;background-color: #f0f8ff;}#sk-container-id-1 div.sk-toggleable__content pre {margin: 0.2em;color: black;border-radius: 0.25em;background-color: #f0f8ff;}#sk-container-id-1 input.sk-toggleable__control:checked~div.sk-toggleable__content {max-height: 200px;max-width: 100%;overflow: auto;}#sk-container-id-1 input.sk-toggleable__control:checked~label.sk-toggleable__label-arrow:before {content: \"▾\";}#sk-container-id-1 div.sk-estimator input.sk-toggleable__control:checked~label.sk-toggleable__label {background-color: #d4ebff;}#sk-container-id-1 div.sk-label input.sk-toggleable__control:checked~label.sk-toggleable__label {background-color: #d4ebff;}#sk-container-id-1 input.sk-hidden--visually {border: 0;clip: rect(1px 1px 1px 1px);clip: rect(1px, 1px, 1px, 1px);height: 1px;margin: -1px;overflow: hidden;padding: 0;position: absolute;width: 1px;}#sk-container-id-1 div.sk-estimator {font-family: monospace;background-color: #f0f8ff;border: 1px dotted black;border-radius: 0.25em;box-sizing: border-box;margin-bottom: 0.5em;}#sk-container-id-1 div.sk-estimator:hover {background-color: #d4ebff;}#sk-container-id-1 div.sk-parallel-item::after {content: \"\";width: 100%;border-bottom: 1px solid gray;flex-grow: 1;}#sk-container-id-1 div.sk-label:hover label.sk-toggleable__label {background-color: #d4ebff;}#sk-container-id-1 div.sk-serial::before {content: \"\";position: absolute;border-left: 1px solid gray;box-sizing: border-box;top: 0;bottom: 0;left: 50%;z-index: 0;}#sk-container-id-1 div.sk-serial {display: flex;flex-direction: column;align-items: center;background-color: white;padding-right: 0.2em;padding-left: 0.2em;position: relative;}#sk-container-id-1 div.sk-item {position: relative;z-index: 1;}#sk-container-id-1 div.sk-parallel {display: flex;align-items: stretch;justify-content: center;background-color: white;position: relative;}#sk-container-id-1 div.sk-item::before, #sk-container-id-1 div.sk-parallel-item::before {content: \"\";position: absolute;border-left: 1px solid gray;box-sizing: border-box;top: 0;bottom: 0;left: 50%;z-index: -1;}#sk-container-id-1 div.sk-parallel-item {display: flex;flex-direction: column;z-index: 1;position: relative;background-color: white;}#sk-container-id-1 div.sk-parallel-item:first-child::after {align-self: flex-end;width: 50%;}#sk-container-id-1 div.sk-parallel-item:last-child::after {align-self: flex-start;width: 50%;}#sk-container-id-1 div.sk-parallel-item:only-child::after {width: 0;}#sk-container-id-1 div.sk-dashed-wrapped {border: 1px dashed gray;margin: 0 0.4em 0.5em 0.4em;box-sizing: border-box;padding-bottom: 0.4em;background-color: white;}#sk-container-id-1 div.sk-label label {font-family: monospace;font-weight: bold;display: inline-block;line-height: 1.2em;}#sk-container-id-1 div.sk-label-container {text-align: center;}#sk-container-id-1 div.sk-container {/* jupyter's `normalize.less` sets `[hidden] { display: none; }` but bootstrap.min.css set `[hidden] { display: none !important; }` so we also need the `!important` here to be able to override the default hidden behavior on the sphinx rendered scikit-learn.org. See: https://github.com/scikit-learn/scikit-learn/issues/21755 */display: inline-block !important;position: relative;}#sk-container-id-1 div.sk-text-repr-fallback {display: none;}</style><div id=\"sk-container-id-1\" class=\"sk-top-container\"><div class=\"sk-text-repr-fallback\"><pre>RandomForestRegressor(random_state=42)</pre><b>In a Jupyter environment, please rerun this cell to show the HTML representation or trust the notebook. <br />On GitHub, the HTML representation is unable to render, please try loading this page with nbviewer.org.</b></div><div class=\"sk-container\" hidden><div class=\"sk-item\"><div class=\"sk-estimator sk-toggleable\"><input class=\"sk-toggleable__control sk-hidden--visually\" id=\"sk-estimator-id-1\" type=\"checkbox\" checked><label for=\"sk-estimator-id-1\" class=\"sk-toggleable__label sk-toggleable__label-arrow\">RandomForestRegressor</label><div class=\"sk-toggleable__content\"><pre>RandomForestRegressor(random_state=42)</pre></div></div></div></div></div>"
      ],
      "text/plain": [
       "RandomForestRegressor(random_state=42)"
      ]
     },
     "execution_count": 10,
     "metadata": {},
     "output_type": "execute_result"
    }
   ],
   "source": [
    "\n",
    "model = RandomForestRegressor(random_state=42)\n",
    "\n",
    "model.fit(X_train, y_train)"
   ]
  },
  {
   "cell_type": "code",
   "execution_count": 11,
   "metadata": {},
   "outputs": [
    {
     "name": "stdout",
     "output_type": "stream",
     "text": [
      "Mean Squared Error: 932.2258294055507\n"
     ]
    }
   ],
   "source": [
    "\n",
    "y_pred = model.predict(X_test)\n",
    "\n",
    "mse = mean_squared_error(y_test, y_pred)\n",
    "\n",
    "print(\"Mean Squared Error:\",mse)"
   ]
  },
  {
   "cell_type": "code",
   "execution_count": 12,
   "metadata": {},
   "outputs": [
    {
     "name": "stdout",
     "output_type": "stream",
     "text": [
      "Linear Regression Mean Squared Error: 340.4899278846117\n",
      "Gradient Boosting Mean Squared Error: 955.620423310595\n",
      "Support Vector Regressor Mean Squared Error: 87058.00330021947\n"
     ]
    }
   ],
   "source": [
    "\n",
    "# Initialize the models\n",
    "linear_reg_model = LinearRegression()\n",
    "gradient_boosting_model = GradientBoostingRegressor(random_state=42)\n",
    "svr_model = SVR()\n",
    "\n",
    "# Train the models\n",
    "linear_reg_model.fit(X_train, y_train)\n",
    "gradient_boosting_model.fit(X_train, y_train)\n",
    "svr_model.fit(X_train, y_train)\n",
    "\n",
    "# Make predictions\n",
    "linear_reg_predictions = linear_reg_model.predict(X_test)\n",
    "gradient_boosting_predictions = gradient_boosting_model.predict(X_test)\n",
    "svr_predictions = svr_model.predict(X_test)\n",
    "\n",
    "# Evaluate the models\n",
    "linear_reg_mse = mean_squared_error(y_test, linear_reg_predictions)\n",
    "gradient_boosting_mse = mean_squared_error(y_test, gradient_boosting_predictions)\n",
    "svr_mse = mean_squared_error(y_test, svr_predictions)\n",
    "\n",
    "print(\"Linear Regression Mean Squared Error:\", linear_reg_mse)\n",
    "print(\"Gradient Boosting Mean Squared Error:\", gradient_boosting_mse)\n",
    "print(\"Support Vector Regressor Mean Squared Error:\", svr_mse)\n"
   ]
  },
  {
   "cell_type": "markdown",
   "metadata": {},
   "source": [
    "### Testing the models"
   ]
  },
  {
   "cell_type": "code",
   "execution_count": 13,
   "metadata": {},
   "outputs": [
    {
     "name": "stdout",
     "output_type": "stream",
     "text": [
      "Please provide input for the trained model:\n",
      "Predicted Close Price: [638.97477237]\n"
     ]
    }
   ],
   "source": [
    "# Request input for the trained model\n",
    "print(\"Please provide input for the trained model:\")\n",
    "open_price = float(input(\"Enter the opening price: \"))\n",
    "high_price = float(input(\"Enter the highest price: \"))\n",
    "low_price = float(input(\"Enter the lowest price: \"))\n",
    "volume = float(input(\"Enter the volume: \"))\n",
    "market_cap = float(input(\"Enter the market cap: \"))\n",
    "\n",
    "# Create a DataFrame with the input data\n",
    "input_data = {\n",
    "    \"Open\": [open_price],\n",
    "    \"High\": [high_price],\n",
    "    \"Low\": [low_price],\n",
    "    \"Volume\": [volume],\n",
    "    \"Market Cap\": [market_cap]\n",
    "}\n",
    "\n",
    "input_df = pd.DataFrame(input_data)\n",
    "\n",
    "# Make prediction using the trained model\n",
    "prediction = model.predict(input_df)\n",
    "print(\"Predicted Close Price:\", prediction)\n"
   ]
  },
  {
   "cell_type": "code",
   "execution_count": null,
   "metadata": {},
   "outputs": [
    {
     "name": "stdout",
     "output_type": "stream",
     "text": [
      "Please provide input for the trained model:\n",
      "Predicted Close Price: [1034.3342983]\n"
     ]
    }
   ],
   "source": [
    "# Request input for the trained model\n",
    "print(\"Please provide input for the trained model:\")\n",
    "open_price = float(input(\"Enter the opening price: \"))\n",
    "high_price = float(input(\"Enter the highest price: \"))\n",
    "low_price = float(input(\"Enter the lowest price: \"))\n",
    "volume = float(input(\"Enter the volume: \"))\n",
    "market_cap = float(input(\"Enter the market cap: \"))\n",
    "\n",
    "# Create a DataFrame with the input data\n",
    "input_data = {\n",
    "    \"Open\": [open_price],\n",
    "    \"High\": [high_price],\n",
    "    \"Low\": [low_price],\n",
    "    \"Volume\": [volume],\n",
    "    \"Market Cap\": [market_cap]\n",
    "}\n",
    "\n",
    "input_df = pd.DataFrame(input_data)\n",
    "\n",
    "# Make prediction using the trained model\n",
    "prediction = linear_reg_model.predict(input_df)\n",
    "print(\"Predicted Close Price:\", prediction)\n"
   ]
  }
 ],
 "metadata": {
  "kernelspec": {
   "display_name": "learn_env",
   "language": "python",
   "name": "python3"
  },
  "language_info": {
   "codemirror_mode": {
    "name": "ipython",
    "version": 3
   },
   "file_extension": ".py",
   "mimetype": "text/x-python",
   "name": "python",
   "nbconvert_exporter": "python",
   "pygments_lexer": "ipython3",
   "version": "3.10.14"
  }
 },
 "nbformat": 4,
 "nbformat_minor": 2
}
