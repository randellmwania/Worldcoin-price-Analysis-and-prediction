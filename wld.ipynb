{
 "cells": [
  {
   "cell_type": "markdown",
   "metadata": {},
   "source": [
    "# WorldCoin Price Analysis and Prediction"
   ]
  },
  {
   "cell_type": "markdown",
   "metadata": {},
   "source": [
    "### Import Necessary Libraries"
   ]
  },
  {
   "cell_type": "code",
   "execution_count": 1,
   "metadata": {},
   "outputs": [],
   "source": [
    "import pandas as pd\n",
    "import matplotlib.pyplot as plt\n",
    "import seaborn as sns\n",
    "\n",
    "from sklearn.model_selection import train_test_split\n",
    "from sklearn.ensemble import  RandomForestRegressor\n",
    "from sklearn.metrics import mean_squared_error\n",
    "from sklearn.linear_model import LinearRegression\n",
    "from sklearn.ensemble import GradientBoostingRegressor\n",
    "from sklearn.svm import SVR\n"
   ]
  },
  {
   "cell_type": "markdown",
   "metadata": {},
   "source": [
    "### Data Exploration"
   ]
  },
  {
   "cell_type": "code",
   "execution_count": 2,
   "metadata": {},
   "outputs": [
    {
     "data": {
      "text/html": [
       "<div>\n",
       "<style scoped>\n",
       "    .dataframe tbody tr th:only-of-type {\n",
       "        vertical-align: middle;\n",
       "    }\n",
       "\n",
       "    .dataframe tbody tr th {\n",
       "        vertical-align: top;\n",
       "    }\n",
       "\n",
       "    .dataframe thead th {\n",
       "        text-align: right;\n",
       "    }\n",
       "</style>\n",
       "<table border=\"1\" class=\"dataframe\">\n",
       "  <thead>\n",
       "    <tr style=\"text-align: right;\">\n",
       "      <th></th>\n",
       "      <th>Start</th>\n",
       "      <th>End</th>\n",
       "      <th>Open</th>\n",
       "      <th>High</th>\n",
       "      <th>Low</th>\n",
       "      <th>Close</th>\n",
       "      <th>Volume</th>\n",
       "      <th>Market Cap</th>\n",
       "    </tr>\n",
       "  </thead>\n",
       "  <tbody>\n",
       "    <tr>\n",
       "      <th>0</th>\n",
       "      <td>2024-04-06</td>\n",
       "      <td>2024-04-07</td>\n",
       "      <td>890.780752</td>\n",
       "      <td>938.979210</td>\n",
       "      <td>886.936745</td>\n",
       "      <td>906.208379</td>\n",
       "      <td>7.565334e+10</td>\n",
       "      <td>1.616573e+11</td>\n",
       "    </tr>\n",
       "    <tr>\n",
       "      <th>1</th>\n",
       "      <td>2024-04-05</td>\n",
       "      <td>2024-04-06</td>\n",
       "      <td>889.854757</td>\n",
       "      <td>905.502835</td>\n",
       "      <td>846.265092</td>\n",
       "      <td>894.846138</td>\n",
       "      <td>7.246116e+10</td>\n",
       "      <td>1.556930e+11</td>\n",
       "    </tr>\n",
       "    <tr>\n",
       "      <th>2</th>\n",
       "      <td>2024-04-04</td>\n",
       "      <td>2024-04-05</td>\n",
       "      <td>877.690759</td>\n",
       "      <td>927.671819</td>\n",
       "      <td>863.960901</td>\n",
       "      <td>894.425690</td>\n",
       "      <td>7.099052e+10</td>\n",
       "      <td>1.561048e+11</td>\n",
       "    </tr>\n",
       "    <tr>\n",
       "      <th>3</th>\n",
       "      <td>2024-04-03</td>\n",
       "      <td>2024-04-04</td>\n",
       "      <td>886.188334</td>\n",
       "      <td>929.530345</td>\n",
       "      <td>859.840030</td>\n",
       "      <td>879.586602</td>\n",
       "      <td>9.566956e+10</td>\n",
       "      <td>1.553503e+11</td>\n",
       "    </tr>\n",
       "    <tr>\n",
       "      <th>4</th>\n",
       "      <td>2024-04-02</td>\n",
       "      <td>2024-04-03</td>\n",
       "      <td>992.271193</td>\n",
       "      <td>992.446894</td>\n",
       "      <td>887.899741</td>\n",
       "      <td>890.927552</td>\n",
       "      <td>1.048024e+11</td>\n",
       "      <td>1.560993e+11</td>\n",
       "    </tr>\n",
       "  </tbody>\n",
       "</table>\n",
       "</div>"
      ],
      "text/plain": [
       "        Start         End        Open        High         Low       Close  \\\n",
       "0  2024-04-06  2024-04-07  890.780752  938.979210  886.936745  906.208379   \n",
       "1  2024-04-05  2024-04-06  889.854757  905.502835  846.265092  894.846138   \n",
       "2  2024-04-04  2024-04-05  877.690759  927.671819  863.960901  894.425690   \n",
       "3  2024-04-03  2024-04-04  886.188334  929.530345  859.840030  879.586602   \n",
       "4  2024-04-02  2024-04-03  992.271193  992.446894  887.899741  890.927552   \n",
       "\n",
       "         Volume    Market Cap  \n",
       "0  7.565334e+10  1.616573e+11  \n",
       "1  7.246116e+10  1.556930e+11  \n",
       "2  7.099052e+10  1.561048e+11  \n",
       "3  9.566956e+10  1.553503e+11  \n",
       "4  1.048024e+11  1.560993e+11  "
      ]
     },
     "execution_count": 2,
     "metadata": {},
     "output_type": "execute_result"
    }
   ],
   "source": [
    "df = pd.read_csv(\"worldcoin-org_2023-07-24_2024-04-07.csv\")\n",
    "df.head()"
   ]
  },
  {
   "cell_type": "markdown",
   "metadata": {},
   "source": [
    "### Data cleaning"
   ]
  },
  {
   "cell_type": "code",
   "execution_count": 3,
   "metadata": {},
   "outputs": [],
   "source": [
    "df['Start'] = pd.to_datetime(df['Start'])\n",
    "df['End'] = pd.to_datetime(df['End'])"
   ]
  },
  {
   "cell_type": "code",
   "execution_count": 4,
   "metadata": {},
   "outputs": [
    {
     "data": {
      "text/html": [
       "<div>\n",
       "<style scoped>\n",
       "    .dataframe tbody tr th:only-of-type {\n",
       "        vertical-align: middle;\n",
       "    }\n",
       "\n",
       "    .dataframe tbody tr th {\n",
       "        vertical-align: top;\n",
       "    }\n",
       "\n",
       "    .dataframe thead th {\n",
       "        text-align: right;\n",
       "    }\n",
       "</style>\n",
       "<table border=\"1\" class=\"dataframe\">\n",
       "  <thead>\n",
       "    <tr style=\"text-align: right;\">\n",
       "      <th></th>\n",
       "      <th>Start</th>\n",
       "      <th>End</th>\n",
       "      <th>Open</th>\n",
       "      <th>High</th>\n",
       "      <th>Low</th>\n",
       "      <th>Close</th>\n",
       "      <th>Volume</th>\n",
       "      <th>Market Cap</th>\n",
       "    </tr>\n",
       "  </thead>\n",
       "  <tbody>\n",
       "    <tr>\n",
       "      <th>0</th>\n",
       "      <td>2024-04-06</td>\n",
       "      <td>2024-04-07</td>\n",
       "      <td>890.780752</td>\n",
       "      <td>938.979210</td>\n",
       "      <td>886.936745</td>\n",
       "      <td>906.208379</td>\n",
       "      <td>7.565334e+10</td>\n",
       "      <td>1.616573e+11</td>\n",
       "    </tr>\n",
       "    <tr>\n",
       "      <th>1</th>\n",
       "      <td>2024-04-05</td>\n",
       "      <td>2024-04-06</td>\n",
       "      <td>889.854757</td>\n",
       "      <td>905.502835</td>\n",
       "      <td>846.265092</td>\n",
       "      <td>894.846138</td>\n",
       "      <td>7.246116e+10</td>\n",
       "      <td>1.556930e+11</td>\n",
       "    </tr>\n",
       "    <tr>\n",
       "      <th>2</th>\n",
       "      <td>2024-04-04</td>\n",
       "      <td>2024-04-05</td>\n",
       "      <td>877.690759</td>\n",
       "      <td>927.671819</td>\n",
       "      <td>863.960901</td>\n",
       "      <td>894.425690</td>\n",
       "      <td>7.099052e+10</td>\n",
       "      <td>1.561048e+11</td>\n",
       "    </tr>\n",
       "    <tr>\n",
       "      <th>3</th>\n",
       "      <td>2024-04-03</td>\n",
       "      <td>2024-04-04</td>\n",
       "      <td>886.188334</td>\n",
       "      <td>929.530345</td>\n",
       "      <td>859.840030</td>\n",
       "      <td>879.586602</td>\n",
       "      <td>9.566956e+10</td>\n",
       "      <td>1.553503e+11</td>\n",
       "    </tr>\n",
       "    <tr>\n",
       "      <th>4</th>\n",
       "      <td>2024-04-02</td>\n",
       "      <td>2024-04-03</td>\n",
       "      <td>992.271193</td>\n",
       "      <td>992.446894</td>\n",
       "      <td>887.899741</td>\n",
       "      <td>890.927552</td>\n",
       "      <td>1.048024e+11</td>\n",
       "      <td>1.560993e+11</td>\n",
       "    </tr>\n",
       "    <tr>\n",
       "      <th>...</th>\n",
       "      <td>...</td>\n",
       "      <td>...</td>\n",
       "      <td>...</td>\n",
       "      <td>...</td>\n",
       "      <td>...</td>\n",
       "      <td>...</td>\n",
       "      <td>...</td>\n",
       "      <td>...</td>\n",
       "    </tr>\n",
       "    <tr>\n",
       "      <th>253</th>\n",
       "      <td>2023-07-28</td>\n",
       "      <td>2023-07-29</td>\n",
       "      <td>269.412846</td>\n",
       "      <td>289.878625</td>\n",
       "      <td>267.642948</td>\n",
       "      <td>288.979025</td>\n",
       "      <td>6.077311e+10</td>\n",
       "      <td>2.953945e+10</td>\n",
       "    </tr>\n",
       "    <tr>\n",
       "      <th>254</th>\n",
       "      <td>2023-07-27</td>\n",
       "      <td>2023-07-28</td>\n",
       "      <td>291.035492</td>\n",
       "      <td>299.287945</td>\n",
       "      <td>271.829975</td>\n",
       "      <td>273.141821</td>\n",
       "      <td>9.588054e+10</td>\n",
       "      <td>3.005312e+10</td>\n",
       "    </tr>\n",
       "    <tr>\n",
       "      <th>255</th>\n",
       "      <td>2023-07-26</td>\n",
       "      <td>2023-07-27</td>\n",
       "      <td>297.283383</td>\n",
       "      <td>325.197377</td>\n",
       "      <td>285.743239</td>\n",
       "      <td>292.549497</td>\n",
       "      <td>1.916170e+11</td>\n",
       "      <td>3.200305e+10</td>\n",
       "    </tr>\n",
       "    <tr>\n",
       "      <th>256</th>\n",
       "      <td>2023-07-25</td>\n",
       "      <td>2023-07-26</td>\n",
       "      <td>281.872222</td>\n",
       "      <td>313.259330</td>\n",
       "      <td>248.828286</td>\n",
       "      <td>296.497094</td>\n",
       "      <td>1.757652e+11</td>\n",
       "      <td>2.923950e+10</td>\n",
       "    </tr>\n",
       "    <tr>\n",
       "      <th>257</th>\n",
       "      <td>2023-07-24</td>\n",
       "      <td>2023-07-25</td>\n",
       "      <td>235.646740</td>\n",
       "      <td>418.937737</td>\n",
       "      <td>229.938491</td>\n",
       "      <td>286.633232</td>\n",
       "      <td>6.085875e+10</td>\n",
       "      <td>2.937799e+10</td>\n",
       "    </tr>\n",
       "  </tbody>\n",
       "</table>\n",
       "<p>258 rows × 8 columns</p>\n",
       "</div>"
      ],
      "text/plain": [
       "         Start        End        Open        High         Low       Close  \\\n",
       "0   2024-04-06 2024-04-07  890.780752  938.979210  886.936745  906.208379   \n",
       "1   2024-04-05 2024-04-06  889.854757  905.502835  846.265092  894.846138   \n",
       "2   2024-04-04 2024-04-05  877.690759  927.671819  863.960901  894.425690   \n",
       "3   2024-04-03 2024-04-04  886.188334  929.530345  859.840030  879.586602   \n",
       "4   2024-04-02 2024-04-03  992.271193  992.446894  887.899741  890.927552   \n",
       "..         ...        ...         ...         ...         ...         ...   \n",
       "253 2023-07-28 2023-07-29  269.412846  289.878625  267.642948  288.979025   \n",
       "254 2023-07-27 2023-07-28  291.035492  299.287945  271.829975  273.141821   \n",
       "255 2023-07-26 2023-07-27  297.283383  325.197377  285.743239  292.549497   \n",
       "256 2023-07-25 2023-07-26  281.872222  313.259330  248.828286  296.497094   \n",
       "257 2023-07-24 2023-07-25  235.646740  418.937737  229.938491  286.633232   \n",
       "\n",
       "           Volume    Market Cap  \n",
       "0    7.565334e+10  1.616573e+11  \n",
       "1    7.246116e+10  1.556930e+11  \n",
       "2    7.099052e+10  1.561048e+11  \n",
       "3    9.566956e+10  1.553503e+11  \n",
       "4    1.048024e+11  1.560993e+11  \n",
       "..            ...           ...  \n",
       "253  6.077311e+10  2.953945e+10  \n",
       "254  9.588054e+10  3.005312e+10  \n",
       "255  1.916170e+11  3.200305e+10  \n",
       "256  1.757652e+11  2.923950e+10  \n",
       "257  6.085875e+10  2.937799e+10  \n",
       "\n",
       "[258 rows x 8 columns]"
      ]
     },
     "execution_count": 4,
     "metadata": {},
     "output_type": "execute_result"
    }
   ],
   "source": [
    "df"
   ]
  },
  {
   "cell_type": "code",
   "execution_count": 5,
   "metadata": {},
   "outputs": [
    {
     "data": {
      "text/html": [
       "<div>\n",
       "<style scoped>\n",
       "    .dataframe tbody tr th:only-of-type {\n",
       "        vertical-align: middle;\n",
       "    }\n",
       "\n",
       "    .dataframe tbody tr th {\n",
       "        vertical-align: top;\n",
       "    }\n",
       "\n",
       "    .dataframe thead th {\n",
       "        text-align: right;\n",
       "    }\n",
       "</style>\n",
       "<table border=\"1\" class=\"dataframe\">\n",
       "  <thead>\n",
       "    <tr style=\"text-align: right;\">\n",
       "      <th></th>\n",
       "      <th>Start</th>\n",
       "      <th>End</th>\n",
       "      <th>Open</th>\n",
       "      <th>High</th>\n",
       "      <th>Low</th>\n",
       "      <th>Close</th>\n",
       "      <th>Volume</th>\n",
       "      <th>Market Cap</th>\n",
       "    </tr>\n",
       "  </thead>\n",
       "  <tbody>\n",
       "    <tr>\n",
       "      <th>count</th>\n",
       "      <td>258</td>\n",
       "      <td>258</td>\n",
       "      <td>258.000000</td>\n",
       "      <td>258.000000</td>\n",
       "      <td>258.000000</td>\n",
       "      <td>258.000000</td>\n",
       "      <td>2.580000e+02</td>\n",
       "      <td>2.580000e+02</td>\n",
       "    </tr>\n",
       "    <tr>\n",
       "      <th>mean</th>\n",
       "      <td>2023-11-29 12:00:00</td>\n",
       "      <td>2023-11-30 12:00:00</td>\n",
       "      <td>425.972823</td>\n",
       "      <td>454.455928</td>\n",
       "      <td>404.571977</td>\n",
       "      <td>428.603258</td>\n",
       "      <td>8.828542e+10</td>\n",
       "      <td>5.699053e+10</td>\n",
       "    </tr>\n",
       "    <tr>\n",
       "      <th>min</th>\n",
       "      <td>2023-07-24 00:00:00</td>\n",
       "      <td>2023-07-25 00:00:00</td>\n",
       "      <td>131.132606</td>\n",
       "      <td>134.887795</td>\n",
       "      <td>126.613823</td>\n",
       "      <td>130.926112</td>\n",
       "      <td>1.136242e+10</td>\n",
       "      <td>1.712790e+10</td>\n",
       "    </tr>\n",
       "    <tr>\n",
       "      <th>25%</th>\n",
       "      <td>2023-09-26 06:00:00</td>\n",
       "      <td>2023-09-27 06:00:00</td>\n",
       "      <td>218.340849</td>\n",
       "      <td>232.583059</td>\n",
       "      <td>211.746826</td>\n",
       "      <td>217.672223</td>\n",
       "      <td>2.769398e+10</td>\n",
       "      <td>2.673836e+10</td>\n",
       "    </tr>\n",
       "    <tr>\n",
       "      <th>50%</th>\n",
       "      <td>2023-11-29 12:00:00</td>\n",
       "      <td>2023-11-30 12:00:00</td>\n",
       "      <td>304.648220</td>\n",
       "      <td>320.462953</td>\n",
       "      <td>294.765628</td>\n",
       "      <td>305.931797</td>\n",
       "      <td>4.700659e+10</td>\n",
       "      <td>3.628125e+10</td>\n",
       "    </tr>\n",
       "    <tr>\n",
       "      <th>75%</th>\n",
       "      <td>2024-02-01 18:00:00</td>\n",
       "      <td>2024-02-02 18:00:00</td>\n",
       "      <td>455.089871</td>\n",
       "      <td>488.423247</td>\n",
       "      <td>440.167729</td>\n",
       "      <td>458.137758</td>\n",
       "      <td>9.727559e+10</td>\n",
       "      <td>4.848904e+10</td>\n",
       "    </tr>\n",
       "    <tr>\n",
       "      <th>max</th>\n",
       "      <td>2024-04-06 00:00:00</td>\n",
       "      <td>2024-04-07 00:00:00</td>\n",
       "      <td>1515.853013</td>\n",
       "      <td>1530.514760</td>\n",
       "      <td>1223.673771</td>\n",
       "      <td>1504.479761</td>\n",
       "      <td>5.776873e+11</td>\n",
       "      <td>1.950724e+11</td>\n",
       "    </tr>\n",
       "    <tr>\n",
       "      <th>std</th>\n",
       "      <td>NaN</td>\n",
       "      <td>NaN</td>\n",
       "      <td>322.476262</td>\n",
       "      <td>346.994794</td>\n",
       "      <td>300.199876</td>\n",
       "      <td>323.549016</td>\n",
       "      <td>1.074909e+11</td>\n",
       "      <td>5.151867e+10</td>\n",
       "    </tr>\n",
       "  </tbody>\n",
       "</table>\n",
       "</div>"
      ],
      "text/plain": [
       "                     Start                  End         Open         High  \\\n",
       "count                  258                  258   258.000000   258.000000   \n",
       "mean   2023-11-29 12:00:00  2023-11-30 12:00:00   425.972823   454.455928   \n",
       "min    2023-07-24 00:00:00  2023-07-25 00:00:00   131.132606   134.887795   \n",
       "25%    2023-09-26 06:00:00  2023-09-27 06:00:00   218.340849   232.583059   \n",
       "50%    2023-11-29 12:00:00  2023-11-30 12:00:00   304.648220   320.462953   \n",
       "75%    2024-02-01 18:00:00  2024-02-02 18:00:00   455.089871   488.423247   \n",
       "max    2024-04-06 00:00:00  2024-04-07 00:00:00  1515.853013  1530.514760   \n",
       "std                    NaN                  NaN   322.476262   346.994794   \n",
       "\n",
       "               Low        Close        Volume    Market Cap  \n",
       "count   258.000000   258.000000  2.580000e+02  2.580000e+02  \n",
       "mean    404.571977   428.603258  8.828542e+10  5.699053e+10  \n",
       "min     126.613823   130.926112  1.136242e+10  1.712790e+10  \n",
       "25%     211.746826   217.672223  2.769398e+10  2.673836e+10  \n",
       "50%     294.765628   305.931797  4.700659e+10  3.628125e+10  \n",
       "75%     440.167729   458.137758  9.727559e+10  4.848904e+10  \n",
       "max    1223.673771  1504.479761  5.776873e+11  1.950724e+11  \n",
       "std     300.199876   323.549016  1.074909e+11  5.151867e+10  "
      ]
     },
     "execution_count": 5,
     "metadata": {},
     "output_type": "execute_result"
    }
   ],
   "source": [
    "df.describe()"
   ]
  },
  {
   "cell_type": "code",
   "execution_count": 6,
   "metadata": {},
   "outputs": [
    {
     "name": "stdout",
     "output_type": "stream",
     "text": [
      "<class 'pandas.core.frame.DataFrame'>\n",
      "RangeIndex: 258 entries, 0 to 257\n",
      "Data columns (total 8 columns):\n",
      " #   Column      Non-Null Count  Dtype         \n",
      "---  ------      --------------  -----         \n",
      " 0   Start       258 non-null    datetime64[ns]\n",
      " 1   End         258 non-null    datetime64[ns]\n",
      " 2   Open        258 non-null    float64       \n",
      " 3   High        258 non-null    float64       \n",
      " 4   Low         258 non-null    float64       \n",
      " 5   Close       258 non-null    float64       \n",
      " 6   Volume      258 non-null    float64       \n",
      " 7   Market Cap  258 non-null    float64       \n",
      "dtypes: datetime64[ns](2), float64(6)\n",
      "memory usage: 16.2 KB\n"
     ]
    }
   ],
   "source": [
    "df.info()"
   ]
  },
  {
   "cell_type": "markdown",
   "metadata": {},
   "source": [
    "### EDA"
   ]
  },
  {
   "cell_type": "code",
   "execution_count": 7,
   "metadata": {},
   "outputs": [
    {
     "name": "stderr",
     "output_type": "stream",
     "text": [
      "c:\\Users\\Randell\\anaconda3\\envs\\learn-env\\lib\\site-packages\\seaborn\\_oldcore.py:1119: FutureWarning: use_inf_as_na option is deprecated and will be removed in a future version. Convert inf values to NaN before operating instead.\n",
      "  with pd.option_context('mode.use_inf_as_na', True):\n"
     ]
    },
    {
     "data": {
      "image/png": "[encoded data removed]",
      "text/plain": [
       "<Figure size 1000x600 with 1 Axes>"
      ]
     },
     "metadata": {},
     "output_type": "display_data"
    }
   ],
   "source": [
    "# Plot the distribution of the target variable 'Close'\n",
    "plt.figure(figsize=(10, 6))\n",
    "sns.histplot(df['Close'], bins=20, kde=True)\n",
    "plt.title('Distribution of Close Price')\n",
    "plt.xlabel('Close Price')\n",
    "plt.ylabel('Frequency')\n",
    "plt.show()"
   ]
  },
  {
   "cell_type": "code",
   "execution_count": 8,
   "metadata": {},
   "outputs": [
    {
     "data": {
      "image/png": "[encoded data removed]",
      "text/plain": [
       "<Figure size 1200x600 with 1 Axes>"
      ]
     },
     "metadata": {},
     "output_type": "display_data"
    }
   ],
   "source": [
    "# Plot time series of 'Close' price\n",
    "plt.figure(figsize=(12, 6))\n",
    "plt.plot(df['End'], df['Close'], linestyle='-')\n",
    "plt.title('Time Series of Close Price')\n",
    "plt.xlabel('Date')\n",
    "plt.ylabel('Close Price')\n",
    "plt.xticks(rotation=45)\n",
    "plt.grid(True)\n",
    "plt.show()"
   ]
  },
  {
   "cell_type": "markdown",
   "metadata": {},
   "source": [
    "### Model Development"
   ]
  },
  {
   "cell_type": "code",
   "execution_count": 9,
   "metadata": {},
   "outputs": [],
   "source": [
    "X = df[[\"Open\", \"High\", \"Low\", \"Volume\", \"Market Cap\"]]\n",
    "y = df[\"Close\"]\n",
    "\n",
    "X_train, X_test, y_train, y_test = train_test_split(X, y, test_size=0.2, random_state=42)"
   ]
  },
  {
   "cell_type": "code",
   "execution_count": 10,
   "metadata": {},
   "outputs": [
    {
     "data": {
      "text/html": [
       "<style>#sk-container-id-1 {color: black;}#sk-container-id-1 pre{padding: 0;}#sk-container-id-1 div.sk-toggleable {background-color: white;}#sk-container-id-1 label.sk-toggleable__label {cursor: pointer;display: block;width: 100%;margin-bottom: 0;padding: 0.3em;box-sizing: border-box;text-align: center;}#sk-container-id-1 label.sk-toggleable__label-arrow:before {content: \"▸\";float: left;margin-right: 0.25em;color: #696969;}#sk-container-id-1 label.sk-toggleable__label-arrow:hover:before {color: black;}#sk-container-id-1 div.sk-estimator:hover label.sk-toggleable__label-arrow:before {color: black;}#sk-container-id-1 div.sk-toggleable__content {max-height: 0;max-width: 0;overflow: hidden;text-align: left;background-color: #f0f8ff;}#sk-container-id-1 div.sk-toggleable__content pre {margin: 0.2em;color: black;border-radius: 0.25em;background-color: #f0f8ff;}#sk-container-id-1 input.sk-toggleable__control:checked~div.sk-toggleable__content {max-height: 200px;max-width: 100%;overflow: auto;}#sk-container-id-1 input.sk-toggleable__control:checked~label.sk-toggleable__label-arrow:before {content: \"▾\";}#sk-container-id-1 div.sk-estimator input.sk-toggleable__control:checked~label.sk-toggleable__label {background-color: #d4ebff;}#sk-container-id-1 div.sk-label input.sk-toggleable__control:checked~label.sk-toggleable__label {background-color: #d4ebff;}#sk-container-id-1 input.sk-hidden--visually {border: 0;clip: rect(1px 1px 1px 1px);clip: rect(1px, 1px, 1px, 1px);height: 1px;margin: -1px;overflow: hidden;padding: 0;position: absolute;width: 1px;}#sk-container-id-1 div.sk-estimator {font-family: monospace;background-color: #f0f8ff;border: 1px dotted black;border-radius: 0.25em;box-sizing: border-box;margin-bottom: 0.5em;}#sk-container-id-1 div.sk-estimator:hover {background-color: #d4ebff;}#sk-container-id-1 div.sk-parallel-item::after {content: \"\";width: 100%;border-bottom: 1px solid gray;flex-grow: 1;}#sk-container-id-1 div.sk-label:hover label.sk-toggleable__label {background-color: #d4ebff;}#sk-container-id-1 div.sk-serial::before {content: \"\";position: absolute;border-left: 1px solid gray;box-sizing: border-box;top: 0;bottom: 0;left: 50%;z-index: 0;}#sk-container-id-1 div.sk-serial {display: flex;flex-direction: column;align-items: center;background-color: white;padding-right: 0.2em;padding-left: 0.2em;position: relative;}#sk-container-id-1 div.sk-item {position: relative;z-index: 1;}#sk-container-id-1 div.sk-parallel {display: flex;align-items: stretch;justify-content: center;background-color: white;position: relative;}#sk-container-id-1 div.sk-item::before, #sk-container-id-1 div.sk-parallel-item::before {content: \"\";position: absolute;border-left: 1px solid gray;box-sizing: border-box;top: 0;bottom: 0;left: 50%;z-index: -1;}#sk-container-id-1 div.sk-parallel-item {display: flex;flex-direction: column;z-index: 1;position: relative;background-color: white;}#sk-container-id-1 div.sk-parallel-item:first-child::after {align-self: flex-end;width: 50%;}#sk-container-id-1 div.sk-parallel-item:last-child::after {align-self: flex-start;width: 50%;}#sk-container-id-1 div.sk-parallel-item:only-child::after {width: 0;}#sk-container-id-1 div.sk-dashed-wrapped {border: 1px dashed gray;margin: 0 0.4em 0.5em 0.4em;box-sizing: border-box;padding-bottom: 0.4em;background-color: white;}#sk-container-id-1 div.sk-label label {font-family: monospace;font-weight: bold;display: inline-block;line-height: 1.2em;}#sk-container-id-1 div.sk-label-container {text-align: center;}#sk-container-id-1 div.sk-container {/* jupyter's `normalize.less` sets `[hidden] { display: none; }` but bootstrap.min.css set `[hidden] { display: none !important; }` so we also need the `!important` here to be able to override the default hidden behavior on the sphinx rendered scikit-learn.org. See: https://github.com/scikit-learn/scikit-learn/issues/21755 */display: inline-block !important;position: relative;}#sk-container-id-1 div.sk-text-repr-fallback {display: none;}</style><div id=\"sk-container-id-1\" class=\"sk-top-container\"><div class=\"sk-text-repr-fallback\"><pre>RandomForestRegressor(random_state=42)</pre><b>In a Jupyter environment, please rerun this cell to show the HTML representation or trust the notebook. <br />On GitHub, the HTML representation is unable to render, please try loading this page with nbviewer.org.</b></div><div class=\"sk-container\" hidden><div class=\"sk-item\"><div class=\"sk-estimator sk-toggleable\"><input class=\"sk-toggleable__control sk-hidden--visually\" id=\"sk-estimator-id-1\" type=\"checkbox\" checked><label for=\"sk-estimator-id-1\" class=\"sk-toggleable__label sk-toggleable__label-arrow\">RandomForestRegressor</label><div class=\"sk-toggleable__content\"><pre>RandomForestRegressor(random_state=42)</pre></div></div></div></div></div>"
      ],
      "text/plain": [
       "RandomForestRegressor(random_state=42)"
      ]
     },
     "execution_count": 10,
     "metadata": {},
     "output_type": "execute_result"
    }
   ],
   "source": [
    "\n",
    "model = RandomForestRegressor(random_state=42)\n",
    "\n",
    "model.fit(X_train, y_train)"
   ]
  },
  {
   "cell_type": "code",
   "execution_count": 11,
   "metadata": {},
   "outputs": [
    {
     "name": "stdout",
     "output_type": "stream",
     "text": [
      "Mean Squared Error: 695.0642956522778\n"
     ]
    }
   ],
   "source": [
    "\n",
    "y_pred = model.predict(X_test)\n",
    "\n",
    "mse = mean_squared_error(y_test, y_pred)\n",
    "\n",
    "print(\"Mean Squared Error:\",mse)"
   ]
  },
  {
   "cell_type": "code",
   "execution_count": 12,
   "metadata": {},
   "outputs": [
    {
     "name": "stdout",
     "output_type": "stream",
     "text": [
      "Linear Regression Mean Squared Error: 421.7008308581419\n",
      "Gradient Boosting Mean Squared Error: 617.0126069117615\n",
      "Support Vector Regressor Mean Squared Error: 135953.594406738\n"
     ]
    }
   ],
   "source": [
    "\n",
    "# Initialize the models\n",
    "linear_reg_model = LinearRegression()\n",
    "gradient_boosting_model = GradientBoostingRegressor(random_state=42)\n",
    "svr_model = SVR()\n",
    "\n",
    "# Train the models\n",
    "linear_reg_model.fit(X_train, y_train)\n",
    "gradient_boosting_model.fit(X_train, y_train)\n",
    "svr_model.fit(X_train, y_train)\n",
    "\n",
    "# Make predictions\n",
    "linear_reg_predictions = linear_reg_model.predict(X_test)\n",
    "gradient_boosting_predictions = gradient_boosting_model.predict(X_test)\n",
    "svr_predictions = svr_model.predict(X_test)\n",
    "\n",
    "# Evaluate the models\n",
    "linear_reg_mse = mean_squared_error(y_test, linear_reg_predictions)\n",
    "gradient_boosting_mse = mean_squared_error(y_test, gradient_boosting_predictions)\n",
    "svr_mse = mean_squared_error(y_test, svr_predictions)\n",
    "\n",
    "print(\"Linear Regression Mean Squared Error:\", linear_reg_mse)\n",
    "print(\"Gradient Boosting Mean Squared Error:\", gradient_boosting_mse)\n",
    "print(\"Support Vector Regressor Mean Squared Error:\", svr_mse)\n"
   ]
  },
  {
   "cell_type": "markdown",
   "metadata": {},
   "source": [
    "### Testing the models"
   ]
  },
  {
   "cell_type": "code",
   "execution_count": 24,
   "metadata": {},
   "outputs": [
    {
     "name": "stdout",
     "output_type": "stream",
     "text": [
      "Please provide input for the trained model:\n",
      "Predicted Close Price: [1003.83447517]\n"
     ]
    }
   ],
   "source": [
    "# Request input for the trained model\n",
    "print(\"Please provide input for the trained model:\")\n",
    "open_price = float(input(\"Enter the opening price: \"))\n",
    "high_price = float(input(\"Enter the highest price: \"))\n",
    "low_price = float(input(\"Enter the lowest price: \"))\n",
    "volume = float(input(\"Enter the volume: \"))\n",
    "market_cap = float(input(\"Enter the market cap: \"))\n",
    "\n",
    "# Create a DataFrame with the input data\n",
    "input_data = {\n",
    "    \"Open\": [open_price],\n",
    "    \"High\": [high_price],\n",
    "    \"Low\": [low_price],\n",
    "    \"Volume\": [volume],\n",
    "    \"Market Cap\": [market_cap]\n",
    "}\n",
    "\n",
    "input_df = pd.DataFrame(input_data)\n",
    "\n",
    "# Make prediction using the trained model\n",
    "prediction = model.predict(input_df)\n",
    "print(\"Predicted Close Price:\", prediction)\n"
   ]
  },
  {
   "cell_type": "code",
   "execution_count": 26,
   "metadata": {},
   "outputs": [
    {
     "name": "stdout",
     "output_type": "stream",
     "text": [
      "Please provide input for the trained model:\n",
      "Predicted Close Price: [1034.3342983]\n"
     ]
    }
   ],
   "source": [
    "# Request input for the trained model\n",
    "print(\"Please provide input for the trained model:\")\n",
    "open_price = float(input(\"Enter the opening price: \"))\n",
    "high_price = float(input(\"Enter the highest price: \"))\n",
    "low_price = float(input(\"Enter the lowest price: \"))\n",
    "volume = float(input(\"Enter the volume: \"))\n",
    "market_cap = float(input(\"Enter the market cap: \"))\n",
    "\n",
    "# Create a DataFrame with the input data\n",
    "input_data = {\n",
    "    \"Open\": [open_price],\n",
    "    \"High\": [high_price],\n",
    "    \"Low\": [low_price],\n",
    "    \"Volume\": [volume],\n",
    "    \"Market Cap\": [market_cap]\n",
    "}\n",
    "\n",
    "input_df = pd.DataFrame(input_data)\n",
    "\n",
    "# Make prediction using the trained model\n",
    "prediction = linear_reg_model.predict(input_df)\n",
    "print(\"Predicted Close Price:\", prediction)\n"
   ]
  }
 ],
 "metadata": {
  "kernelspec": {
   "display_name": "learn_env",
   "language": "python",
   "name": "python3"
  },
  "language_info": {
   "codemirror_mode": {
    "name": "ipython",
    "version": 3
   },
   "file_extension": ".py",
   "mimetype": "text/x-python",
   "name": "python",
   "nbconvert_exporter": "python",
   "pygments_lexer": "ipython3",
   "version": "3.10.14"
  }
 },
 "nbformat": 4,
 "nbformat_minor": 2
}
