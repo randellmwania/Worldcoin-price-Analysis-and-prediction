{
 "cells": [
  {
   "cell_type": "markdown",
   "metadata": {},
   "source": [
    "# WorldCoin Price Analysis and Prediction"
   ]
  },
  {
   "cell_type": "markdown",
   "metadata": {},
   "source": [
    "### Import Necessary Libraries"
   ]
  },
  {
   "cell_type": "code",
   "execution_count": 1,
   "metadata": {},
   "outputs": [],
   "source": [
    "import pandas as pd\n",
    "import matplotlib.pyplot as plt\n",
    "import seaborn as sns\n",
    "\n",
    "from sklearn.model_selection import train_test_split\n",
    "from sklearn.ensemble import  RandomForestRegressor\n",
    "from sklearn.metrics import mean_squared_error\n",
    "from sklearn.linear_model import LinearRegression\n",
    "from sklearn.ensemble import GradientBoostingRegressor\n",
    "from sklearn.svm import SVR\n"
   ]
  },
  {
   "cell_type": "markdown",
   "metadata": {},
   "source": [
    "### Data Exploration"
   ]
  },
  {
   "cell_type": "code",
   "execution_count": 2,
   "metadata": {},
   "outputs": [
    {
     "data": {
      "text/html": [
       "<div>\n",
       "<style scoped>\n",
       "    .dataframe tbody tr th:only-of-type {\n",
       "        vertical-align: middle;\n",
       "    }\n",
       "\n",
       "    .dataframe tbody tr th {\n",
       "        vertical-align: top;\n",
       "    }\n",
       "\n",
       "    .dataframe thead th {\n",
       "        text-align: right;\n",
       "    }\n",
       "</style>\n",
       "<table border=\"1\" class=\"dataframe\">\n",
       "  <thead>\n",
       "    <tr style=\"text-align: right;\">\n",
       "      <th></th>\n",
       "      <th>Start</th>\n",
       "      <th>End</th>\n",
       "      <th>Open</th>\n",
       "      <th>High</th>\n",
       "      <th>Low</th>\n",
       "      <th>Close</th>\n",
       "      <th>Volume</th>\n",
       "      <th>Market Cap</th>\n",
       "    </tr>\n",
       "  </thead>\n",
       "  <tbody>\n",
       "    <tr>\n",
       "      <th>0</th>\n",
       "      <td>2024-04-08</td>\n",
       "      <td>2024-04-09</td>\n",
       "      <td>933.952836</td>\n",
       "      <td>967.209462</td>\n",
       "      <td>913.718538</td>\n",
       "      <td>948.117516</td>\n",
       "      <td>6.416583e+10</td>\n",
       "      <td>1.685649e+11</td>\n",
       "    </tr>\n",
       "    <tr>\n",
       "      <th>1</th>\n",
       "      <td>2024-04-07</td>\n",
       "      <td>2024-04-08</td>\n",
       "      <td>901.187578</td>\n",
       "      <td>948.936529</td>\n",
       "      <td>901.187578</td>\n",
       "      <td>931.382503</td>\n",
       "      <td>6.675005e+10</td>\n",
       "      <td>1.653840e+11</td>\n",
       "    </tr>\n",
       "    <tr>\n",
       "      <th>2</th>\n",
       "      <td>2024-04-06</td>\n",
       "      <td>2024-04-07</td>\n",
       "      <td>887.354051</td>\n",
       "      <td>935.367097</td>\n",
       "      <td>883.524831</td>\n",
       "      <td>902.722330</td>\n",
       "      <td>7.536231e+10</td>\n",
       "      <td>1.610354e+11</td>\n",
       "    </tr>\n",
       "    <tr>\n",
       "      <th>3</th>\n",
       "      <td>2024-04-05</td>\n",
       "      <td>2024-04-06</td>\n",
       "      <td>886.431619</td>\n",
       "      <td>902.019500</td>\n",
       "      <td>843.009636</td>\n",
       "      <td>891.403798</td>\n",
       "      <td>7.218241e+10</td>\n",
       "      <td>1.550940e+11</td>\n",
       "    </tr>\n",
       "    <tr>\n",
       "      <th>4</th>\n",
       "      <td>2024-04-04</td>\n",
       "      <td>2024-04-05</td>\n",
       "      <td>874.314414</td>\n",
       "      <td>924.103204</td>\n",
       "      <td>860.637373</td>\n",
       "      <td>890.984968</td>\n",
       "      <td>7.071743e+10</td>\n",
       "      <td>1.555043e+11</td>\n",
       "    </tr>\n",
       "  </tbody>\n",
       "</table>\n",
       "</div>"
      ],
      "text/plain": [
       "        Start         End        Open        High         Low       Close  \\\n",
       "0  2024-04-08  2024-04-09  933.952836  967.209462  913.718538  948.117516   \n",
       "1  2024-04-07  2024-04-08  901.187578  948.936529  901.187578  931.382503   \n",
       "2  2024-04-06  2024-04-07  887.354051  935.367097  883.524831  902.722330   \n",
       "3  2024-04-05  2024-04-06  886.431619  902.019500  843.009636  891.403798   \n",
       "4  2024-04-04  2024-04-05  874.314414  924.103204  860.637373  890.984968   \n",
       "\n",
       "         Volume    Market Cap  \n",
       "0  6.416583e+10  1.685649e+11  \n",
       "1  6.675005e+10  1.653840e+11  \n",
       "2  7.536231e+10  1.610354e+11  \n",
       "3  7.218241e+10  1.550940e+11  \n",
       "4  7.071743e+10  1.555043e+11  "
      ]
     },
     "execution_count": 2,
     "metadata": {},
     "output_type": "execute_result"
    }
   ],
   "source": [
    "df = pd.read_csv(\"worldcoin-org_2023-07-24_2024-04-09.csv\")\n",
    "df.head()"
   ]
  },
  {
   "cell_type": "markdown",
   "metadata": {},
   "source": [
    "### Data cleaning"
   ]
  },
  {
   "cell_type": "code",
   "execution_count": 3,
   "metadata": {},
   "outputs": [],
   "source": [
    "df['Start'] = pd.to_datetime(df['Start'])\n",
    "df['End'] = pd.to_datetime(df['End'])"
   ]
  },
  {
   "cell_type": "code",
   "execution_count": 4,
   "metadata": {},
   "outputs": [
    {
     "data": {
      "text/html": [
       "<div>\n",
       "<style scoped>\n",
       "    .dataframe tbody tr th:only-of-type {\n",
       "        vertical-align: middle;\n",
       "    }\n",
       "\n",
       "    .dataframe tbody tr th {\n",
       "        vertical-align: top;\n",
       "    }\n",
       "\n",
       "    .dataframe thead th {\n",
       "        text-align: right;\n",
       "    }\n",
       "</style>\n",
       "<table border=\"1\" class=\"dataframe\">\n",
       "  <thead>\n",
       "    <tr style=\"text-align: right;\">\n",
       "      <th></th>\n",
       "      <th>Start</th>\n",
       "      <th>End</th>\n",
       "      <th>Open</th>\n",
       "      <th>High</th>\n",
       "      <th>Low</th>\n",
       "      <th>Close</th>\n",
       "      <th>Volume</th>\n",
       "      <th>Market Cap</th>\n",
       "    </tr>\n",
       "  </thead>\n",
       "  <tbody>\n",
       "    <tr>\n",
       "      <th>0</th>\n",
       "      <td>2024-04-08</td>\n",
       "      <td>2024-04-09</td>\n",
       "      <td>933.952836</td>\n",
       "      <td>967.209462</td>\n",
       "      <td>913.718538</td>\n",
       "      <td>948.117516</td>\n",
       "      <td>6.416583e+10</td>\n",
       "      <td>1.685649e+11</td>\n",
       "    </tr>\n",
       "    <tr>\n",
       "      <th>1</th>\n",
       "      <td>2024-04-07</td>\n",
       "      <td>2024-04-08</td>\n",
       "      <td>901.187578</td>\n",
       "      <td>948.936529</td>\n",
       "      <td>901.187578</td>\n",
       "      <td>931.382503</td>\n",
       "      <td>6.675005e+10</td>\n",
       "      <td>1.653840e+11</td>\n",
       "    </tr>\n",
       "    <tr>\n",
       "      <th>2</th>\n",
       "      <td>2024-04-06</td>\n",
       "      <td>2024-04-07</td>\n",
       "      <td>887.354051</td>\n",
       "      <td>935.367097</td>\n",
       "      <td>883.524831</td>\n",
       "      <td>902.722330</td>\n",
       "      <td>7.536231e+10</td>\n",
       "      <td>1.610354e+11</td>\n",
       "    </tr>\n",
       "    <tr>\n",
       "      <th>3</th>\n",
       "      <td>2024-04-05</td>\n",
       "      <td>2024-04-06</td>\n",
       "      <td>886.431619</td>\n",
       "      <td>902.019500</td>\n",
       "      <td>843.009636</td>\n",
       "      <td>891.403798</td>\n",
       "      <td>7.218241e+10</td>\n",
       "      <td>1.550940e+11</td>\n",
       "    </tr>\n",
       "    <tr>\n",
       "      <th>4</th>\n",
       "      <td>2024-04-04</td>\n",
       "      <td>2024-04-05</td>\n",
       "      <td>874.314414</td>\n",
       "      <td>924.103204</td>\n",
       "      <td>860.637373</td>\n",
       "      <td>890.984968</td>\n",
       "      <td>7.071743e+10</td>\n",
       "      <td>1.555043e+11</td>\n",
       "    </tr>\n",
       "    <tr>\n",
       "      <th>...</th>\n",
       "      <td>...</td>\n",
       "      <td>...</td>\n",
       "      <td>...</td>\n",
       "      <td>...</td>\n",
       "      <td>...</td>\n",
       "      <td>...</td>\n",
       "      <td>...</td>\n",
       "      <td>...</td>\n",
       "    </tr>\n",
       "    <tr>\n",
       "      <th>255</th>\n",
       "      <td>2023-07-28</td>\n",
       "      <td>2023-07-29</td>\n",
       "      <td>268.376455</td>\n",
       "      <td>288.763505</td>\n",
       "      <td>266.613366</td>\n",
       "      <td>287.867366</td>\n",
       "      <td>6.053932e+10</td>\n",
       "      <td>2.942581e+10</td>\n",
       "    </tr>\n",
       "    <tr>\n",
       "      <th>256</th>\n",
       "      <td>2023-07-27</td>\n",
       "      <td>2023-07-28</td>\n",
       "      <td>289.915922</td>\n",
       "      <td>298.136629</td>\n",
       "      <td>270.784285</td>\n",
       "      <td>272.091085</td>\n",
       "      <td>9.551170e+10</td>\n",
       "      <td>2.993751e+10</td>\n",
       "    </tr>\n",
       "    <tr>\n",
       "      <th>257</th>\n",
       "      <td>2023-07-26</td>\n",
       "      <td>2023-07-27</td>\n",
       "      <td>296.139778</td>\n",
       "      <td>323.946391</td>\n",
       "      <td>284.644027</td>\n",
       "      <td>291.424103</td>\n",
       "      <td>1.908799e+11</td>\n",
       "      <td>3.187994e+10</td>\n",
       "    </tr>\n",
       "    <tr>\n",
       "      <th>258</th>\n",
       "      <td>2023-07-25</td>\n",
       "      <td>2023-07-26</td>\n",
       "      <td>280.787901</td>\n",
       "      <td>312.054268</td>\n",
       "      <td>247.871080</td>\n",
       "      <td>295.356514</td>\n",
       "      <td>1.750890e+11</td>\n",
       "      <td>2.912702e+10</td>\n",
       "    </tr>\n",
       "    <tr>\n",
       "      <th>259</th>\n",
       "      <td>2023-07-24</td>\n",
       "      <td>2023-07-25</td>\n",
       "      <td>234.740242</td>\n",
       "      <td>417.326146</td>\n",
       "      <td>229.053952</td>\n",
       "      <td>285.530596</td>\n",
       "      <td>6.062463e+10</td>\n",
       "      <td>2.926497e+10</td>\n",
       "    </tr>\n",
       "  </tbody>\n",
       "</table>\n",
       "<p>260 rows × 8 columns</p>\n",
       "</div>"
      ],
      "text/plain": [
       "         Start        End        Open        High         Low       Close  \\\n",
       "0   2024-04-08 2024-04-09  933.952836  967.209462  913.718538  948.117516   \n",
       "1   2024-04-07 2024-04-08  901.187578  948.936529  901.187578  931.382503   \n",
       "2   2024-04-06 2024-04-07  887.354051  935.367097  883.524831  902.722330   \n",
       "3   2024-04-05 2024-04-06  886.431619  902.019500  843.009636  891.403798   \n",
       "4   2024-04-04 2024-04-05  874.314414  924.103204  860.637373  890.984968   \n",
       "..         ...        ...         ...         ...         ...         ...   \n",
       "255 2023-07-28 2023-07-29  268.376455  288.763505  266.613366  287.867366   \n",
       "256 2023-07-27 2023-07-28  289.915922  298.136629  270.784285  272.091085   \n",
       "257 2023-07-26 2023-07-27  296.139778  323.946391  284.644027  291.424103   \n",
       "258 2023-07-25 2023-07-26  280.787901  312.054268  247.871080  295.356514   \n",
       "259 2023-07-24 2023-07-25  234.740242  417.326146  229.053952  285.530596   \n",
       "\n",
       "           Volume    Market Cap  \n",
       "0    6.416583e+10  1.685649e+11  \n",
       "1    6.675005e+10  1.653840e+11  \n",
       "2    7.536231e+10  1.610354e+11  \n",
       "3    7.218241e+10  1.550940e+11  \n",
       "4    7.071743e+10  1.555043e+11  \n",
       "..            ...           ...  \n",
       "255  6.053932e+10  2.942581e+10  \n",
       "256  9.551170e+10  2.993751e+10  \n",
       "257  1.908799e+11  3.187994e+10  \n",
       "258  1.750890e+11  2.912702e+10  \n",
       "259  6.062463e+10  2.926497e+10  \n",
       "\n",
       "[260 rows x 8 columns]"
      ]
     },
     "execution_count": 4,
     "metadata": {},
     "output_type": "execute_result"
    }
   ],
   "source": [
    "df"
   ]
  },
  {
   "cell_type": "code",
   "execution_count": 5,
   "metadata": {},
   "outputs": [
    {
     "data": {
      "text/html": [
       "<div>\n",
       "<style scoped>\n",
       "    .dataframe tbody tr th:only-of-type {\n",
       "        vertical-align: middle;\n",
       "    }\n",
       "\n",
       "    .dataframe tbody tr th {\n",
       "        vertical-align: top;\n",
       "    }\n",
       "\n",
       "    .dataframe thead th {\n",
       "        text-align: right;\n",
       "    }\n",
       "</style>\n",
       "<table border=\"1\" class=\"dataframe\">\n",
       "  <thead>\n",
       "    <tr style=\"text-align: right;\">\n",
       "      <th></th>\n",
       "      <th>Start</th>\n",
       "      <th>End</th>\n",
       "      <th>Open</th>\n",
       "      <th>High</th>\n",
       "      <th>Low</th>\n",
       "      <th>Close</th>\n",
       "      <th>Volume</th>\n",
       "      <th>Market Cap</th>\n",
       "    </tr>\n",
       "  </thead>\n",
       "  <tbody>\n",
       "    <tr>\n",
       "      <th>count</th>\n",
       "      <td>260</td>\n",
       "      <td>260</td>\n",
       "      <td>260.000000</td>\n",
       "      <td>260.000000</td>\n",
       "      <td>260.000000</td>\n",
       "      <td>260.000000</td>\n",
       "      <td>2.600000e+02</td>\n",
       "      <td>2.600000e+02</td>\n",
       "    </tr>\n",
       "    <tr>\n",
       "      <th>mean</th>\n",
       "      <td>2023-11-30 12:00:00</td>\n",
       "      <td>2023-12-01 12:00:00</td>\n",
       "      <td>428.128292</td>\n",
       "      <td>456.595129</td>\n",
       "      <td>406.895936</td>\n",
       "      <td>430.899066</td>\n",
       "      <td>8.777281e+10</td>\n",
       "      <td>5.761901e+10</td>\n",
       "    </tr>\n",
       "    <tr>\n",
       "      <th>min</th>\n",
       "      <td>2023-07-24 00:00:00</td>\n",
       "      <td>2023-07-25 00:00:00</td>\n",
       "      <td>130.628158</td>\n",
       "      <td>134.368901</td>\n",
       "      <td>126.126759</td>\n",
       "      <td>130.422459</td>\n",
       "      <td>1.131871e+10</td>\n",
       "      <td>1.706201e+10</td>\n",
       "    </tr>\n",
       "    <tr>\n",
       "      <th>25%</th>\n",
       "      <td>2023-09-26 18:00:00</td>\n",
       "      <td>2023-09-27 18:00:00</td>\n",
       "      <td>217.709249</td>\n",
       "      <td>231.777113</td>\n",
       "      <td>211.904935</td>\n",
       "      <td>217.444531</td>\n",
       "      <td>2.760247e+10</td>\n",
       "      <td>2.664382e+10</td>\n",
       "    </tr>\n",
       "    <tr>\n",
       "      <th>50%</th>\n",
       "      <td>2023-11-30 12:00:00</td>\n",
       "      <td>2023-12-01 12:00:00</td>\n",
       "      <td>304.159352</td>\n",
       "      <td>321.952614</td>\n",
       "      <td>293.790649</td>\n",
       "      <td>305.286758</td>\n",
       "      <td>4.693849e+10</td>\n",
       "      <td>3.615002e+10</td>\n",
       "    </tr>\n",
       "    <tr>\n",
       "      <th>75%</th>\n",
       "      <td>2024-02-03 06:00:00</td>\n",
       "      <td>2024-02-04 06:00:00</td>\n",
       "      <td>459.214298</td>\n",
       "      <td>488.230294</td>\n",
       "      <td>442.078575</td>\n",
       "      <td>459.162266</td>\n",
       "      <td>9.688760e+10</td>\n",
       "      <td>4.837138e+10</td>\n",
       "    </tr>\n",
       "    <tr>\n",
       "      <th>max</th>\n",
       "      <td>2024-04-08 00:00:00</td>\n",
       "      <td>2024-04-09 00:00:00</td>\n",
       "      <td>1510.021753</td>\n",
       "      <td>1524.627098</td>\n",
       "      <td>1218.966481</td>\n",
       "      <td>1498.692252</td>\n",
       "      <td>5.754650e+11</td>\n",
       "      <td>1.943220e+11</td>\n",
       "    </tr>\n",
       "    <tr>\n",
       "      <th>std</th>\n",
       "      <td>NaN</td>\n",
       "      <td>NaN</td>\n",
       "      <td>322.895953</td>\n",
       "      <td>347.153861</td>\n",
       "      <td>301.143633</td>\n",
       "      <td>324.181183</td>\n",
       "      <td>1.066814e+11</td>\n",
       "      <td>5.202436e+10</td>\n",
       "    </tr>\n",
       "  </tbody>\n",
       "</table>\n",
       "</div>"
      ],
      "text/plain": [
       "                     Start                  End         Open         High  \\\n",
       "count                  260                  260   260.000000   260.000000   \n",
       "mean   2023-11-30 12:00:00  2023-12-01 12:00:00   428.128292   456.595129   \n",
       "min    2023-07-24 00:00:00  2023-07-25 00:00:00   130.628158   134.368901   \n",
       "25%    2023-09-26 18:00:00  2023-09-27 18:00:00   217.709249   231.777113   \n",
       "50%    2023-11-30 12:00:00  2023-12-01 12:00:00   304.159352   321.952614   \n",
       "75%    2024-02-03 06:00:00  2024-02-04 06:00:00   459.214298   488.230294   \n",
       "max    2024-04-08 00:00:00  2024-04-09 00:00:00  1510.021753  1524.627098   \n",
       "std                    NaN                  NaN   322.895953   347.153861   \n",
       "\n",
       "               Low        Close        Volume    Market Cap  \n",
       "count   260.000000   260.000000  2.600000e+02  2.600000e+02  \n",
       "mean    406.895936   430.899066  8.777281e+10  5.761901e+10  \n",
       "min     126.126759   130.422459  1.131871e+10  1.706201e+10  \n",
       "25%     211.904935   217.444531  2.760247e+10  2.664382e+10  \n",
       "50%     293.790649   305.286758  4.693849e+10  3.615002e+10  \n",
       "75%     442.078575   459.162266  9.688760e+10  4.837138e+10  \n",
       "max    1218.966481  1498.692252  5.754650e+11  1.943220e+11  \n",
       "std     301.143633   324.181183  1.066814e+11  5.202436e+10  "
      ]
     },
     "execution_count": 5,
     "metadata": {},
     "output_type": "execute_result"
    }
   ],
   "source": [
    "df.describe()"
   ]
  },
  {
   "cell_type": "code",
   "execution_count": 6,
   "metadata": {},
   "outputs": [
    {
     "name": "stdout",
     "output_type": "stream",
     "text": [
      "<class 'pandas.core.frame.DataFrame'>\n",
      "RangeIndex: 260 entries, 0 to 259\n",
      "Data columns (total 8 columns):\n",
      " #   Column      Non-Null Count  Dtype         \n",
      "---  ------      --------------  -----         \n",
      " 0   Start       260 non-null    datetime64[ns]\n",
      " 1   End         260 non-null    datetime64[ns]\n",
      " 2   Open        260 non-null    float64       \n",
      " 3   High        260 non-null    float64       \n",
      " 4   Low         260 non-null    float64       \n",
      " 5   Close       260 non-null    float64       \n",
      " 6   Volume      260 non-null    float64       \n",
      " 7   Market Cap  260 non-null    float64       \n",
      "dtypes: datetime64[ns](2), float64(6)\n",
      "memory usage: 16.4 KB\n"
     ]
    }
   ],
   "source": [
    "df.info()"
   ]
  },
  {
   "cell_type": "markdown",
   "metadata": {},
   "source": [
    "### EDA"
   ]
  },
  {
   "cell_type": "code",
   "execution_count": 7,
   "metadata": {},
   "outputs": [
    {
     "name": "stderr",
     "output_type": "stream",
     "text": [
      "c:\\Users\\Randell\\anaconda3\\envs\\learn-env\\lib\\site-packages\\seaborn\\_oldcore.py:1119: FutureWarning: use_inf_as_na option is deprecated and will be removed in a future version. Convert inf values to NaN before operating instead.\n",
      "  with pd.option_context('mode.use_inf_as_na', True):\n"
     ]
    },
    {
     "data": {
      "image/png": "[encoded data removed]",
      "text/plain": [
       "<Figure size 1000x600 with 1 Axes>"
      ]
     },
     "metadata": {},
     "output_type": "display_data"
    }
   ],
   "source": [
    "# Plot the distribution of the target variable 'Close'\n",
    "plt.figure(figsize=(10, 6))\n",
    "sns.histplot(df['Close'], bins=20, kde=True)\n",
    "plt.title('Distribution of Close Price')\n",
    "plt.xlabel('Close Price')\n",
    "plt.ylabel('Frequency')\n",
    "plt.show()"
   ]
  },
  {
   "cell_type": "code",
   "execution_count": 8,
   "metadata": {},
   "outputs": [
    {
     "data": {
      "image/png": "[encoded data removed]",
      "text/plain": [
       "<Figure size 1200x600 with 1 Axes>"
      ]
     },
     "metadata": {},
     "output_type": "display_data"
    }
   ],
   "source": [
    "# Plot time series of 'Close' price\n",
    "plt.figure(figsize=(12, 6))\n",
    "plt.plot(df['End'], df['Close'], linestyle='-')\n",
    "plt.title('Time Series of Close Price')\n",
    "plt.xlabel('Date')\n",
    "plt.ylabel('Close Price')\n",
    "plt.xticks(rotation=45)\n",
    "plt.grid(True)\n",
    "plt.show()"
   ]
  },
  {
   "cell_type": "markdown",
   "metadata": {},
   "source": [
    "### Model Development"
   ]
  },
  {
   "cell_type": "code",
   "execution_count": 9,
   "metadata": {},
   "outputs": [],
   "source": [
    "X = df[[\"Open\", \"High\", \"Low\", \"Volume\", \"Market Cap\"]]\n",
    "y = df[\"Close\"]\n",
    "\n",
    "X_train, X_test, y_train, y_test = train_test_split(X, y, test_size=0.2, random_state=42)"
   ]
  },
  {
   "cell_type": "code",
   "execution_count": 10,
   "metadata": {},
   "outputs": [
    {
     "data": {
      "text/html": [
       "<style>#sk-container-id-1 {color: black;}#sk-container-id-1 pre{padding: 0;}#sk-container-id-1 div.sk-toggleable {background-color: white;}#sk-container-id-1 label.sk-toggleable__label {cursor: pointer;display: block;width: 100%;margin-bottom: 0;padding: 0.3em;box-sizing: border-box;text-align: center;}#sk-container-id-1 label.sk-toggleable__label-arrow:before {content: \"▸\";float: left;margin-right: 0.25em;color: #696969;}#sk-container-id-1 label.sk-toggleable__label-arrow:hover:before {color: black;}#sk-container-id-1 div.sk-estimator:hover label.sk-toggleable__label-arrow:before {color: black;}#sk-container-id-1 div.sk-toggleable__content {max-height: 0;max-width: 0;overflow: hidden;text-align: left;background-color: #f0f8ff;}#sk-container-id-1 div.sk-toggleable__content pre {margin: 0.2em;color: black;border-radius: 0.25em;background-color: #f0f8ff;}#sk-container-id-1 input.sk-toggleable__control:checked~div.sk-toggleable__content {max-height: 200px;max-width: 100%;overflow: auto;}#sk-container-id-1 input.sk-toggleable__control:checked~label.sk-toggleable__label-arrow:before {content: \"▾\";}#sk-container-id-1 div.sk-estimator input.sk-toggleable__control:checked~label.sk-toggleable__label {background-color: #d4ebff;}#sk-container-id-1 div.sk-label input.sk-toggleable__control:checked~label.sk-toggleable__label {background-color: #d4ebff;}#sk-container-id-1 input.sk-hidden--visually {border: 0;clip: rect(1px 1px 1px 1px);clip: rect(1px, 1px, 1px, 1px);height: 1px;margin: -1px;overflow: hidden;padding: 0;position: absolute;width: 1px;}#sk-container-id-1 div.sk-estimator {font-family: monospace;background-color: #f0f8ff;border: 1px dotted black;border-radius: 0.25em;box-sizing: border-box;margin-bottom: 0.5em;}#sk-container-id-1 div.sk-estimator:hover {background-color: #d4ebff;}#sk-container-id-1 div.sk-parallel-item::after {content: \"\";width: 100%;border-bottom: 1px solid gray;flex-grow: 1;}#sk-container-id-1 div.sk-label:hover label.sk-toggleable__label {background-color: #d4ebff;}#sk-container-id-1 div.sk-serial::before {content: \"\";position: absolute;border-left: 1px solid gray;box-sizing: border-box;top: 0;bottom: 0;left: 50%;z-index: 0;}#sk-container-id-1 div.sk-serial {display: flex;flex-direction: column;align-items: center;background-color: white;padding-right: 0.2em;padding-left: 0.2em;position: relative;}#sk-container-id-1 div.sk-item {position: relative;z-index: 1;}#sk-container-id-1 div.sk-parallel {display: flex;align-items: stretch;justify-content: center;background-color: white;position: relative;}#sk-container-id-1 div.sk-item::before, #sk-container-id-1 div.sk-parallel-item::before {content: \"\";position: absolute;border-left: 1px solid gray;box-sizing: border-box;top: 0;bottom: 0;left: 50%;z-index: -1;}#sk-container-id-1 div.sk-parallel-item {display: flex;flex-direction: column;z-index: 1;position: relative;background-color: white;}#sk-container-id-1 div.sk-parallel-item:first-child::after {align-self: flex-end;width: 50%;}#sk-container-id-1 div.sk-parallel-item:last-child::after {align-self: flex-start;width: 50%;}#sk-container-id-1 div.sk-parallel-item:only-child::after {width: 0;}#sk-container-id-1 div.sk-dashed-wrapped {border: 1px dashed gray;margin: 0 0.4em 0.5em 0.4em;box-sizing: border-box;padding-bottom: 0.4em;background-color: white;}#sk-container-id-1 div.sk-label label {font-family: monospace;font-weight: bold;display: inline-block;line-height: 1.2em;}#sk-container-id-1 div.sk-label-container {text-align: center;}#sk-container-id-1 div.sk-container {/* jupyter's `normalize.less` sets `[hidden] { display: none; }` but bootstrap.min.css set `[hidden] { display: none !important; }` so we also need the `!important` here to be able to override the default hidden behavior on the sphinx rendered scikit-learn.org. See: https://github.com/scikit-learn/scikit-learn/issues/21755 */display: inline-block !important;position: relative;}#sk-container-id-1 div.sk-text-repr-fallback {display: none;}</style><div id=\"sk-container-id-1\" class=\"sk-top-container\"><div class=\"sk-text-repr-fallback\"><pre>RandomForestRegressor(random_state=42)</pre><b>In a Jupyter environment, please rerun this cell to show the HTML representation or trust the notebook. <br />On GitHub, the HTML representation is unable to render, please try loading this page with nbviewer.org.</b></div><div class=\"sk-container\" hidden><div class=\"sk-item\"><div class=\"sk-estimator sk-toggleable\"><input class=\"sk-toggleable__control sk-hidden--visually\" id=\"sk-estimator-id-1\" type=\"checkbox\" checked><label for=\"sk-estimator-id-1\" class=\"sk-toggleable__label sk-toggleable__label-arrow\">RandomForestRegressor</label><div class=\"sk-toggleable__content\"><pre>RandomForestRegressor(random_state=42)</pre></div></div></div></div></div>"
      ],
      "text/plain": [
       "RandomForestRegressor(random_state=42)"
      ]
     },
     "execution_count": 10,
     "metadata": {},
     "output_type": "execute_result"
    }
   ],
   "source": [
    "\n",
    "model = RandomForestRegressor(random_state=42)\n",
    "\n",
    "model.fit(X_train, y_train)"
   ]
  },
  {
   "cell_type": "code",
   "execution_count": 11,
   "metadata": {},
   "outputs": [
    {
     "name": "stdout",
     "output_type": "stream",
     "text": [
      "Mean Squared Error: 4514.867846434541\n"
     ]
    }
   ],
   "source": [
    "\n",
    "y_pred = model.predict(X_test)\n",
    "\n",
    "mse = mean_squared_error(y_test, y_pred)\n",
    "\n",
    "print(\"Mean Squared Error:\",mse)"
   ]
  },
  {
   "cell_type": "code",
   "execution_count": 12,
   "metadata": {},
   "outputs": [
    {
     "name": "stdout",
     "output_type": "stream",
     "text": [
      "Linear Regression Mean Squared Error: 1308.8233531613478\n",
      "Gradient Boosting Mean Squared Error: 3627.320999857142\n",
      "Support Vector Regressor Mean Squared Error: 154799.92675090255\n"
     ]
    }
   ],
   "source": [
    "\n",
    "# Initialize the models\n",
    "linear_reg_model = LinearRegression()\n",
    "gradient_boosting_model = GradientBoostingRegressor(random_state=42)\n",
    "svr_model = SVR()\n",
    "\n",
    "# Train the models\n",
    "linear_reg_model.fit(X_train, y_train)\n",
    "gradient_boosting_model.fit(X_train, y_train)\n",
    "svr_model.fit(X_train, y_train)\n",
    "\n",
    "# Make predictions\n",
    "linear_reg_predictions = linear_reg_model.predict(X_test)\n",
    "gradient_boosting_predictions = gradient_boosting_model.predict(X_test)\n",
    "svr_predictions = svr_model.predict(X_test)\n",
    "\n",
    "# Evaluate the models\n",
    "linear_reg_mse = mean_squared_error(y_test, linear_reg_predictions)\n",
    "gradient_boosting_mse = mean_squared_error(y_test, gradient_boosting_predictions)\n",
    "svr_mse = mean_squared_error(y_test, svr_predictions)\n",
    "\n",
    "print(\"Linear Regression Mean Squared Error:\", linear_reg_mse)\n",
    "print(\"Gradient Boosting Mean Squared Error:\", gradient_boosting_mse)\n",
    "print(\"Support Vector Regressor Mean Squared Error:\", svr_mse)\n"
   ]
  },
  {
   "cell_type": "markdown",
   "metadata": {},
   "source": [
    "### Testing the models"
   ]
  },
  {
   "cell_type": "code",
   "execution_count": 24,
   "metadata": {},
   "outputs": [
    {
     "name": "stdout",
     "output_type": "stream",
     "text": [
      "Please provide input for the trained model:\n",
      "Predicted Close Price: [1003.83447517]\n"
     ]
    }
   ],
   "source": [
    "# Request input for the trained model\n",
    "print(\"Please provide input for the trained model:\")\n",
    "open_price = float(input(\"Enter the opening price: \"))\n",
    "high_price = float(input(\"Enter the highest price: \"))\n",
    "low_price = float(input(\"Enter the lowest price: \"))\n",
    "volume = float(input(\"Enter the volume: \"))\n",
    "market_cap = float(input(\"Enter the market cap: \"))\n",
    "\n",
    "# Create a DataFrame with the input data\n",
    "input_data = {\n",
    "    \"Open\": [open_price],\n",
    "    \"High\": [high_price],\n",
    "    \"Low\": [low_price],\n",
    "    \"Volume\": [volume],\n",
    "    \"Market Cap\": [market_cap]\n",
    "}\n",
    "\n",
    "input_df = pd.DataFrame(input_data)\n",
    "\n",
    "# Make prediction using the trained model\n",
    "prediction = model.predict(input_df)\n",
    "print(\"Predicted Close Price:\", prediction)\n"
   ]
  },
  {
   "cell_type": "code",
   "execution_count": 26,
   "metadata": {},
   "outputs": [
    {
     "name": "stdout",
     "output_type": "stream",
     "text": [
      "Please provide input for the trained model:\n",
      "Predicted Close Price: [1034.3342983]\n"
     ]
    }
   ],
   "source": [
    "# Request input for the trained model\n",
    "print(\"Please provide input for the trained model:\")\n",
    "open_price = float(input(\"Enter the opening price: \"))\n",
    "high_price = float(input(\"Enter the highest price: \"))\n",
    "low_price = float(input(\"Enter the lowest price: \"))\n",
    "volume = float(input(\"Enter the volume: \"))\n",
    "market_cap = float(input(\"Enter the market cap: \"))\n",
    "\n",
    "# Create a DataFrame with the input data\n",
    "input_data = {\n",
    "    \"Open\": [open_price],\n",
    "    \"High\": [high_price],\n",
    "    \"Low\": [low_price],\n",
    "    \"Volume\": [volume],\n",
    "    \"Market Cap\": [market_cap]\n",
    "}\n",
    "\n",
    "input_df = pd.DataFrame(input_data)\n",
    "\n",
    "# Make prediction using the trained model\n",
    "prediction = linear_reg_model.predict(input_df)\n",
    "print(\"Predicted Close Price:\", prediction)\n"
   ]
  }
 ],
 "metadata": {
  "kernelspec": {
   "display_name": "learn_env",
   "language": "python",
   "name": "python3"
  },
  "language_info": {
   "codemirror_mode": {
    "name": "ipython",
    "version": 3
   },
   "file_extension": ".py",
   "mimetype": "text/x-python",
   "name": "python",
   "nbconvert_exporter": "python",
   "pygments_lexer": "ipython3",
   "version": "3.10.14"
  }
 },
 "nbformat": 4,
 "nbformat_minor": 2
}
