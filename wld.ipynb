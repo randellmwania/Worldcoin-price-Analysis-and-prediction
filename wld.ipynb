{
 "cells": [
  {
   "cell_type": "markdown",
   "metadata": {},
   "source": [
    "# WorldCoin Price Analysis and Prediction"
   ]
  },
  {
   "cell_type": "markdown",
   "metadata": {},
   "source": [
    "### Import Necessary Libraries"
   ]
  },
  {
   "cell_type": "code",
   "execution_count": 1,
   "metadata": {},
   "outputs": [],
   "source": [
    "import pandas as pd\n",
    "import matplotlib.pyplot as plt\n",
    "import seaborn as sns\n",
    "\n",
    "from sklearn.model_selection import train_test_split\n",
    "from sklearn.ensemble import  RandomForestRegressor\n",
    "from sklearn.metrics import mean_squared_error\n",
    "from sklearn.linear_model import LinearRegression\n",
    "from sklearn.ensemble import GradientBoostingRegressor\n",
    "from sklearn.svm import SVR\n"
   ]
  },
  {
   "cell_type": "markdown",
   "metadata": {},
   "source": [
    "### Data Exploration"
   ]
  },
  {
   "cell_type": "code",
   "execution_count": 2,
   "metadata": {},
   "outputs": [
    {
     "data": {
      "text/html": [
       "<div>\n",
       "<style scoped>\n",
       "    .dataframe tbody tr th:only-of-type {\n",
       "        vertical-align: middle;\n",
       "    }\n",
       "\n",
       "    .dataframe tbody tr th {\n",
       "        vertical-align: top;\n",
       "    }\n",
       "\n",
       "    .dataframe thead th {\n",
       "        text-align: right;\n",
       "    }\n",
       "</style>\n",
       "<table border=\"1\" class=\"dataframe\">\n",
       "  <thead>\n",
       "    <tr style=\"text-align: right;\">\n",
       "      <th></th>\n",
       "      <th>Start</th>\n",
       "      <th>End</th>\n",
       "      <th>Open</th>\n",
       "      <th>High</th>\n",
       "      <th>Low</th>\n",
       "      <th>Close</th>\n",
       "      <th>Volume</th>\n",
       "      <th>Market Cap</th>\n",
       "    </tr>\n",
       "  </thead>\n",
       "  <tbody>\n",
       "    <tr>\n",
       "      <th>0</th>\n",
       "      <td>2024-09-19</td>\n",
       "      <td>2024-09-20</td>\n",
       "      <td>200.230327</td>\n",
       "      <td>212.106582</td>\n",
       "      <td>198.374500</td>\n",
       "      <td>205.695640</td>\n",
       "      <td>7.132699e+10</td>\n",
       "      <td>9.150957e+10</td>\n",
       "    </tr>\n",
       "    <tr>\n",
       "      <th>1</th>\n",
       "      <td>2024-09-18</td>\n",
       "      <td>2024-09-19</td>\n",
       "      <td>188.305880</td>\n",
       "      <td>199.477624</td>\n",
       "      <td>184.037433</td>\n",
       "      <td>199.477624</td>\n",
       "      <td>4.713701e+10</td>\n",
       "      <td>8.460954e+10</td>\n",
       "    </tr>\n",
       "    <tr>\n",
       "      <th>2</th>\n",
       "      <td>2024-09-17</td>\n",
       "      <td>2024-09-18</td>\n",
       "      <td>182.005667</td>\n",
       "      <td>189.902632</td>\n",
       "      <td>179.929701</td>\n",
       "      <td>187.779677</td>\n",
       "      <td>4.191690e+10</td>\n",
       "      <td>8.099784e+10</td>\n",
       "    </tr>\n",
       "    <tr>\n",
       "      <th>3</th>\n",
       "      <td>2024-09-16</td>\n",
       "      <td>2024-09-17</td>\n",
       "      <td>189.331293</td>\n",
       "      <td>189.331293</td>\n",
       "      <td>178.401239</td>\n",
       "      <td>182.249198</td>\n",
       "      <td>5.452660e+10</td>\n",
       "      <td>7.791811e+10</td>\n",
       "    </tr>\n",
       "    <tr>\n",
       "      <th>4</th>\n",
       "      <td>2024-09-15</td>\n",
       "      <td>2024-09-16</td>\n",
       "      <td>194.384816</td>\n",
       "      <td>201.122540</td>\n",
       "      <td>188.887849</td>\n",
       "      <td>189.929580</td>\n",
       "      <td>4.570792e+10</td>\n",
       "      <td>8.292824e+10</td>\n",
       "    </tr>\n",
       "  </tbody>\n",
       "</table>\n",
       "</div>"
      ],
      "text/plain": [
       "        Start         End        Open        High         Low       Close  \\\n",
       "0  2024-09-19  2024-09-20  200.230327  212.106582  198.374500  205.695640   \n",
       "1  2024-09-18  2024-09-19  188.305880  199.477624  184.037433  199.477624   \n",
       "2  2024-09-17  2024-09-18  182.005667  189.902632  179.929701  187.779677   \n",
       "3  2024-09-16  2024-09-17  189.331293  189.331293  178.401239  182.249198   \n",
       "4  2024-09-15  2024-09-16  194.384816  201.122540  188.887849  189.929580   \n",
       "\n",
       "         Volume    Market Cap  \n",
       "0  7.132699e+10  9.150957e+10  \n",
       "1  4.713701e+10  8.460954e+10  \n",
       "2  4.191690e+10  8.099784e+10  \n",
       "3  5.452660e+10  7.791811e+10  \n",
       "4  4.570792e+10  8.292824e+10  "
      ]
     },
     "execution_count": 2,
     "metadata": {},
     "output_type": "execute_result"
    }
   ],
   "source": [
    "df = pd.read_csv(\"worldcoin-org_2023-07-24_2024-09-20.csv\")\n",
    "df.head()"
   ]
  },
  {
   "cell_type": "markdown",
   "metadata": {},
   "source": [
    "### Data cleaning"
   ]
  },
  {
   "cell_type": "code",
   "execution_count": 3,
   "metadata": {},
   "outputs": [],
   "source": [
    "df['Start'] = pd.to_datetime(df['Start'])\n",
    "df['End'] = pd.to_datetime(df['End'])"
   ]
  },
  {
   "cell_type": "code",
   "execution_count": 4,
   "metadata": {},
   "outputs": [
    {
     "data": {
      "text/html": [
       "<div>\n",
       "<style scoped>\n",
       "    .dataframe tbody tr th:only-of-type {\n",
       "        vertical-align: middle;\n",
       "    }\n",
       "\n",
       "    .dataframe tbody tr th {\n",
       "        vertical-align: top;\n",
       "    }\n",
       "\n",
       "    .dataframe thead th {\n",
       "        text-align: right;\n",
       "    }\n",
       "</style>\n",
       "<table border=\"1\" class=\"dataframe\">\n",
       "  <thead>\n",
       "    <tr style=\"text-align: right;\">\n",
       "      <th></th>\n",
       "      <th>Start</th>\n",
       "      <th>End</th>\n",
       "      <th>Open</th>\n",
       "      <th>High</th>\n",
       "      <th>Low</th>\n",
       "      <th>Close</th>\n",
       "      <th>Volume</th>\n",
       "      <th>Market Cap</th>\n",
       "    </tr>\n",
       "  </thead>\n",
       "  <tbody>\n",
       "    <tr>\n",
       "      <th>0</th>\n",
       "      <td>2024-09-19</td>\n",
       "      <td>2024-09-20</td>\n",
       "      <td>200.230327</td>\n",
       "      <td>212.106582</td>\n",
       "      <td>198.374500</td>\n",
       "      <td>205.695640</td>\n",
       "      <td>7.132699e+10</td>\n",
       "      <td>9.150957e+10</td>\n",
       "    </tr>\n",
       "    <tr>\n",
       "      <th>1</th>\n",
       "      <td>2024-09-18</td>\n",
       "      <td>2024-09-19</td>\n",
       "      <td>188.305880</td>\n",
       "      <td>199.477624</td>\n",
       "      <td>184.037433</td>\n",
       "      <td>199.477624</td>\n",
       "      <td>4.713701e+10</td>\n",
       "      <td>8.460954e+10</td>\n",
       "    </tr>\n",
       "    <tr>\n",
       "      <th>2</th>\n",
       "      <td>2024-09-17</td>\n",
       "      <td>2024-09-18</td>\n",
       "      <td>182.005667</td>\n",
       "      <td>189.902632</td>\n",
       "      <td>179.929701</td>\n",
       "      <td>187.779677</td>\n",
       "      <td>4.191690e+10</td>\n",
       "      <td>8.099784e+10</td>\n",
       "    </tr>\n",
       "    <tr>\n",
       "      <th>3</th>\n",
       "      <td>2024-09-16</td>\n",
       "      <td>2024-09-17</td>\n",
       "      <td>189.331293</td>\n",
       "      <td>189.331293</td>\n",
       "      <td>178.401239</td>\n",
       "      <td>182.249198</td>\n",
       "      <td>5.452660e+10</td>\n",
       "      <td>7.791811e+10</td>\n",
       "    </tr>\n",
       "    <tr>\n",
       "      <th>4</th>\n",
       "      <td>2024-09-15</td>\n",
       "      <td>2024-09-16</td>\n",
       "      <td>194.384816</td>\n",
       "      <td>201.122540</td>\n",
       "      <td>188.887849</td>\n",
       "      <td>189.929580</td>\n",
       "      <td>4.570792e+10</td>\n",
       "      <td>8.292824e+10</td>\n",
       "    </tr>\n",
       "    <tr>\n",
       "      <th>...</th>\n",
       "      <td>...</td>\n",
       "      <td>...</td>\n",
       "      <td>...</td>\n",
       "      <td>...</td>\n",
       "      <td>...</td>\n",
       "      <td>...</td>\n",
       "      <td>...</td>\n",
       "      <td>...</td>\n",
       "    </tr>\n",
       "    <tr>\n",
       "      <th>419</th>\n",
       "      <td>2023-07-28</td>\n",
       "      <td>2023-07-29</td>\n",
       "      <td>266.303801</td>\n",
       "      <td>286.533403</td>\n",
       "      <td>264.554328</td>\n",
       "      <td>285.644185</td>\n",
       "      <td>6.007178e+10</td>\n",
       "      <td>2.919856e+10</td>\n",
       "    </tr>\n",
       "    <tr>\n",
       "      <th>420</th>\n",
       "      <td>2023-07-27</td>\n",
       "      <td>2023-07-28</td>\n",
       "      <td>287.676920</td>\n",
       "      <td>295.834139</td>\n",
       "      <td>268.693036</td>\n",
       "      <td>269.989743</td>\n",
       "      <td>9.477407e+10</td>\n",
       "      <td>2.970630e+10</td>\n",
       "    </tr>\n",
       "    <tr>\n",
       "      <th>421</th>\n",
       "      <td>2023-07-26</td>\n",
       "      <td>2023-07-27</td>\n",
       "      <td>293.852710</td>\n",
       "      <td>321.444574</td>\n",
       "      <td>282.445740</td>\n",
       "      <td>289.173453</td>\n",
       "      <td>1.894057e+11</td>\n",
       "      <td>3.163373e+10</td>\n",
       "    </tr>\n",
       "    <tr>\n",
       "      <th>422</th>\n",
       "      <td>2023-07-25</td>\n",
       "      <td>2023-07-26</td>\n",
       "      <td>278.619394</td>\n",
       "      <td>309.644293</td>\n",
       "      <td>245.956788</td>\n",
       "      <td>293.075495</td>\n",
       "      <td>1.737368e+11</td>\n",
       "      <td>2.890207e+10</td>\n",
       "    </tr>\n",
       "    <tr>\n",
       "      <th>423</th>\n",
       "      <td>2023-07-24</td>\n",
       "      <td>2023-07-25</td>\n",
       "      <td>232.927358</td>\n",
       "      <td>414.103163</td>\n",
       "      <td>227.284983</td>\n",
       "      <td>283.325462</td>\n",
       "      <td>6.015643e+10</td>\n",
       "      <td>2.903896e+10</td>\n",
       "    </tr>\n",
       "  </tbody>\n",
       "</table>\n",
       "<p>424 rows × 8 columns</p>\n",
       "</div>"
      ],
      "text/plain": [
       "         Start        End        Open        High         Low       Close  \\\n",
       "0   2024-09-19 2024-09-20  200.230327  212.106582  198.374500  205.695640   \n",
       "1   2024-09-18 2024-09-19  188.305880  199.477624  184.037433  199.477624   \n",
       "2   2024-09-17 2024-09-18  182.005667  189.902632  179.929701  187.779677   \n",
       "3   2024-09-16 2024-09-17  189.331293  189.331293  178.401239  182.249198   \n",
       "4   2024-09-15 2024-09-16  194.384816  201.122540  188.887849  189.929580   \n",
       "..         ...        ...         ...         ...         ...         ...   \n",
       "419 2023-07-28 2023-07-29  266.303801  286.533403  264.554328  285.644185   \n",
       "420 2023-07-27 2023-07-28  287.676920  295.834139  268.693036  269.989743   \n",
       "421 2023-07-26 2023-07-27  293.852710  321.444574  282.445740  289.173453   \n",
       "422 2023-07-25 2023-07-26  278.619394  309.644293  245.956788  293.075495   \n",
       "423 2023-07-24 2023-07-25  232.927358  414.103163  227.284983  283.325462   \n",
       "\n",
       "           Volume    Market Cap  \n",
       "0    7.132699e+10  9.150957e+10  \n",
       "1    4.713701e+10  8.460954e+10  \n",
       "2    4.191690e+10  8.099784e+10  \n",
       "3    5.452660e+10  7.791811e+10  \n",
       "4    4.570792e+10  8.292824e+10  \n",
       "..            ...           ...  \n",
       "419  6.007178e+10  2.919856e+10  \n",
       "420  9.477407e+10  2.970630e+10  \n",
       "421  1.894057e+11  3.163373e+10  \n",
       "422  1.737368e+11  2.890207e+10  \n",
       "423  6.015643e+10  2.903896e+10  \n",
       "\n",
       "[424 rows x 8 columns]"
      ]
     },
     "execution_count": 4,
     "metadata": {},
     "output_type": "execute_result"
    }
   ],
   "source": [
    "df"
   ]
  },
  {
   "cell_type": "code",
   "execution_count": 5,
   "metadata": {},
   "outputs": [
    {
     "data": {
      "text/html": [
       "<div>\n",
       "<style scoped>\n",
       "    .dataframe tbody tr th:only-of-type {\n",
       "        vertical-align: middle;\n",
       "    }\n",
       "\n",
       "    .dataframe tbody tr th {\n",
       "        vertical-align: top;\n",
       "    }\n",
       "\n",
       "    .dataframe thead th {\n",
       "        text-align: right;\n",
       "    }\n",
       "</style>\n",
       "<table border=\"1\" class=\"dataframe\">\n",
       "  <thead>\n",
       "    <tr style=\"text-align: right;\">\n",
       "      <th></th>\n",
       "      <th>Start</th>\n",
       "      <th>End</th>\n",
       "      <th>Open</th>\n",
       "      <th>High</th>\n",
       "      <th>Low</th>\n",
       "      <th>Close</th>\n",
       "      <th>Volume</th>\n",
       "      <th>Market Cap</th>\n",
       "    </tr>\n",
       "  </thead>\n",
       "  <tbody>\n",
       "    <tr>\n",
       "      <th>count</th>\n",
       "      <td>424</td>\n",
       "      <td>424</td>\n",
       "      <td>424.000000</td>\n",
       "      <td>424.000000</td>\n",
       "      <td>424.000000</td>\n",
       "      <td>424.000000</td>\n",
       "      <td>4.240000e+02</td>\n",
       "      <td>4.240000e+02</td>\n",
       "    </tr>\n",
       "    <tr>\n",
       "      <th>mean</th>\n",
       "      <td>2024-02-20 12:00:00</td>\n",
       "      <td>2024-02-21 12:00:00</td>\n",
       "      <td>422.287500</td>\n",
       "      <td>446.349520</td>\n",
       "      <td>401.010156</td>\n",
       "      <td>422.242953</td>\n",
       "      <td>8.737347e+10</td>\n",
       "      <td>7.107264e+10</td>\n",
       "    </tr>\n",
       "    <tr>\n",
       "      <th>min</th>\n",
       "      <td>2023-07-24 00:00:00</td>\n",
       "      <td>2023-07-25 00:00:00</td>\n",
       "      <td>129.619325</td>\n",
       "      <td>133.331179</td>\n",
       "      <td>125.152690</td>\n",
       "      <td>129.415215</td>\n",
       "      <td>1.123129e+10</td>\n",
       "      <td>1.693024e+10</td>\n",
       "    </tr>\n",
       "    <tr>\n",
       "      <th>25%</th>\n",
       "      <td>2023-11-06 18:00:00</td>\n",
       "      <td>2023-11-07 18:00:00</td>\n",
       "      <td>218.517456</td>\n",
       "      <td>230.820458</td>\n",
       "      <td>210.090993</td>\n",
       "      <td>217.130127</td>\n",
       "      <td>3.674172e+10</td>\n",
       "      <td>3.102822e+10</td>\n",
       "    </tr>\n",
       "    <tr>\n",
       "      <th>50%</th>\n",
       "      <td>2024-02-20 12:00:00</td>\n",
       "      <td>2024-02-21 12:00:00</td>\n",
       "      <td>308.464743</td>\n",
       "      <td>323.966392</td>\n",
       "      <td>297.653284</td>\n",
       "      <td>307.904462</td>\n",
       "      <td>5.844040e+10</td>\n",
       "      <td>4.796545e+10</td>\n",
       "    </tr>\n",
       "    <tr>\n",
       "      <th>75%</th>\n",
       "      <td>2024-06-05 06:00:00</td>\n",
       "      <td>2024-06-06 06:00:00</td>\n",
       "      <td>595.976495</td>\n",
       "      <td>618.266430</td>\n",
       "      <td>559.790348</td>\n",
       "      <td>597.448441</td>\n",
       "      <td>9.734026e+10</td>\n",
       "      <td>1.185528e+11</td>\n",
       "    </tr>\n",
       "    <tr>\n",
       "      <th>max</th>\n",
       "      <td>2024-09-19 00:00:00</td>\n",
       "      <td>2024-09-20 00:00:00</td>\n",
       "      <td>1498.359952</td>\n",
       "      <td>1512.852501</td>\n",
       "      <td>1209.552481</td>\n",
       "      <td>1487.117949</td>\n",
       "      <td>6.083079e+11</td>\n",
       "      <td>1.928213e+11</td>\n",
       "    </tr>\n",
       "    <tr>\n",
       "      <th>std</th>\n",
       "      <td>NaN</td>\n",
       "      <td>NaN</td>\n",
       "      <td>281.727724</td>\n",
       "      <td>300.963429</td>\n",
       "      <td>263.341215</td>\n",
       "      <td>281.658838</td>\n",
       "      <td>9.200615e+10</td>\n",
       "      <td>4.957433e+10</td>\n",
       "    </tr>\n",
       "  </tbody>\n",
       "</table>\n",
       "</div>"
      ],
      "text/plain": [
       "                     Start                  End         Open         High  \\\n",
       "count                  424                  424   424.000000   424.000000   \n",
       "mean   2024-02-20 12:00:00  2024-02-21 12:00:00   422.287500   446.349520   \n",
       "min    2023-07-24 00:00:00  2023-07-25 00:00:00   129.619325   133.331179   \n",
       "25%    2023-11-06 18:00:00  2023-11-07 18:00:00   218.517456   230.820458   \n",
       "50%    2024-02-20 12:00:00  2024-02-21 12:00:00   308.464743   323.966392   \n",
       "75%    2024-06-05 06:00:00  2024-06-06 06:00:00   595.976495   618.266430   \n",
       "max    2024-09-19 00:00:00  2024-09-20 00:00:00  1498.359952  1512.852501   \n",
       "std                    NaN                  NaN   281.727724   300.963429   \n",
       "\n",
       "               Low        Close        Volume    Market Cap  \n",
       "count   424.000000   424.000000  4.240000e+02  4.240000e+02  \n",
       "mean    401.010156   422.242953  8.737347e+10  7.107264e+10  \n",
       "min     125.152690   129.415215  1.123129e+10  1.693024e+10  \n",
       "25%     210.090993   217.130127  3.674172e+10  3.102822e+10  \n",
       "50%     297.653284   307.904462  5.844040e+10  4.796545e+10  \n",
       "75%     559.790348   597.448441  9.734026e+10  1.185528e+11  \n",
       "max    1209.552481  1487.117949  6.083079e+11  1.928213e+11  \n",
       "std     263.341215   281.658838  9.200615e+10  4.957433e+10  "
      ]
     },
     "execution_count": 5,
     "metadata": {},
     "output_type": "execute_result"
    }
   ],
   "source": [
    "df.describe()"
   ]
  },
  {
   "cell_type": "code",
   "execution_count": 6,
   "metadata": {},
   "outputs": [
    {
     "name": "stdout",
     "output_type": "stream",
     "text": [
      "<class 'pandas.core.frame.DataFrame'>\n",
      "RangeIndex: 424 entries, 0 to 423\n",
      "Data columns (total 8 columns):\n",
      " #   Column      Non-Null Count  Dtype         \n",
      "---  ------      --------------  -----         \n",
      " 0   Start       424 non-null    datetime64[ns]\n",
      " 1   End         424 non-null    datetime64[ns]\n",
      " 2   Open        424 non-null    float64       \n",
      " 3   High        424 non-null    float64       \n",
      " 4   Low         424 non-null    float64       \n",
      " 5   Close       424 non-null    float64       \n",
      " 6   Volume      424 non-null    float64       \n",
      " 7   Market Cap  424 non-null    float64       \n",
      "dtypes: datetime64[ns](2), float64(6)\n",
      "memory usage: 26.6 KB\n"
     ]
    }
   ],
   "source": [
    "df.info()"
   ]
  },
  {
   "cell_type": "markdown",
   "metadata": {},
   "source": [
    "### EDA"
   ]
  },
  {
   "cell_type": "code",
   "execution_count": 7,
   "metadata": {},
   "outputs": [
    {
     "data": {
      "image/png": "[encoded data removed]",
      "text/plain": [
       "<Figure size 1000x600 with 1 Axes>"
      ]
     },
     "metadata": {},
     "output_type": "display_data"
    }
   ],
   "source": [
    "# Plot the distribution of the target variable 'Close'\n",
    "plt.figure(figsize=(10, 6))\n",
    "sns.histplot(df['Close'], bins=20, kde=True)\n",
    "plt.title('Distribution of Close Price')\n",
    "plt.xlabel('Close Price')\n",
    "plt.ylabel('Frequency')\n",
    "plt.show()"
   ]
  },
  {
   "cell_type": "code",
   "execution_count": 8,
   "metadata": {},
   "outputs": [
    {
     "data": {
      "image/png": "[encoded data removed]",
      "text/plain": [
       "<Figure size 1200x600 with 1 Axes>"
      ]
     },
     "metadata": {},
     "output_type": "display_data"
    }
   ],
   "source": [
    "# Plot time series of 'Close' price\n",
    "plt.figure(figsize=(12, 6))\n",
    "plt.plot(df['End'], df['Close'], linestyle='-')\n",
    "plt.title('Time Series of Close Price')\n",
    "plt.xlabel('Date')\n",
    "plt.ylabel('Close Price')\n",
    "plt.xticks(rotation=45)\n",
    "plt.grid(True)\n",
    "plt.show()"
   ]
  },
  {
   "cell_type": "markdown",
   "metadata": {},
   "source": [
    "### Model Development"
   ]
  },
  {
   "cell_type": "code",
   "execution_count": 9,
   "metadata": {},
   "outputs": [],
   "source": [
    "X = df[[\"Open\", \"High\", \"Low\", \"Volume\", \"Market Cap\"]]\n",
    "y = df[\"Close\"]\n",
    "\n",
    "X_train, X_test, y_train, y_test = train_test_split(X, y, test_size=0.2, random_state=42)"
   ]
  },
  {
   "cell_type": "code",
   "execution_count": 10,
   "metadata": {},
   "outputs": [
    {
     "data": {
      "text/html": [
       "<style>#sk-container-id-1 {color: black;}#sk-container-id-1 pre{padding: 0;}#sk-container-id-1 div.sk-toggleable {background-color: white;}#sk-container-id-1 label.sk-toggleable__label {cursor: pointer;display: block;width: 100%;margin-bottom: 0;padding: 0.3em;box-sizing: border-box;text-align: center;}#sk-container-id-1 label.sk-toggleable__label-arrow:before {content: \"▸\";float: left;margin-right: 0.25em;color: #696969;}#sk-container-id-1 label.sk-toggleable__label-arrow:hover:before {color: black;}#sk-container-id-1 div.sk-estimator:hover label.sk-toggleable__label-arrow:before {color: black;}#sk-container-id-1 div.sk-toggleable__content {max-height: 0;max-width: 0;overflow: hidden;text-align: left;background-color: #f0f8ff;}#sk-container-id-1 div.sk-toggleable__content pre {margin: 0.2em;color: black;border-radius: 0.25em;background-color: #f0f8ff;}#sk-container-id-1 input.sk-toggleable__control:checked~div.sk-toggleable__content {max-height: 200px;max-width: 100%;overflow: auto;}#sk-container-id-1 input.sk-toggleable__control:checked~label.sk-toggleable__label-arrow:before {content: \"▾\";}#sk-container-id-1 div.sk-estimator input.sk-toggleable__control:checked~label.sk-toggleable__label {background-color: #d4ebff;}#sk-container-id-1 div.sk-label input.sk-toggleable__control:checked~label.sk-toggleable__label {background-color: #d4ebff;}#sk-container-id-1 input.sk-hidden--visually {border: 0;clip: rect(1px 1px 1px 1px);clip: rect(1px, 1px, 1px, 1px);height: 1px;margin: -1px;overflow: hidden;padding: 0;position: absolute;width: 1px;}#sk-container-id-1 div.sk-estimator {font-family: monospace;background-color: #f0f8ff;border: 1px dotted black;border-radius: 0.25em;box-sizing: border-box;margin-bottom: 0.5em;}#sk-container-id-1 div.sk-estimator:hover {background-color: #d4ebff;}#sk-container-id-1 div.sk-parallel-item::after {content: \"\";width: 100%;border-bottom: 1px solid gray;flex-grow: 1;}#sk-container-id-1 div.sk-label:hover label.sk-toggleable__label {background-color: #d4ebff;}#sk-container-id-1 div.sk-serial::before {content: \"\";position: absolute;border-left: 1px solid gray;box-sizing: border-box;top: 0;bottom: 0;left: 50%;z-index: 0;}#sk-container-id-1 div.sk-serial {display: flex;flex-direction: column;align-items: center;background-color: white;padding-right: 0.2em;padding-left: 0.2em;position: relative;}#sk-container-id-1 div.sk-item {position: relative;z-index: 1;}#sk-container-id-1 div.sk-parallel {display: flex;align-items: stretch;justify-content: center;background-color: white;position: relative;}#sk-container-id-1 div.sk-item::before, #sk-container-id-1 div.sk-parallel-item::before {content: \"\";position: absolute;border-left: 1px solid gray;box-sizing: border-box;top: 0;bottom: 0;left: 50%;z-index: -1;}#sk-container-id-1 div.sk-parallel-item {display: flex;flex-direction: column;z-index: 1;position: relative;background-color: white;}#sk-container-id-1 div.sk-parallel-item:first-child::after {align-self: flex-end;width: 50%;}#sk-container-id-1 div.sk-parallel-item:last-child::after {align-self: flex-start;width: 50%;}#sk-container-id-1 div.sk-parallel-item:only-child::after {width: 0;}#sk-container-id-1 div.sk-dashed-wrapped {border: 1px dashed gray;margin: 0 0.4em 0.5em 0.4em;box-sizing: border-box;padding-bottom: 0.4em;background-color: white;}#sk-container-id-1 div.sk-label label {font-family: monospace;font-weight: bold;display: inline-block;line-height: 1.2em;}#sk-container-id-1 div.sk-label-container {text-align: center;}#sk-container-id-1 div.sk-container {/* jupyter's `normalize.less` sets `[hidden] { display: none; }` but bootstrap.min.css set `[hidden] { display: none !important; }` so we also need the `!important` here to be able to override the default hidden behavior on the sphinx rendered scikit-learn.org. See: https://github.com/scikit-learn/scikit-learn/issues/21755 */display: inline-block !important;position: relative;}#sk-container-id-1 div.sk-text-repr-fallback {display: none;}</style><div id=\"sk-container-id-1\" class=\"sk-top-container\"><div class=\"sk-text-repr-fallback\"><pre>RandomForestRegressor(random_state=42)</pre><b>In a Jupyter environment, please rerun this cell to show the HTML representation or trust the notebook. <br />On GitHub, the HTML representation is unable to render, please try loading this page with nbviewer.org.</b></div><div class=\"sk-container\" hidden><div class=\"sk-item\"><div class=\"sk-estimator sk-toggleable\"><input class=\"sk-toggleable__control sk-hidden--visually\" id=\"sk-estimator-id-1\" type=\"checkbox\" checked><label for=\"sk-estimator-id-1\" class=\"sk-toggleable__label sk-toggleable__label-arrow\">RandomForestRegressor</label><div class=\"sk-toggleable__content\"><pre>RandomForestRegressor(random_state=42)</pre></div></div></div></div></div>"
      ],
      "text/plain": [
       "RandomForestRegressor(random_state=42)"
      ]
     },
     "execution_count": 10,
     "metadata": {},
     "output_type": "execute_result"
    }
   ],
   "source": [
    "\n",
    "model = RandomForestRegressor(random_state=42)\n",
    "\n",
    "model.fit(X_train, y_train)"
   ]
  },
  {
   "cell_type": "code",
   "execution_count": 11,
   "metadata": {},
   "outputs": [
    {
     "name": "stdout",
     "output_type": "stream",
     "text": [
      "Mean Squared Error: 1613.57430106812\n"
     ]
    }
   ],
   "source": [
    "\n",
    "y_pred = model.predict(X_test)\n",
    "\n",
    "mse = mean_squared_error(y_test, y_pred)\n",
    "\n",
    "print(\"Mean Squared Error:\",mse)"
   ]
  },
  {
   "cell_type": "code",
   "execution_count": 12,
   "metadata": {},
   "outputs": [
    {
     "name": "stdout",
     "output_type": "stream",
     "text": [
      "Linear Regression Mean Squared Error: 393.37691787908096\n",
      "Gradient Boosting Mean Squared Error: 946.916061800974\n",
      "Support Vector Regressor Mean Squared Error: 69349.34224291543\n"
     ]
    }
   ],
   "source": [
    "\n",
    "# Initialize the models\n",
    "linear_reg_model = LinearRegression()\n",
    "gradient_boosting_model = GradientBoostingRegressor(random_state=42)\n",
    "svr_model = SVR()\n",
    "\n",
    "# Train the models\n",
    "linear_reg_model.fit(X_train, y_train)\n",
    "gradient_boosting_model.fit(X_train, y_train)\n",
    "svr_model.fit(X_train, y_train)\n",
    "\n",
    "# Make predictions\n",
    "linear_reg_predictions = linear_reg_model.predict(X_test)\n",
    "gradient_boosting_predictions = gradient_boosting_model.predict(X_test)\n",
    "svr_predictions = svr_model.predict(X_test)\n",
    "\n",
    "# Evaluate the models\n",
    "linear_reg_mse = mean_squared_error(y_test, linear_reg_predictions)\n",
    "gradient_boosting_mse = mean_squared_error(y_test, gradient_boosting_predictions)\n",
    "svr_mse = mean_squared_error(y_test, svr_predictions)\n",
    "\n",
    "print(\"Linear Regression Mean Squared Error:\", linear_reg_mse)\n",
    "print(\"Gradient Boosting Mean Squared Error:\", gradient_boosting_mse)\n",
    "print(\"Support Vector Regressor Mean Squared Error:\", svr_mse)\n"
   ]
  },
  {
   "cell_type": "markdown",
   "metadata": {},
   "source": [
    "### Testing the models"
   ]
  },
  {
   "cell_type": "code",
   "execution_count": 13,
   "metadata": {},
   "outputs": [
    {
     "name": "stdout",
     "output_type": "stream",
     "text": [
      "Please provide input for the trained model:\n"
     ]
    },
    {
     "ename": "ValueError",
     "evalue": "could not convert string to float: ''",
     "output_type": "error",
     "traceback": [
      "\u001b[1;31m---------------------------------------------------------------------------\u001b[0m",
      "\u001b[1;31mValueError\u001b[0m                                Traceback (most recent call last)",
      "Cell \u001b[1;32mIn[13], line 3\u001b[0m\n\u001b[0;32m      1\u001b[0m \u001b[38;5;66;03m# Request input for the trained model\u001b[39;00m\n\u001b[0;32m      2\u001b[0m \u001b[38;5;28mprint\u001b[39m(\u001b[38;5;124m\"\u001b[39m\u001b[38;5;124mPlease provide input for the trained model:\u001b[39m\u001b[38;5;124m\"\u001b[39m)\n\u001b[1;32m----> 3\u001b[0m open_price \u001b[38;5;241m=\u001b[39m \u001b[38;5;28;43mfloat\u001b[39;49m\u001b[43m(\u001b[49m\u001b[38;5;28;43minput\u001b[39;49m\u001b[43m(\u001b[49m\u001b[38;5;124;43m\"\u001b[39;49m\u001b[38;5;124;43mEnter the opening price: \u001b[39;49m\u001b[38;5;124;43m\"\u001b[39;49m\u001b[43m)\u001b[49m\u001b[43m)\u001b[49m\n\u001b[0;32m      4\u001b[0m high_price \u001b[38;5;241m=\u001b[39m \u001b[38;5;28mfloat\u001b[39m(\u001b[38;5;28minput\u001b[39m(\u001b[38;5;124m\"\u001b[39m\u001b[38;5;124mEnter the highest price: \u001b[39m\u001b[38;5;124m\"\u001b[39m))\n\u001b[0;32m      5\u001b[0m low_price \u001b[38;5;241m=\u001b[39m \u001b[38;5;28mfloat\u001b[39m(\u001b[38;5;28minput\u001b[39m(\u001b[38;5;124m\"\u001b[39m\u001b[38;5;124mEnter the lowest price: \u001b[39m\u001b[38;5;124m\"\u001b[39m))\n",
      "\u001b[1;31mValueError\u001b[0m: could not convert string to float: ''"
     ]
    }
   ],
   "source": [
    "# Request input for the trained model\n",
    "print(\"Please provide input for the trained model:\")\n",
    "open_price = float(input(\"Enter the opening price: \"))\n",
    "high_price = float(input(\"Enter the highest price: \"))\n",
    "low_price = float(input(\"Enter the lowest price: \"))\n",
    "volume = float(input(\"Enter the volume: \"))\n",
    "market_cap = float(input(\"Enter the market cap: \"))\n",
    "\n",
    "# Create a DataFrame with the input data\n",
    "input_data = {\n",
    "    \"Open\": [open_price],\n",
    "    \"High\": [high_price],\n",
    "    \"Low\": [low_price],\n",
    "    \"Volume\": [volume],\n",
    "    \"Market Cap\": [market_cap]\n",
    "}\n",
    "\n",
    "input_df = pd.DataFrame(input_data)\n",
    "\n",
    "# Make prediction using the trained model\n",
    "prediction = model.predict(input_df)\n",
    "print(\"Predicted Close Price:\", prediction)\n"
   ]
  },
  {
   "cell_type": "code",
   "execution_count": null,
   "metadata": {},
   "outputs": [],
   "source": [
    "# Request input for the trained model\n",
    "print(\"Please provide input for the trained model:\")\n",
    "open_price = float(input(\"Enter the opening price: \"))\n",
    "high_price = float(input(\"Enter the highest price: \"))\n",
    "low_price = float(input(\"Enter the lowest price: \"))\n",
    "volume = float(input(\"Enter the volume: \"))\n",
    "market_cap = float(input(\"Enter the market cap: \"))\n",
    "\n",
    "# Create a DataFrame with the input data\n",
    "input_data = {\n",
    "    \"Open\": [open_price],\n",
    "    \"High\": [high_price],\n",
    "    \"Low\": [low_price],\n",
    "    \"Volume\": [volume],\n",
    "    \"Market Cap\": [market_cap]\n",
    "}\n",
    "\n",
    "input_df = pd.DataFrame(input_data)\n",
    "\n",
    "# Make prediction using the trained model\n",
    "prediction = linear_reg_model.predict(input_df)\n",
    "print(\"Predicted Close Price:\", prediction)\n"
   ]
  }
 ],
 "metadata": {
  "kernelspec": {
   "display_name": "learn_env",
   "language": "python",
   "name": "python3"
  },
  "language_info": {
   "codemirror_mode": {
    "name": "ipython",
    "version": 3
   },
   "file_extension": ".py",
   "mimetype": "text/x-python",
   "name": "python",
   "nbconvert_exporter": "python",
   "pygments_lexer": "ipython3",
   "version": "3.8.15"
  }
 },
 "nbformat": 4,
 "nbformat_minor": 2
}
